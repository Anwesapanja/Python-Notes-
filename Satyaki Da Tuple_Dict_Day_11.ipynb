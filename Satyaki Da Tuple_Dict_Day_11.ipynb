{
 "cells": [
  {
   "cell_type": "code",
   "execution_count": 1,
   "id": "f5013922-903d-4ef3-af94-21fdf836048f",
   "metadata": {},
   "outputs": [],
   "source": [
    "## use of Dictionary: for extracting meterial from large meterial-------------------\n",
    "##--------------------------------------"
   ]
  },
  {
   "cell_type": "code",
   "execution_count": 2,
   "id": "9b1d3cf4-e502-4414-8ea5-1595469d9a1b",
   "metadata": {},
   "outputs": [],
   "source": [
    "Student={\n",
    "    1:{\n",
    "        \"name\":\"Astha Sarkar\",\n",
    "        \"age\":20,\n",
    "        \"grades\":{\"Math\":88,\"Physics\":92,\"Chemistry\":85},\n",
    "        \"address\":{\n",
    "                \"street\":\"123 College St\",\n",
    "                \"city\":\"Kolkata\",\n",
    "                \"state\":\"West bengal\",\n",
    "                \"zip\":\"700001\"\n",
    "        }\n",
    "    }, \n",
    "\n",
    "        2:{\n",
    "            \"name\":\"Raj Malhotra\",\n",
    "            \"age\":21,\n",
    "            \"grades\":{\"Math\":76,\"Physics\":85,\"Chemistry\":90},\n",
    "            \"address\":{\n",
    "                \"street\":\"456 Lake Rd\",\n",
    "                \"city\":\"Mumbai\",\n",
    "                \"state\":\"Maharasthra\",\n",
    "                \"zip\":\"400001\"\n",
    "            }\n",
    "        },\n",
    "        3:{\n",
    "            \"name\":\"Riya Sen\",\n",
    "            \"age\":22,\n",
    "            \"grades\":{\"Math\":90,\"Physics\":91,\"Chemistry\":89},\n",
    "            \"address\":{\n",
    "                \"street\":\"789 Park Ave\",\n",
    "                \"city\":\"Delhi\",\n",
    "                \"state\":\"Delhi\",\n",
    "                \"zip\":\"110001\"\n",
    "            }\n",
    "        },\n",
    "        4:{\n",
    "            \"name\":\"Amit Sharma\",\n",
    "            \"age\":23,\n",
    "            \"grades\":{\"Math\":82,\"Physics\":78,\"Chemistry\":88},\n",
    "            \"address\":{\n",
    "                \"street\":\"101 River St\",\n",
    "                \"city\":\"Pune\",\n",
    "                \"state\":\"Maharasthra\",\n",
    "                \"zip\":\"411001\"\n",
    "            }\n",
    "        },\n",
    "        5:{\n",
    "            \"name\":\"Neha Gupta\",\n",
    "            \"age\":20,\n",
    "            \"grades\":{\"Math\":95,\"Physics\":87,\"Chemistry\":90},\n",
    "            \"address\":{\n",
    "                \"street\":\"202 Hill Rd\",\n",
    "                \"city\":\"Jaipur\",\n",
    "                \"state\":\"Rajasthan\",\n",
    "                \"zip\":\"302001\"\n",
    "            }\n",
    "        },\n",
    "        6:{\n",
    "            \"name\":\"Ankit Roy\",\n",
    "            \"age\":19,\n",
    "            \"grades\":{\"Math\":79,\"Physics\":82,\"Chemistry\":80},\n",
    "            \"address\":{\n",
    "                \"street\":\"303 Queen St\",\n",
    "                \"city\":\"Chennai\",\n",
    "                \"state\":\"Tamil Nadu\",\n",
    "                \"zip\":\"600001\"\n",
    "            }\n",
    "        }, \n",
    "        7:{\n",
    "            \"name\":\"priya Mehta\",\n",
    "            \"age\":22,\n",
    "            \"grades\":{\"Math\":89,\"Physics\":85,\"Chemistry\":84},\n",
    "            \"address\":{\n",
    "                \"street\":\"404 Spring Ln\",\n",
    "                \"city\":\"Banglore\",\n",
    "                \"state\":\"Karnataka\",\n",
    "                \"zip\":\"560001\"\n",
    "            }\n",
    "        },\n",
    "            8:{\n",
    "                \"name\":\"Arjun Nair\",\n",
    "            \"age\":21,\n",
    "            \"grades\":{\"Math\":92,\"Physics\":90,\"Chemistry\":88},\n",
    "            \"address\":{\n",
    "                \"street\":\"505 Green Ave\",\n",
    "                \"city\":\"Hyderabad\",\n",
    "                \"state\":\"Telangana\",\n",
    "                \"zip\":\"500001\"\n",
    "            }\n",
    "            },     \n",
    "        9:{\n",
    "            \"name\":\"Sana Khan\",\n",
    "            \"age\":20,\n",
    "            \"grades\":{\"Math\":86,\"Physics\":80,\"Chemistry\":82},\n",
    "            \"address\":{\n",
    "                \"street\":\"606 park st\",\n",
    "                \"city\":\"Ahmedabad\",\n",
    "                \"state\":\"Gujarat\",\n",
    "                \"zip\":\"380001\"\n",
    "            }\n",
    "        }, \n",
    "        10:\n",
    "            {\n",
    "            \"name\":\"Rohit Das\",\n",
    "            \"age\":23,\n",
    "            \"grades\":{\"Math\":91,\"Physics\":88,\"Chemistry\":90},\n",
    "            \"address\":{\n",
    "                \"street\":\"707 Willow Dr\",\n",
    "                \"city\":\"Lucknow\",\n",
    "                \"state\":\"Uttar Pradesh\",\n",
    "                \"zip\":\"226001\"\n",
    "            }\n",
    "            }\n",
    "}"
   ]
  },
  {
   "cell_type": "code",
   "execution_count": 20,
   "id": "172a59ae-fa81-478c-bb25-e55b5f9acff6",
   "metadata": {},
   "outputs": [],
   "source": [
    "## format:--\n",
    "#NAME\n",
    "####Age:\n",
    "#Grades:Avg(91+88+90)/3\n",
    "####Zip:"
   ]
  },
  {
   "cell_type": "code",
   "execution_count": 21,
   "id": "86df03f8-b1a8-44e2-acdb-fc7ad546ef8d",
   "metadata": {},
   "outputs": [
    {
     "data": {
      "text/plain": [
       "{'name': 'Astha Sarkar',\n",
       " 'age': 20,\n",
       " 'grades': {'Math': 88, 'Physics': 92, 'Chemistry': 85},\n",
       " 'address': {'street': '123 College St',\n",
       "  'city': 'Kolkata',\n",
       "  'state': 'West bengal',\n",
       "  'zip': '700001'}}"
      ]
     },
     "execution_count": 21,
     "metadata": {},
     "output_type": "execute_result"
    }
   ],
   "source": [
    "## First\n",
    "Student[1]"
   ]
  },
  {
   "cell_type": "code",
   "execution_count": 22,
   "id": "b66f3963-2f46-453f-8ad9-542de76c9357",
   "metadata": {},
   "outputs": [
    {
     "data": {
      "text/plain": [
       "'Astha Sarkar'"
      ]
     },
     "execution_count": 22,
     "metadata": {},
     "output_type": "execute_result"
    }
   ],
   "source": [
    "Student[1]['name']\n",
    "## format:--\n",
    "#NAME\n",
    "####Age:\n",
    "#Grades:Avg(91+88+90)/3\n",
    "####Zip:"
   ]
  },
  {
   "cell_type": "code",
   "execution_count": 55,
   "id": "e52d1a50-833e-4730-a800-e6ac834b74e4",
   "metadata": {},
   "outputs": [
    {
     "name": "stdout",
     "output_type": "stream",
     "text": [
      "Name: Astha Sarkar\n",
      "Age 20\n",
      "All marks: 265\n",
      "Average marks 88.33333333333333\n",
      "Address Name: 123 College St\n",
      "Adress City: Kolkata\n",
      "Address state: West bengal\n",
      "Address Zip: 700001\n"
     ]
    }
   ],
   "source": [
    "print(\"Name:\", Student[1]['name'])\n",
    "print(\"Age\", Student[1]['age'])\n",
    "## we need avg\n",
    "print(\"All marks:\",sum(list(Student[1]['grades'].values())))\n",
    "print(\"Average marks\",sum(list(Student[1]['grades'].values()))/len(Student[1]['grades'].values()))\n",
    "print(\"Address Name:\", Student[1]['address']['street'])\n",
    "print(\"Adress City:\",Student[1]['address']['city'])\n",
    "print('Address state:',Student[1]['address']['state'])\n",
    "print(\"Address Zip:\", Student[1]['address']['zip'])"
   ]
  },
  {
   "cell_type": "code",
   "execution_count": null,
   "id": "3f0774c4-d775-461c-9f51-c236dc107c62",
   "metadata": {},
   "outputs": [],
   "source": []
  },
  {
   "cell_type": "code",
   "execution_count": 63,
   "id": "8062ea28-e322-42f5-9e9d-2f3da377a2bf",
   "metadata": {},
   "outputs": [
    {
     "name": "stdout",
     "output_type": "stream",
     "text": [
      "The marks will be: 265\n",
      "The marks will be: 251\n",
      "The marks will be: 270\n",
      "The marks will be: 248\n",
      "The marks will be: 272\n",
      "The marks will be: 241\n",
      "The marks will be: 258\n",
      "The marks will be: 270\n",
      "The marks will be: 248\n",
      "The marks will be: 269\n"
     ]
    }
   ],
   "source": [
    "### all student Total marks:-------------------------\n",
    "#--------------------------------------------------------------------\n",
    "for i in Student:\n",
    "    print(\"The marks will be:\", sum(list(Student[i]['grades'].values())))"
   ]
  },
  {
   "cell_type": "code",
   "execution_count": 65,
   "id": "0698b6b2-ce39-40b5-82d2-fb9ab41fb5e9",
   "metadata": {},
   "outputs": [
    {
     "name": "stdout",
     "output_type": "stream",
     "text": [
      "the marks will be: 1 --- 265\n",
      "the marks will be: 2 --- 251\n",
      "the marks will be: 3 --- 270\n",
      "the marks will be: 4 --- 248\n",
      "the marks will be: 5 --- 272\n",
      "the marks will be: 6 --- 241\n",
      "the marks will be: 7 --- 258\n",
      "the marks will be: 8 --- 270\n",
      "the marks will be: 9 --- 248\n",
      "the marks will be: 10 --- 269\n"
     ]
    }
   ],
   "source": [
    "for i in Student:\n",
    "    print(\"the marks will be:\",i,\"---\" ,sum(list(Student[i]['grades'].values())))"
   ]
  },
  {
   "cell_type": "code",
   "execution_count": 71,
   "id": "3a486087-cf78-4bf7-b92c-9e072a96dfbb",
   "metadata": {},
   "outputs": [
    {
     "name": "stdout",
     "output_type": "stream",
     "text": [
      "the marks will be: 1 --- 265\n",
      "the marks will be: 2 --- 251\n",
      "the marks will be: 3 --- 270\n",
      "the marks will be: 4 --- 248\n",
      "the marks will be: 5 --- 272\n",
      "the marks will be: 6 --- 241\n",
      "the marks will be: 7 --- 258\n",
      "the marks will be: 8 --- 270\n",
      "the marks will be: 9 --- 248\n",
      "the marks will be: 10 --- 269\n",
      "the total will be 2592\n"
     ]
    }
   ],
   "source": [
    "total=0\n",
    "for i in Student:\n",
    "    y=sum(list(Student[i]['grades'].values()))\n",
    "    print(\"the marks will be:\",i,\"---\" ,y)\n",
    "    total+=y\n",
    "print(\"the total will be\",total)"
   ]
  },
  {
   "cell_type": "code",
   "execution_count": 15,
   "id": "6ec1c843-57fa-4d1a-9b97-ed95e0b70b34",
   "metadata": {},
   "outputs": [
    {
     "name": "stdout",
     "output_type": "stream",
     "text": [
      "[265, 251, 270, 248, 272, 241, 258, 270, 248, 269]\n",
      "max element will be:  272\n",
      "max element will be: 272\n"
     ]
    }
   ],
   "source": [
    "## Find out highest marks of the student \n",
    "a=[]\n",
    "for i in Student:\n",
    "    y=sum(list(Student[i]['grades'].values()))  \n",
    "    a.append(y)\n",
    "print(a)\n",
    "print('max element will be: ', max(a))\n",
    "#or------------------------------------\n",
    "a.sort()\n",
    "print('max element will be:', a[-1])\n",
    "    "
   ]
  },
  {
   "cell_type": "code",
   "execution_count": 22,
   "id": "ff4a13b5-8489-43d7-b0cc-14242129ab75",
   "metadata": {},
   "outputs": [
    {
     "name": "stdout",
     "output_type": "stream",
     "text": [
      "('Astha Sarkar', 265)\n",
      "('Raj Malhotra', 251)\n",
      "('Riya Sen', 270)\n",
      "('Amit Sharma', 248)\n",
      "('Neha Gupta', 272)\n",
      "('Ankit Roy', 241)\n",
      "('priya Mehta', 258)\n",
      "('Arjun Nair', 270)\n",
      "('Sana Khan', 248)\n",
      "('Rohit Das', 269)\n"
     ]
    }
   ],
   "source": [
    "## who is gave max marks show his/her details\n",
    "a=[]\n",
    "for i in Student:\n",
    "    y=((Student[i]['name'], sum(list(Student[i]['grades'].values()))))\n",
    "    print(y)"
   ]
  },
  {
   "cell_type": "code",
   "execution_count": 32,
   "id": "b5f1f1f3-7024-42d5-b983-cff3c7e2f7d5",
   "metadata": {},
   "outputs": [
    {
     "name": "stdout",
     "output_type": "stream",
     "text": [
      "[265, 251, 270, 248, 272, 241, 258, 270, 248, 269]\n",
      "heightest marks:-- 272\n",
      "Neha Gupta\n"
     ]
    }
   ],
   "source": [
    "a=[]\n",
    "for i in Student:\n",
    "    names=(Student[i]['name'])\n",
    "    marks=(sum(list(Student[i]['grades'].values())))\n",
    "    a.append(marks)\n",
    "print(a)\n",
    "maxx=max(a)\n",
    "print('heightest marks:--',maxx)\n",
    "#print(names,marks)\n",
    "for i in Student:\n",
    "    names=(Student[i]['name'])\n",
    "    marks=(sum(list(Student[i]['grades'].values())))\n",
    "    if (marks==maxx):\n",
    "        print(names)"
   ]
  },
  {
   "cell_type": "code",
   "execution_count": 34,
   "id": "29fe61e3-1107-403e-9e56-82ebd4f57b09",
   "metadata": {},
   "outputs": [
    {
     "name": "stdout",
     "output_type": "stream",
     "text": [
      "Neha Gupta\n"
     ]
    }
   ],
   "source": [
    "for i in Student:\n",
    "    names=(Student[i]['name'])\n",
    "    marks=(sum(list(Student[i]['grades'].values())))\n",
    "    if marks==272:\n",
    "        print(names)"
   ]
  },
  {
   "cell_type": "code",
   "execution_count": 43,
   "id": "d06fa0f3-17cc-4702-adf9-2935496e0d91",
   "metadata": {},
   "outputs": [
    {
     "name": "stdout",
     "output_type": "stream",
     "text": [
      "2\n"
     ]
    }
   ],
   "source": [
    "## Number to calculate how much amount people present in Maharastha\"\n",
    "count=0\n",
    "for i in Student:\n",
    "    ste=(Student[i]['address']['state'])\n",
    "    if (ste==\"Maharasthra\"):\n",
    "        count+=1\n",
    "print(count)        "
   ]
  },
  {
   "cell_type": "code",
   "execution_count": null,
   "id": "c5cea748-acaf-4c48-9361-a191badbb0a5",
   "metadata": {},
   "outputs": [],
   "source": []
  }
 ],
 "metadata": {
  "kernelspec": {
   "display_name": "Python 3 (ipykernel)",
   "language": "python",
   "name": "python3"
  },
  "language_info": {
   "codemirror_mode": {
    "name": "ipython",
    "version": 3
   },
   "file_extension": ".py",
   "mimetype": "text/x-python",
   "name": "python",
   "nbconvert_exporter": "python",
   "pygments_lexer": "ipython3",
   "version": "3.11.4"
  }
 },
 "nbformat": 4,
 "nbformat_minor": 5
}
