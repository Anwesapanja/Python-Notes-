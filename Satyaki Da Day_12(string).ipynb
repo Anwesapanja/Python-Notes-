{
 "cells": [
  {
   "cell_type": "code",
   "execution_count": 3,
   "id": "4b07e77e-08d0-4560-bde3-27585dc595ff",
   "metadata": {},
   "outputs": [
    {
     "name": "stdout",
     "output_type": "stream",
     "text": [
      "Classroom\n"
     ]
    },
    {
     "data": {
      "text/plain": [
       "['__add__',\n",
       " '__class__',\n",
       " '__contains__',\n",
       " '__delattr__',\n",
       " '__dir__',\n",
       " '__doc__',\n",
       " '__eq__',\n",
       " '__format__',\n",
       " '__ge__',\n",
       " '__getattribute__',\n",
       " '__getitem__',\n",
       " '__getnewargs__',\n",
       " '__getstate__',\n",
       " '__gt__',\n",
       " '__hash__',\n",
       " '__init__',\n",
       " '__init_subclass__',\n",
       " '__iter__',\n",
       " '__le__',\n",
       " '__len__',\n",
       " '__lt__',\n",
       " '__mod__',\n",
       " '__mul__',\n",
       " '__ne__',\n",
       " '__new__',\n",
       " '__reduce__',\n",
       " '__reduce_ex__',\n",
       " '__repr__',\n",
       " '__rmod__',\n",
       " '__rmul__',\n",
       " '__setattr__',\n",
       " '__sizeof__',\n",
       " '__str__',\n",
       " '__subclasshook__',\n",
       " 'capitalize',\n",
       " 'casefold',\n",
       " 'center',\n",
       " 'count',\n",
       " 'encode',\n",
       " 'endswith',\n",
       " 'expandtabs',\n",
       " 'find',\n",
       " 'format',\n",
       " 'format_map',\n",
       " 'index',\n",
       " 'isalnum',\n",
       " 'isalpha',\n",
       " 'isascii',\n",
       " 'isdecimal',\n",
       " 'isdigit',\n",
       " 'isidentifier',\n",
       " 'islower',\n",
       " 'isnumeric',\n",
       " 'isprintable',\n",
       " 'isspace',\n",
       " 'istitle',\n",
       " 'isupper',\n",
       " 'join',\n",
       " 'ljust',\n",
       " 'lower',\n",
       " 'lstrip',\n",
       " 'maketrans',\n",
       " 'partition',\n",
       " 'removeprefix',\n",
       " 'removesuffix',\n",
       " 'replace',\n",
       " 'rfind',\n",
       " 'rindex',\n",
       " 'rjust',\n",
       " 'rpartition',\n",
       " 'rsplit',\n",
       " 'rstrip',\n",
       " 'split',\n",
       " 'splitlines',\n",
       " 'startswith',\n",
       " 'strip',\n",
       " 'swapcase',\n",
       " 'title',\n",
       " 'translate',\n",
       " 'upper',\n",
       " 'zfill']"
      ]
     },
     "execution_count": 3,
     "metadata": {},
     "output_type": "execute_result"
    }
   ],
   "source": [
    "s=\"Classroom\"\n",
    "print(s)\n",
    "dir(str)"
   ]
  },
  {
   "cell_type": "code",
   "execution_count": 5,
   "id": "99b08d48-a244-46ed-8a69-f93239baaac3",
   "metadata": {},
   "outputs": [
    {
     "name": "stdout",
     "output_type": "stream",
     "text": [
      "We are now in the Month.coming Month\n",
      "We are now in the month.coming month\n"
     ]
    }
   ],
   "source": [
    "## Capitalize: capital only 1st letter------------------#-\n",
    "#If the First character is a letter,and in small case,then the first charater will be in capital letter-------------------------------------\n",
    "S=\"We are now in the Month.coming Month\"\n",
    "print(S)\n",
    "y=S.capitalize()\n",
    "print(y)"
   ]
  },
  {
   "cell_type": "code",
   "execution_count": 7,
   "id": "ab0939d0-514b-44c9-8ce2-0c6d417fdbb2",
   "metadata": {},
   "outputs": [
    {
     "name": "stdout",
     "output_type": "stream",
     "text": [
      "We are now in the Month.coming Month\n",
      "We Are Now In The Month.Coming Month\n"
     ]
    }
   ],
   "source": [
    "## title:----------------------\n",
    "#-----------------------------------\n",
    "S=\"We are now in the Month.coming Month\"\n",
    "print(S)\n",
    "y=S.title()\n",
    "print(y)\n",
    "## Here all the first character of each word will be caplitalized"
   ]
  },
  {
   "cell_type": "code",
   "execution_count": 8,
   "id": "888959ac-00ab-4db2-bccf-67e4178cf533",
   "metadata": {},
   "outputs": [],
   "source": [
    "## Question:---\n",
    "##Input::\n",
    "## hello.hi welcome.Coding\n",
    "##Output:--\n",
    "#Hello.Hi welcome.Coding"
   ]
  },
  {
   "cell_type": "code",
   "execution_count": 14,
   "id": "9959bac3-984c-48d6-9203-b2b9ef113531",
   "metadata": {},
   "outputs": [
    {
     "name": "stdout",
     "output_type": "stream",
     "text": [
      "hello.hi welcome.Coding\n",
      "['hello', 'hi welcome', 'Coding']\n",
      "Hello.Hi welcome.Coding."
     ]
    }
   ],
   "source": [
    "s=\"hello.hi welcome.Coding\"\n",
    "print(s)\n",
    "sentence=s.split(\".\")\n",
    "print(sentence)\n",
    "for i in sentence:\n",
    "    print(i.capitalize(),end=\".\")\n"
   ]
  },
  {
   "cell_type": "code",
   "execution_count": 15,
   "id": "1ad55f00-219d-40a4-9ac9-d7b30cc86bd8",
   "metadata": {},
   "outputs": [
    {
     "name": "stdout",
     "output_type": "stream",
     "text": [
      "hello.hi welcome.Coding."
     ]
    }
   ],
   "source": [
    "for i in sentence:\n",
    "    print(i,end='.')"
   ]
  },
  {
   "cell_type": "code",
   "execution_count": 19,
   "id": "9ad3aec2-a9fd-4da9-bf7c-ce6889f89764",
   "metadata": {},
   "outputs": [
    {
     "name": "stdout",
     "output_type": "stream",
     "text": [
      "classroom\n",
      "     classroom      \n"
     ]
    }
   ],
   "source": [
    "## Center():-------------------------\n",
    "##---------------------------------\n",
    "x=\"classroom\"\n",
    "print(x)\n",
    "y=x.center(20)\n",
    "print(y)\n",
    "## 20-9=11"
   ]
  },
  {
   "cell_type": "code",
   "execution_count": 20,
   "id": "bfe7498b-6788-4bf0-aca5-1ef9296e6a58",
   "metadata": {},
   "outputs": [],
   "source": [
    "## lEFTSPACES(5)+WORDS(9)+RIGHTSPACES(6)=20\n",
    "## If the string is Even length:--\n",
    "## Left spaces count=Right Spaces count.\n",
    "#--------------------------------------------\n",
    "## If the string is odd length:--\n",
    "## Left spaces count= 5=Right Spaces count-1=6-1=5"
   ]
  },
  {
   "cell_type": "code",
   "execution_count": 23,
   "id": "4b8e8591-9eb5-4616-a8ee-f17f7ab86a87",
   "metadata": {},
   "outputs": [
    {
     "name": "stdout",
     "output_type": "stream",
     "text": [
      "classroom\n",
      "           classroom\n"
     ]
    }
   ],
   "source": [
    "## rjust():------------------------\n",
    "##-----------------------------------\n",
    "x=\"classroom\"\n",
    "print(x)\n",
    "y=x.rjust(20)\n",
    "print(y)\n",
    "## 20-9=11 spaces+9charaters=20 spaces"
   ]
  },
  {
   "cell_type": "code",
   "execution_count": 25,
   "id": "62a5fc29-e829-4b64-b757-110b24cb29c4",
   "metadata": {},
   "outputs": [
    {
     "name": "stdout",
     "output_type": "stream",
     "text": [
      "classroom\n",
      "classroom           \n"
     ]
    }
   ],
   "source": [
    "##ljust():------\n",
    "##---------------\n",
    "x=\"classroom\"\n",
    "print(x)\n",
    "y=x.ljust(20)\n",
    "print(y)\n",
    "## here :-- 9 characters+(20-9)=11 spaces=20 spaces"
   ]
  },
  {
   "cell_type": "code",
   "execution_count": 29,
   "id": "27ba7890-ffe5-4015-a8e6-0234afbe902d",
   "metadata": {},
   "outputs": [
    {
     "name": "stdout",
     "output_type": "stream",
     "text": [
      "classroom\n",
      "classroom-----------\n",
      "-----classroom------\n",
      "-----------classroom\n"
     ]
    }
   ],
   "source": [
    "x=\"classroom\"\n",
    "print(x)\n",
    "y=x.ljust(20,'-')\n",
    "print(y)\n",
    "print(x.center(20,'-'))\n",
    "print(x.rjust(20,'-'))"
   ]
  },
  {
   "cell_type": "code",
   "execution_count": 30,
   "id": "6226de2d-a90e-45b1-8ac3-3c20b6c719e1",
   "metadata": {},
   "outputs": [
    {
     "name": "stdout",
     "output_type": "stream",
     "text": [
      "classroom\n",
      "classroomXXXXXXXXXXX\n",
      "XXXXXclassroomXXXXXX\n",
      "XXXXXXXXXXXclassroom\n"
     ]
    }
   ],
   "source": [
    "  x=\"classroom\"\n",
    "print(x)\n",
    "y=x.ljust(20,'X')\n",
    "print(y)\n",
    "print(x.center(20,'X'))\n",
    "print(x.rjust(20,'X'))"
   ]
  },
  {
   "cell_type": "code",
   "execution_count": 32,
   "id": "b0d52b8a-f671-4f9c-afba-f22c72b7ad06",
   "metadata": {},
   "outputs": [],
   "source": [
    "## Input:---\n",
    "##-------------------\n",
    "#5\n",
    "#895\n",
    "#78\n",
    "#1\n",
    "#125\n",
    "#7859\n",
    "\n",
    "##output:----------------\n",
    "##-------------------------\n",
    " #895\n",
    "  #78\n",
    "   #1\n",
    " #125\n",
    "#7859"
   ]
  },
  {
   "cell_type": "code",
   "execution_count": null,
   "id": "45b4af51-bcd2-464c-8025-13fc0ba1e157",
   "metadata": {},
   "outputs": [],
   "source": [
    "## Take user input in a list\n",
    "## Calculate max len of the numbers\n",
    "## implement right justify"
   ]
  },
  {
   "cell_type": "code",
   "execution_count": 2,
   "id": "d68b1a7a-3aed-4f07-91d7-9ba6898d339f",
   "metadata": {},
   "outputs": [
    {
     "name": "stdin",
     "output_type": "stream",
     "text": [
      " 5\n",
      " 895\n",
      " 78\n",
      " 1\n",
      " 125\n",
      " 7859\n"
     ]
    },
    {
     "name": "stdout",
     "output_type": "stream",
     "text": [
      "['895', '78', '1', '125', '7859']\n"
     ]
    }
   ],
   "source": [
    "num=[]\n",
    "x=int(input())\n",
    "for i in range(x):\n",
    "    num.append(input())\n",
    "print(num)  \n"
   ]
  },
  {
   "cell_type": "code",
   "execution_count": 5,
   "id": "513a85e1-b92c-4127-a14f-2d79618b5296",
   "metadata": {},
   "outputs": [
    {
     "name": "stdout",
     "output_type": "stream",
     "text": [
      "7859\n",
      "4\n"
     ]
    }
   ],
   "source": [
    "## length wiseee max:---------------\n",
    "##---------------------------\n",
    "#**********************************\n",
    "print(max(num,key=len))\n",
    "print (len(max(num,key=len)))"
   ]
  },
  {
   "cell_type": "code",
   "execution_count": 6,
   "id": "28486bae-abf0-4210-9c10-30703e22e993",
   "metadata": {},
   "outputs": [
    {
     "name": "stdout",
     "output_type": "stream",
     "text": [
      "895\n"
     ]
    }
   ],
   "source": [
    "## Ascii ba Character ar opor base kore hole:----------\n",
    "##-------------------------\n",
    "#*************************\n",
    "print(max(num))"
   ]
  },
  {
   "cell_type": "code",
   "execution_count": 7,
   "id": "e9945fe5-99e0-4cf6-ad99-be62b89aa635",
   "metadata": {},
   "outputs": [],
   "source": [
    "# max(num):----------It will return back maximum number based on Ascii \n",
    "## max(num,key=len):-------------It will return back maximum number based on length"
   ]
  },
  {
   "cell_type": "code",
   "execution_count": 13,
   "id": "cde28500-eb1b-4b66-98d5-917c34bf43b9",
   "metadata": {},
   "outputs": [
    {
     "name": "stdout",
     "output_type": "stream",
     "text": [
      "4\n",
      " 895\n",
      "  78\n",
      "   1\n",
      " 125\n",
      "7859\n"
     ]
    }
   ],
   "source": [
    "maxlength=(len(max(num,key=len)))\n",
    "print(maxlength)\n",
    "for i in num:\n",
    "    print(i.rjust(maxlength))   "
   ]
  },
  {
   "cell_type": "code",
   "execution_count": 14,
   "id": "b3b17ed7-ddf7-46d5-84e4-eacc4ee04d5d",
   "metadata": {},
   "outputs": [
    {
     "name": "stdin",
     "output_type": "stream",
     "text": [
      " 5\n",
      " 12567\n",
      " 904\n",
      " 567\n",
      " 2345\n",
      " 780\n"
     ]
    },
    {
     "name": "stdout",
     "output_type": "stream",
     "text": [
      "['12567', '904', '567', '2345', '780']\n",
      "5\n",
      "12567\n",
      "  904\n",
      "  567\n",
      " 2345\n",
      "  780\n"
     ]
    }
   ],
   "source": [
    "num=[]\n",
    "x=int(input())\n",
    "for i in range(x):\n",
    "    num.append(input())\n",
    "print(num)  \n",
    "maxlength=(len(max(num,key=len)))\n",
    "print(maxlength)\n",
    "for i in num:\n",
    "    print(i.rjust(maxlength))"
   ]
  },
  {
   "cell_type": "code",
   "execution_count": 19,
   "id": "0b77e6cd-a274-4c96-a549-7321e11d9e37",
   "metadata": {},
   "outputs": [
    {
     "name": "stdout",
     "output_type": "stream",
     "text": [
      "2\n",
      "9\n",
      "1\n"
     ]
    }
   ],
   "source": [
    "## count():-----------------\n",
    "##------------------------------\n",
    "x=\"Welcome to Classroom.Classroom is organizing a coding contest.\"\n",
    "y=x.count('Classroom') ## for counting word\n",
    "print(y)\n",
    "z=x.count('o') ## forcounting character \n",
    "print(z)\n",
    "p=x.count(\"Welcome to Classroom\")\n",
    "print(p)"
   ]
  },
  {
   "cell_type": "code",
   "execution_count": 18,
   "id": "15b38bb9-4d6a-4934-9f62-e3b79132ecb6",
   "metadata": {},
   "outputs": [],
   "source": [
    "## In above contest:---\n",
    "## x.count('Classroom') is searching the word \"Classroom\" from the sentence.\n",
    "## x.count('o') is searching the chararater 'o' from the sentence\n",
    "\n",
    "## count() is a method,, that is required to count:\n",
    "    ##1) total number of charaters present in a string\n",
    "    ##2)total number iof words present in a string\n",
    "    ##3)total number of sentences present in a string\n"
   ]
  },
  {
   "cell_type": "code",
   "execution_count": 23,
   "id": "ffe6a727-a6c4-47a1-814d-1539527bd31d",
   "metadata": {},
   "outputs": [
    {
     "name": "stdout",
     "output_type": "stream",
     "text": [
      "True\n",
      "False\n"
     ]
    }
   ],
   "source": [
    "##endswith():this methods returns boolean response for checking substring endswith a substring or not??-------------\n",
    "##---------------------------\n",
    "x=\"Classroom\"\n",
    "y=\"room\"\n",
    "z=\"hello\"\n",
    "print(x.endswith(y)) ## is x endswith y?\n",
    "print(x.endswith(z))"
   ]
  },
  {
   "cell_type": "code",
   "execution_count": 24,
   "id": "1caa1546-1d06-4a0e-b3fe-8f318a267fac",
   "metadata": {},
   "outputs": [
    {
     "name": "stdout",
     "output_type": "stream",
     "text": [
      "True\n",
      "False\n"
     ]
    }
   ],
   "source": [
    "## startswith():this methods returns boolean response for checking substring startswith a substring or not??----------------\n",
    "##----------------------\n",
    "x=\"Classroom\"\n",
    "y=\"Class\"\n",
    "z=\"hello\"\n",
    "print(x.startswith(y)) ## is x startswith y?\n",
    "print(x.startswith(z))"
   ]
  },
  {
   "cell_type": "code",
   "execution_count": 26,
   "id": "1b35c76b-d98d-45e0-85f6-87881e4bf4d4",
   "metadata": {},
   "outputs": [
    {
     "name": "stdout",
     "output_type": "stream",
     "text": [
      "4\n",
      "-1\n"
     ]
    }
   ],
   "source": [
    "## find():----------------------------\n",
    "##---------------------------\n",
    "x=\"The Classroom\"\n",
    "y=\"Class\"\n",
    "z=\"hello\"\n",
    "print(x.find(y)) ## back only first index\n",
    "print(x.find(z))"
   ]
  },
  {
   "cell_type": "code",
   "execution_count": 27,
   "id": "9ab46065-0f62-41d8-8273-b22d2bb748f0",
   "metadata": {},
   "outputs": [
    {
     "name": "stdout",
     "output_type": "stream",
     "text": [
      "4\n",
      "-1\n"
     ]
    }
   ],
   "source": [
    "x=\"The Classroom Class\"\n",
    "y=\"Class\"\n",
    "z=\"hello\"\n",
    "print(x.find(y)) ## back only first index\n",
    "print(x.find(z))"
   ]
  },
  {
   "cell_type": "code",
   "execution_count": 28,
   "id": "8b7990ce-0c9d-4720-9bb3-e78cabf60345",
   "metadata": {},
   "outputs": [
    {
     "name": "stdout",
     "output_type": "stream",
     "text": [
      "14\n",
      "-1\n"
     ]
    }
   ],
   "source": [
    "x=\"The Xlassroom Class\"\n",
    "y=\"Class\"\n",
    "z=\"hello\"\n",
    "print(x.find(y)) ## back only first index\n",
    "print(x.find(z))"
   ]
  },
  {
   "cell_type": "code",
   "execution_count": 30,
   "id": "19534e45-cc45-48ad-ada6-b56a0d8d3ae0",
   "metadata": {},
   "outputs": [],
   "source": [
    "#The *Class*room *Class*\n",
    "#*123*45678*90123*45678*\n",
    "# Suppose a substring Y is present in X,\n",
    "# X.find(y)will result based on the first finding.\n",
    "\n",
    "## If the substring is not present with in a main string \n",
    "##then output will be -1"
   ]
  },
  {
   "cell_type": "code",
   "execution_count": 32,
   "id": "7f75509c-cead-49b1-8575-cc1cb8499f83",
   "metadata": {},
   "outputs": [
    {
     "name": "stdout",
     "output_type": "stream",
     "text": [
      "14\n",
      "-1\n"
     ]
    }
   ],
   "source": [
    "##rfind():----reverse find\n",
    "x=\"The Classroom Class\"\n",
    "y=\"Class\"\n",
    "z=\"hello\"\n",
    "print(x.rfind(y))\n",
    "print(x.rfind(z))"
   ]
  },
  {
   "cell_type": "code",
   "execution_count": 35,
   "id": "7d3fafb9-63b0-4045-a1a8-307efcdee63f",
   "metadata": {},
   "outputs": [],
   "source": [
    "#The Classroom Class Hello Class\n",
    "#0123456789012345678901234567890\n",
    "\n",
    "## Class=4-8\n",
    "##Class=14-18\n",
    "##Class=26-30 <------From reverse it is first item\n",
    "\n",
    "## Then Starting Index:26 will be the final answer"
   ]
  },
  {
   "cell_type": "code",
   "execution_count": 37,
   "id": "072d1223-de5a-4f7a-8082-f768726aad8b",
   "metadata": {},
   "outputs": [
    {
     "name": "stdout",
     "output_type": "stream",
     "text": [
      "10\n"
     ]
    }
   ],
   "source": [
    "##index():Find out the location--------------------------------\n",
    "##------------------------------------------\n",
    "X=\"Classroom Meet 2024\"\n",
    "y=\"Meet\"\n",
    "result=X.index(y)\n",
    "print(result)"
   ]
  },
  {
   "cell_type": "code",
   "execution_count": 39,
   "id": "46be9d4d-b8dd-4aae-a183-87f42d1b5347",
   "metadata": {},
   "outputs": [],
   "source": [
    "#Classroom Meet 2024\n",
    "#0123456789012345678\n",
    "## Meet is indexed at 10\n",
    "#result=X.index(y)=10"
   ]
  },
  {
   "cell_type": "code",
   "execution_count": 40,
   "id": "f06fbb94-e09d-4bfe-924f-de834a35a805",
   "metadata": {},
   "outputs": [
    {
     "ename": "ValueError",
     "evalue": "substring not found",
     "output_type": "error",
     "traceback": [
      "\u001b[1;31m---------------------------------------------------------------------------\u001b[0m",
      "\u001b[1;31mValueError\u001b[0m                                Traceback (most recent call last)",
      "Cell \u001b[1;32mIn[40], line 3\u001b[0m\n\u001b[0;32m      1\u001b[0m X\u001b[38;5;241m=\u001b[39m\u001b[38;5;124m\"\u001b[39m\u001b[38;5;124mClassroom Meet 2024\u001b[39m\u001b[38;5;124m\"\u001b[39m\n\u001b[0;32m      2\u001b[0m y\u001b[38;5;241m=\u001b[39m\u001b[38;5;124m\"\u001b[39m\u001b[38;5;124mCrisk\u001b[39m\u001b[38;5;124m\"\u001b[39m\n\u001b[1;32m----> 3\u001b[0m result\u001b[38;5;241m=\u001b[39m\u001b[43mX\u001b[49m\u001b[38;5;241;43m.\u001b[39;49m\u001b[43mindex\u001b[49m\u001b[43m(\u001b[49m\u001b[43my\u001b[49m\u001b[43m)\u001b[49m\n\u001b[0;32m      4\u001b[0m \u001b[38;5;28mprint\u001b[39m(result)\n",
      "\u001b[1;31mValueError\u001b[0m: substring not found"
     ]
    }
   ],
   "source": [
    "X=\"Classroom Meet 2024\"\n",
    "y=\"Crisk\"\n",
    "result=X.index(y)\n",
    "print(result)"
   ]
  },
  {
   "cell_type": "code",
   "execution_count": 42,
   "id": "fc679952-ded0-49ee-b458-b835b3dea4c2",
   "metadata": {},
   "outputs": [],
   "source": [
    "## If we got an error,definitely,\"substring\"not found\n",
    "#else the first occurrence index will be the output"
   ]
  },
  {
   "cell_type": "code",
   "execution_count": 44,
   "id": "1cf10bdf-33d9-4f00-bb90-eba8f1dc8137",
   "metadata": {},
   "outputs": [
    {
     "name": "stdout",
     "output_type": "stream",
     "text": [
      "False\n"
     ]
    }
   ],
   "source": [
    "##isalnum(): alpha nummeric---------------------\n",
    "X=\"Classroom Meet 2024\"\n",
    "y=X.isalnum()\n",
    "print(y)"
   ]
  },
  {
   "cell_type": "code",
   "execution_count": 46,
   "id": "673897b3-316a-4ea2-9a8f-e6281137d058",
   "metadata": {},
   "outputs": [
    {
     "name": "stdout",
     "output_type": "stream",
     "text": [
      "True\n"
     ]
    }
   ],
   "source": [
    "X=\"ClassroomMeet2024\" ## Removing the space\n",
    "y=X.isalnum()\n",
    "print(y)"
   ]
  },
  {
   "cell_type": "code",
   "execution_count": 49,
   "id": "4b2c479b-b38d-402f-a2ca-2780a2231e05",
   "metadata": {},
   "outputs": [],
   "source": [
    "## isalnum():--It is a python method that checks \n",
    "##the string contains only alphabet(a-z) and (A-Z) and numbers(0-9) \n",
    "\n",
    "##If the condition is statisfied then output will be True\n",
    "## else it will be false"
   ]
  },
  {
   "cell_type": "code",
   "execution_count": 57,
   "id": "fc2e6678-693d-4b8f-86c0-b0fbae827490",
   "metadata": {},
   "outputs": [
    {
     "name": "stdout",
     "output_type": "stream",
     "text": [
      "False\n"
     ]
    }
   ],
   "source": [
    "##isalpha():It will check the strings only contains alphabet-----------------\n",
    "X=\"Classroom Meet 2024\"\n",
    "y=X.isalpha()\n",
    "print(y)\n",
    "## Why false??:-- 2024 these are not alphabets"
   ]
  },
  {
   "cell_type": "code",
   "execution_count": 60,
   "id": "3723745d-3576-4de2-8f93-298ae5be2354",
   "metadata": {},
   "outputs": [
    {
     "name": "stdout",
     "output_type": "stream",
     "text": [
      "False\n"
     ]
    }
   ],
   "source": [
    "X=\"ClassroomMeet2024\"\n",
    "y=X.isalpha()\n",
    "print(y)\n",
    "## Why false:------ space and 2024 these are not alphabets"
   ]
  },
  {
   "cell_type": "code",
   "execution_count": 59,
   "id": "d34ff4d9-01a8-4b72-b731-e059c325488b",
   "metadata": {},
   "outputs": [
    {
     "name": "stdout",
     "output_type": "stream",
     "text": [
      "True\n"
     ]
    }
   ],
   "source": [
    "X=\"ClassroomMeet\"\n",
    "y=X.isalpha()\n",
    "print(y)"
   ]
  },
  {
   "cell_type": "code",
   "execution_count": 70,
   "id": "68f20ebf-d4a5-45cd-8c6d-7765aad53e3a",
   "metadata": {},
   "outputs": [
    {
     "name": "stdout",
     "output_type": "stream",
     "text": [
      "True\n"
     ]
    }
   ],
   "source": [
    "### isascii(): American Standard Code for information interchange-------------\n",
    "## if we use any character that is not present as ascii value\n",
    "## then it will return false\n",
    "x=\"H\"\n",
    "print(x.isascii())"
   ]
  },
  {
   "cell_type": "code",
   "execution_count": 71,
   "id": "17736ec0-b95b-49e7-a0df-11569a34b19b",
   "metadata": {},
   "outputs": [
    {
     "name": "stdout",
     "output_type": "stream",
     "text": [
      "True\n"
     ]
    }
   ],
   "source": [
    "x=\"ClassroomMeet\"\n",
    "print(x.isascii())"
   ]
  },
  {
   "cell_type": "code",
   "execution_count": 72,
   "id": "2a993c9c-32bf-41e4-9f9a-72dcd818245a",
   "metadata": {},
   "outputs": [
    {
     "name": "stdout",
     "output_type": "stream",
     "text": [
      "True\n"
     ]
    }
   ],
   "source": [
    "x=\"\\n\"\n",
    "print(x.isascii())"
   ]
  },
  {
   "cell_type": "code",
   "execution_count": 73,
   "id": "3d9e287d-b650-48a7-b4be-087c18a2bf79",
   "metadata": {},
   "outputs": [
    {
     "name": "stdout",
     "output_type": "stream",
     "text": [
      "False\n"
     ]
    }
   ],
   "source": [
    "x=\"汉\"\n",
    "print(x.isascii())"
   ]
  },
  {
   "cell_type": "code",
   "execution_count": 75,
   "id": "f1ab6024-05e3-4d4c-9e10-0dfaffeeedad",
   "metadata": {},
   "outputs": [
    {
     "data": {
      "text/plain": [
       "32"
      ]
     },
     "execution_count": 75,
     "metadata": {},
     "output_type": "execute_result"
    }
   ],
   "source": [
    "ord(' ')  ## space ascii"
   ]
  },
  {
   "cell_type": "code",
   "execution_count": 77,
   "id": "39aec3cc-b8fc-4dbb-8498-fd2324fef31d",
   "metadata": {},
   "outputs": [
    {
     "name": "stdout",
     "output_type": "stream",
     "text": [
      "False\n"
     ]
    }
   ],
   "source": [
    "##isdecimal(): here it will alow only digits------------\n",
    "x=\"Classroom Meet 2024\"\n",
    "print(x.isdecimal())"
   ]
  },
  {
   "cell_type": "code",
   "execution_count": 78,
   "id": "76aaf831-6b84-4d52-ba51-b7a71cdc7d47",
   "metadata": {},
   "outputs": [
    {
     "name": "stdout",
     "output_type": "stream",
     "text": [
      "True\n"
     ]
    }
   ],
   "source": [
    "x=\"2024\"\n",
    "print(x.isdecimal())"
   ]
  },
  {
   "cell_type": "code",
   "execution_count": 79,
   "id": "f951e1a5-9f4d-4f85-a6eb-8cdf3891d1b1",
   "metadata": {},
   "outputs": [
    {
     "name": "stdout",
     "output_type": "stream",
     "text": [
      "True\n"
     ]
    }
   ],
   "source": [
    "##isdigit():--------------------\n",
    "x=\"2024\"\n",
    "print(x.isdigit())"
   ]
  },
  {
   "cell_type": "code",
   "execution_count": 80,
   "id": "aa963ed0-5482-495a-a03b-838db9acd542",
   "metadata": {},
   "outputs": [
    {
     "name": "stdout",
     "output_type": "stream",
     "text": [
      "False\n"
     ]
    }
   ],
   "source": [
    "x=\"2024k\"\n",
    "print(x.isdigit())"
   ]
  },
  {
   "cell_type": "code",
   "execution_count": 82,
   "id": "35632236-4701-45e5-ab94-c7429e2cd787",
   "metadata": {},
   "outputs": [
    {
     "name": "stdout",
     "output_type": "stream",
     "text": [
      "True\n",
      "False\n"
     ]
    }
   ],
   "source": [
    "## for base isdigit() will be True\n",
    "## for base isdecimal() will be False\n",
    "x=\"2²\"\n",
    "print(x.isdigit())\n",
    "print(x.isdecimal())"
   ]
  },
  {
   "cell_type": "code",
   "execution_count": 86,
   "id": "c4c0320a-7959-4cfc-83c4-5e8cf379d812",
   "metadata": {},
   "outputs": [],
   "source": [
    "## This method will check a name can be considered as identifier or not\n",
    "## isidentifier():-------------------\n",
    "## A variable, A method name,A package name \n",
    "## known as identifier\n",
    "## Rule:---------------------------\n",
    "##-----------------------------------------\n",
    "# 1) identifier can not be started with a number\n",
    "### Ex:------- 4a [wrong]\n",
    "#2 Identifier can not contain special character except '_'\n",
    "#### a&=5 [wrong]\n",
    "## a_=5[right]"
   ]
  },
  {
   "cell_type": "code",
   "execution_count": 84,
   "id": "2869bfad-2799-44fc-872f-22e0cdfb1b10",
   "metadata": {},
   "outputs": [],
   "source": [
    "a_=5"
   ]
  },
  {
   "cell_type": "code",
   "execution_count": 88,
   "id": "67c3660a-5b5e-4377-bfb9-c63588e9cc77",
   "metadata": {},
   "outputs": [
    {
     "name": "stdin",
     "output_type": "stream",
     "text": [
      " a1\n"
     ]
    },
    {
     "name": "stdout",
     "output_type": "stream",
     "text": [
      "True\n"
     ]
    }
   ],
   "source": [
    "x=input()\n",
    "y=x.isidentifier()\n",
    "print(y)"
   ]
  },
  {
   "cell_type": "code",
   "execution_count": 89,
   "id": "612f65a1-e648-4dfb-af6f-0617f877769f",
   "metadata": {},
   "outputs": [
    {
     "name": "stdin",
     "output_type": "stream",
     "text": [
      " 1a\n"
     ]
    },
    {
     "name": "stdout",
     "output_type": "stream",
     "text": [
      "False\n"
     ]
    }
   ],
   "source": [
    "x=input()\n",
    "y=x.isidentifier()\n",
    "print(y)"
   ]
  },
  {
   "cell_type": "code",
   "execution_count": 90,
   "id": "69dc8e43-cbe1-495c-b3f5-7c664fce9197",
   "metadata": {},
   "outputs": [
    {
     "name": "stdin",
     "output_type": "stream",
     "text": [
      " 4a\n"
     ]
    },
    {
     "name": "stdout",
     "output_type": "stream",
     "text": [
      "False\n"
     ]
    }
   ],
   "source": [
    "x=input()\n",
    "y=x.isidentifier()\n",
    "print(y)"
   ]
  },
  {
   "cell_type": "code",
   "execution_count": 95,
   "id": "ddfdabe5-f898-44ed-9056-b8c9fa1008ed",
   "metadata": {},
   "outputs": [
    {
     "name": "stdout",
     "output_type": "stream",
     "text": [
      "classroom\n",
      "True\n"
     ]
    }
   ],
   "source": [
    "##islower(): it is check all the present character of the string are in lower ----------------------\n",
    "## characters or not?\n",
    "##If yes----- True\n",
    "## else-------False\n",
    "x=\"classroom\"\n",
    "print(x)\n",
    "print(x.islower())"
   ]
  },
  {
   "cell_type": "code",
   "execution_count": 92,
   "id": "3f2bd8da-512c-4681-8b58-3f359b69a7c9",
   "metadata": {},
   "outputs": [
    {
     "name": "stdout",
     "output_type": "stream",
     "text": [
      "classroom293\n",
      "True\n"
     ]
    }
   ],
   "source": [
    "x=\"classroom293\"\n",
    "print(x)\n",
    "print(x.islower())\n"
   ]
  },
  {
   "cell_type": "code",
   "execution_count": 93,
   "id": "5b987620-52fb-4b45-9d8f-373d39e976dd",
   "metadata": {},
   "outputs": [
    {
     "name": "stdout",
     "output_type": "stream",
     "text": [
      "clASsroom293\n",
      "False\n"
     ]
    }
   ],
   "source": [
    "x=\"clASsroom293\"\n",
    "print(x)\n",
    "print(x.islower())\n"
   ]
  },
  {
   "cell_type": "code",
   "execution_count": 96,
   "id": "057e3d4c-79a5-454b-83f9-e3cba9a62ab9",
   "metadata": {},
   "outputs": [
    {
     "name": "stdout",
     "output_type": "stream",
     "text": [
      "Classroom\n",
      "False\n"
     ]
    }
   ],
   "source": [
    "## isupper():t is check all the present character of the string are in upper ----------------------\n",
    "## characters or not?\n",
    "##If yes----- True\n",
    "## else-------False\n",
    "x=\"Classroom\"\n",
    "print(x)\n",
    "print(x.isupper())"
   ]
  },
  {
   "cell_type": "code",
   "execution_count": 97,
   "id": "aaa59a52-e658-4948-bf73-78f6392102d3",
   "metadata": {},
   "outputs": [
    {
     "name": "stdout",
     "output_type": "stream",
     "text": [
      "CLASSROOM\n",
      "True\n"
     ]
    }
   ],
   "source": [
    "x=\"CLASSROOM\"\n",
    "print(x)\n",
    "print(x.isupper())"
   ]
  },
  {
   "cell_type": "code",
   "execution_count": 99,
   "id": "e44ae1f3-0e19-4ed0-a840-5c13270a6ab3",
   "metadata": {},
   "outputs": [
    {
     "name": "stdout",
     "output_type": "stream",
     "text": [
      "2024\n",
      "True\n"
     ]
    }
   ],
   "source": [
    "## insnumeric():-----------------\n",
    "x=\"2024\"\n",
    "print(x)\n",
    "print(x.isnumeric())"
   ]
  },
  {
   "cell_type": "code",
   "execution_count": 100,
   "id": "511743f4-0c37-469f-a73f-c729356b7ac2",
   "metadata": {},
   "outputs": [
    {
     "name": "stdout",
     "output_type": "stream",
     "text": [
      "ABC2024\n",
      "False\n"
     ]
    }
   ],
   "source": [
    "x=\"ABC2024\"\n",
    "print(x)\n",
    "print(x.isnumeric())"
   ]
  },
  {
   "cell_type": "code",
   "execution_count": null,
   "id": "0dc5d10d-4f5c-49a7-9405-10f255be3d42",
   "metadata": {},
   "outputs": [],
   "source": [
    "## Method    | Accept only base 10 Digits(0-9)   | Accepts unicode Digit Character  | Accept other numeric Characters(Fractions programs)\n",
    "## isdecimal() |    yes                          |    No                            |        No\n",
    "## isdigit()   |    yes                          |     yes                          |        No\n",
    "## isnumeric() |    yes                          |    yes                           |       yes"
   ]
  },
  {
   "cell_type": "code",
   "execution_count": 103,
   "id": "4fca0c32-fc94-4e36-a320-427d3e8f59a8",
   "metadata": {},
   "outputs": [
    {
     "name": "stdout",
     "output_type": "stream",
     "text": [
      "ABC\n",
      "True\n"
     ]
    }
   ],
   "source": [
    "## isprintable(): Like capslock,tab,ctrl,alt,like these they are not printable characters--------------------\n",
    "##-----------------------------\n",
    "x=\"ABC\"\n",
    "print(x)\n",
    "print(x.isprintable())"
   ]
  },
  {
   "cell_type": "code",
   "execution_count": 104,
   "id": "4e517ec7-f4d2-4914-8f83-dd1871b77d51",
   "metadata": {},
   "outputs": [
    {
     "name": "stdout",
     "output_type": "stream",
     "text": [
      "    \n",
      "True\n"
     ]
    }
   ],
   "source": [
    "##isspace():-------------------------\n",
    "##-----------------------------------\n",
    "##Rules:-- \n",
    "## 1) length of string>0\n",
    "##2)length = no of spaces\n",
    "x=\"    \"\n",
    "print(x)\n",
    "print(x.isspace())"
   ]
  },
  {
   "cell_type": "code",
   "execution_count": 105,
   "id": "2b929581-1860-4209-9139-9bd604348e89",
   "metadata": {},
   "outputs": [
    {
     "name": "stdout",
     "output_type": "stream",
     "text": [
      " A   \n",
      "False\n"
     ]
    }
   ],
   "source": [
    "x=\" A   \"\n",
    "print(x)\n",
    "print(x.isspace())"
   ]
  },
  {
   "cell_type": "code",
   "execution_count": 106,
   "id": "274422ed-e3aa-4260-9bb2-ef5c362dc789",
   "metadata": {},
   "outputs": [
    {
     "name": "stdout",
     "output_type": "stream",
     "text": [
      "\n",
      "False\n"
     ]
    }
   ],
   "source": [
    "x=\"\"\n",
    "print(x)\n",
    "print(x.isspace())"
   ]
  },
  {
   "cell_type": "code",
   "execution_count": 1,
   "id": "0cab9e85-abd6-4bcb-9d7a-f7cf7efc53b6",
   "metadata": {},
   "outputs": [
    {
     "data": {
      "text/plain": [
       "['__add__',\n",
       " '__class__',\n",
       " '__contains__',\n",
       " '__delattr__',\n",
       " '__dir__',\n",
       " '__doc__',\n",
       " '__eq__',\n",
       " '__format__',\n",
       " '__ge__',\n",
       " '__getattribute__',\n",
       " '__getitem__',\n",
       " '__getnewargs__',\n",
       " '__getstate__',\n",
       " '__gt__',\n",
       " '__hash__',\n",
       " '__init__',\n",
       " '__init_subclass__',\n",
       " '__iter__',\n",
       " '__le__',\n",
       " '__len__',\n",
       " '__lt__',\n",
       " '__mod__',\n",
       " '__mul__',\n",
       " '__ne__',\n",
       " '__new__',\n",
       " '__reduce__',\n",
       " '__reduce_ex__',\n",
       " '__repr__',\n",
       " '__rmod__',\n",
       " '__rmul__',\n",
       " '__setattr__',\n",
       " '__sizeof__',\n",
       " '__str__',\n",
       " '__subclasshook__',\n",
       " 'capitalize',\n",
       " 'casefold',\n",
       " 'center',\n",
       " 'count',\n",
       " 'encode',\n",
       " 'endswith',\n",
       " 'expandtabs',\n",
       " 'find',\n",
       " 'format',\n",
       " 'format_map',\n",
       " 'index',\n",
       " 'isalnum',\n",
       " 'isalpha',\n",
       " 'isascii',\n",
       " 'isdecimal',\n",
       " 'isdigit',\n",
       " 'isidentifier',\n",
       " 'islower',\n",
       " 'isnumeric',\n",
       " 'isprintable',\n",
       " 'isspace',\n",
       " 'istitle',\n",
       " 'isupper',\n",
       " 'join',\n",
       " 'ljust',\n",
       " 'lower',\n",
       " 'lstrip',\n",
       " 'maketrans',\n",
       " 'partition',\n",
       " 'removeprefix',\n",
       " 'removesuffix',\n",
       " 'replace',\n",
       " 'rfind',\n",
       " 'rindex',\n",
       " 'rjust',\n",
       " 'rpartition',\n",
       " 'rsplit',\n",
       " 'rstrip',\n",
       " 'split',\n",
       " 'splitlines',\n",
       " 'startswith',\n",
       " 'strip',\n",
       " 'swapcase',\n",
       " 'title',\n",
       " 'translate',\n",
       " 'upper',\n",
       " 'zfill']"
      ]
     },
     "execution_count": 1,
     "metadata": {},
     "output_type": "execute_result"
    }
   ],
   "source": [
    "dir(str)"
   ]
  },
  {
   "cell_type": "code",
   "execution_count": 13,
   "id": "a71e0c84-8115-4bd5-a217-8ead9a7152d1",
   "metadata": {},
   "outputs": [
    {
     "name": "stdout",
     "output_type": "stream",
     "text": [
      "True\n"
     ]
    }
   ],
   "source": [
    "##istitle(): capital aaa ache naki ccheck korbe--------------------------\n",
    "##-it will check the first charater of each word starts capital letter or not-------------------------------\n",
    "x=\"Hello Classroom!\"\n",
    "print(x.istitle())\n",
    "## if a word starts with a digit, then it will check the first character in the word \n",
    "## capital letter or not"
   ]
  },
  {
   "cell_type": "code",
   "execution_count": 14,
   "id": "072338b4-a4d4-479d-a80b-f8b931cfbd40",
   "metadata": {},
   "outputs": [
    {
     "name": "stdout",
     "output_type": "stream",
     "text": [
      "False\n"
     ]
    }
   ],
   "source": [
    "x=\"hello Classroom!\"\n",
    "print(x.istitle())"
   ]
  },
  {
   "cell_type": "code",
   "execution_count": 15,
   "id": "28892d00-c443-41ab-960c-4c18f45bc37e",
   "metadata": {},
   "outputs": [
    {
     "name": "stdout",
     "output_type": "stream",
     "text": [
      "False\n"
     ]
    }
   ],
   "source": [
    " x=\"9hello classroom!\"\n",
    "print(x.istitle())"
   ]
  },
  {
   "cell_type": "code",
   "execution_count": 16,
   "id": "3e5ce13a-7919-4034-a9bb-d347df4f4c05",
   "metadata": {},
   "outputs": [
    {
     "name": "stdout",
     "output_type": "stream",
     "text": [
      "True\n"
     ]
    }
   ],
   "source": [
    " x=\"9Hello Classroom!\"\n",
    "print(x.istitle())"
   ]
  },
  {
   "cell_type": "code",
   "execution_count": 17,
   "id": "756aad8c-bd6b-4c60-932e-78f51e6f5232",
   "metadata": {},
   "outputs": [
    {
     "name": "stdout",
     "output_type": "stream",
     "text": [
      "False\n"
     ]
    }
   ],
   "source": [
    " x=\"9Hello classroom!\"\n",
    "print(x.istitle())\n"
   ]
  },
  {
   "cell_type": "code",
   "execution_count": 18,
   "id": "76fcfef2-781e-4a66-8e9b-13f23b0eb4ef",
   "metadata": {},
   "outputs": [
    {
     "name": "stdout",
     "output_type": "stream",
     "text": [
      "False\n"
     ]
    }
   ],
   "source": [
    "##isupper(): It will chcek if string contains any character that needs to be in capital letter\n",
    "##  It will not check any space,any special charater.---------------------------\n",
    "##-------------------------------------------\n",
    "x=\"hello classroom\"\n",
    "print(x.isupper())"
   ]
  },
  {
   "cell_type": "code",
   "execution_count": 19,
   "id": "8265ffc3-9d8c-4e26-8605-0e0cbc3c0d02",
   "metadata": {},
   "outputs": [
    {
     "name": "stdout",
     "output_type": "stream",
     "text": [
      "True\n"
     ]
    }
   ],
   "source": [
    "x=\"HELLO CLASSROOM\"\n",
    "print(x.isupper())"
   ]
  },
  {
   "cell_type": "code",
   "execution_count": 21,
   "id": "8fde512b-77c4-4602-9e71-bf373b0c15ee",
   "metadata": {},
   "outputs": [
    {
     "name": "stdout",
     "output_type": "stream",
     "text": [
      "True\n"
     ]
    }
   ],
   "source": [
    "##islower():---------------------\n",
    "x=\"hello classroom\"\n",
    "print(x.islower())"
   ]
  },
  {
   "cell_type": "code",
   "execution_count": 22,
   "id": "2deae2a2-967e-4f4f-a7b6-4e6bf7b3f5da",
   "metadata": {},
   "outputs": [
    {
     "name": "stdout",
     "output_type": "stream",
     "text": [
      "False\n"
     ]
    }
   ],
   "source": [
    "x=\"hello Classroom\"\n",
    "print(x.islower())"
   ]
  },
  {
   "cell_type": "code",
   "execution_count": 27,
   "id": "246ae73d-60d3-4862-a685-5e96e9c751f4",
   "metadata": {},
   "outputs": [
    {
     "name": "stdout",
     "output_type": "stream",
     "text": [
      "['Winter', 'is', 'coming!']\n",
      "Winter is coming!\n",
      "Winter-is-coming!\n"
     ]
    }
   ],
   "source": [
    "## split-join:------------------\n",
    "x=\"Winter is coming!\"\n",
    "y= x.split() ## bydefault space ar opor base kore\n",
    "print(y)\n",
    "i=' '.join(y)  # ki diye join korbo. kake join korbo\n",
    "z='-'.join(y) \n",
    "print(i)\n",
    "print(z)"
   ]
  },
  {
   "cell_type": "code",
   "execution_count": 30,
   "id": "95f237fb-0ac1-4ad6-9e5b-e7fef6e14b1c",
   "metadata": {},
   "outputs": [
    {
     "name": "stdout",
     "output_type": "stream",
     "text": [
      "['Winter', 'is', 'coming!']\n",
      "Winter##is##coming!\n"
     ]
    }
   ],
   "source": [
    "x=\"Winter$$is$$coming!\"\n",
    "y= x.split('$$') ## in this here we split this based on '$'\n",
    "print(y)\n",
    "z='##'.join(y) ## joining happen by '##'\n",
    "print(z)"
   ]
  },
  {
   "cell_type": "code",
   "execution_count": 32,
   "id": "ed6dcddc-6836-481c-a531-560ac4d0b619",
   "metadata": {},
   "outputs": [
    {
     "name": "stdout",
     "output_type": "stream",
     "text": [
      "['Winter', 'is', 'coming']\n",
      "Winter is coming\n"
     ]
    }
   ],
   "source": [
    "x=\"Winter is coming\"\n",
    "y=x.split()\n",
    "print(y)\n",
    "z=' '.join(['Winter','is','coming'])\n",
    "print(z)"
   ]
  },
  {
   "cell_type": "code",
   "execution_count": 34,
   "id": "5b9f78fc-8ee8-4333-8b65-5bb78b75b62f",
   "metadata": {},
   "outputs": [],
   "source": [
    "## By which word/character you want to join. \n",
    "## ---------- join(list)"
   ]
  },
  {
   "cell_type": "code",
   "execution_count": 40,
   "id": "228e1c36-a704-409f-8697-e81d915d7dc6",
   "metadata": {},
   "outputs": [
    {
     "name": "stdout",
     "output_type": "stream",
     "text": [
      "   Hello Welcome to Classroom            \n",
      "Hello Welcome to Classroom             ................\n",
      "Hello Welcome Classroom -----\n"
     ]
    }
   ],
   "source": [
    "##lstrip(): (left strip())---- it will remove the starting spaces form the string----------------------\n",
    "##----------------------------\n",
    "x=\"   Hello Welcome to Classroom            \"\n",
    "print(x)\n",
    "print(x.lstrip(),'................')\n",
    "x=\"Hello Welcome Classroom\"\n",
    "print(x.lstrip(),'-----')\n"
   ]
  },
  {
   "cell_type": "code",
   "execution_count": 42,
   "id": "0e76e808-6c42-4221-abdf-01a82fa3df1d",
   "metadata": {},
   "outputs": [
    {
     "name": "stdout",
     "output_type": "stream",
     "text": [
      "   Hello Welcome to Classroom            \n",
      "   Hello Welcome to Classroom ................\n",
      "Hello Welcome Classroom -----\n",
      "---------- Hello Welcome Classroom\n"
     ]
    }
   ],
   "source": [
    "##rstrip(): (right strip())-\n",
    "x=\"   Hello Welcome to Classroom            \"\n",
    "print(x)\n",
    "print(x.rstrip(),'................')\n",
    "x=\"Hello Welcome Classroom\"\n",
    "print(x.rstrip(),'-----')\n",
    "print('----------',x.rstrip())\n"
   ]
  },
  {
   "cell_type": "code",
   "execution_count": 43,
   "id": "fd586de3-93f3-491c-b31d-d012b38eff43",
   "metadata": {},
   "outputs": [],
   "source": [
    "## Strip():-- it will remove space from both left and right hand side "
   ]
  },
  {
   "cell_type": "code",
   "execution_count": 44,
   "id": "93c3fa2e-ffca-4838-8bb3-1222a0f3f008",
   "metadata": {},
   "outputs": [
    {
     "name": "stdout",
     "output_type": "stream",
     "text": [
      "   Hello Welcome to Classroom            \n",
      "Hello Welcome to Classroom ................\n",
      "Hello Welcome Classroom -----\n",
      "---------- Hello Welcome Classroom\n",
      "------- Hello Welcome Classroom --------\n"
     ]
    }
   ],
   "source": [
    "x=\"   Hello Welcome to Classroom            \"\n",
    "print(x)\n",
    "print(x.strip(),'................')\n",
    "x=\"Hello Welcome Classroom\"\n",
    "print(x.strip(),'-----')\n",
    "print('----------',x.strip())\n",
    "print('-------',x.strip(),'--------')\n",
    "\n"
   ]
  },
  {
   "cell_type": "code",
   "execution_count": 46,
   "id": "8d6efa85-d5e9-4426-a898-dde615f7cd7e",
   "metadata": {},
   "outputs": [],
   "source": [
    "## strip():-- it will remve space before and after string\n",
    "## lstrip():-- it will remove space before string.\n",
    "## rstrip():-- it will remove spcace after string.\n",
    "##----------- its only using for 'space'"
   ]
  },
  {
   "cell_type": "code",
   "execution_count": 47,
   "id": "20b4bee1-25ce-49d1-80d1-d686f6247069",
   "metadata": {},
   "outputs": [
    {
     "name": "stdout",
     "output_type": "stream",
     "text": [
      "Zudio Pantaloons Max Lakme\n",
      "Zudio Pantaloons Max Sugar\n"
     ]
    }
   ],
   "source": [
    "## replace():---------------------------\n",
    "#----------------------------------------------\n",
    "x=\"Zudio Pantaloons Max Lakme\"\n",
    "y=x.replace('Lakme','Sugar')\n",
    "print(x)\n",
    "print(y)"
   ]
  },
  {
   "cell_type": "code",
   "execution_count": 49,
   "id": "3ea22acc-b79e-41e5-9eee-f98162d7d7e2",
   "metadata": {},
   "outputs": [
    {
     "name": "stdout",
     "output_type": "stream",
     "text": [
      "Zudio Pantaloons Max Lakme\n",
      "Zudio Pantaloons Max \n"
     ]
    }
   ],
   "source": [
    "x=\"Zudio Pantaloons Max Lakme\"\n",
    "y=x.replace('Lakme','')\n",
    "print(x)\n",
    "print(y)\n",
    "## we can delete any eleemnt using replace"
   ]
  },
  {
   "cell_type": "code",
   "execution_count": 50,
   "id": "da68dfde-3a95-4477-88bf-6ae6d395ac55",
   "metadata": {},
   "outputs": [],
   "source": [
    "##split retrun list\n",
    "##join return string"
   ]
  },
  {
   "cell_type": "code",
   "execution_count": 51,
   "id": "e5453165-804e-4327-b478-173cf73a3bed",
   "metadata": {},
   "outputs": [
    {
     "name": "stdout",
     "output_type": "stream",
     "text": [
      "Zudio Pantaloons Max Lakme Lakme Lakme\n",
      "Zudio Pantaloons Max Sugar Sugar Sugar\n"
     ]
    }
   ],
   "source": [
    "x=\"Zudio Pantaloons Max Lakme Lakme Lakme\"\n",
    "y=x.replace('Lakme','Sugar')\n",
    "print(x)\n",
    "print(y)"
   ]
  },
  {
   "cell_type": "code",
   "execution_count": 52,
   "id": "59e573b9-6e6e-451f-85c4-c2b65ada5b36",
   "metadata": {},
   "outputs": [
    {
     "name": "stdout",
     "output_type": "stream",
     "text": [
      "Zudio Pantaloons Max Lakme Lakme Lakme\n",
      "Zudio Pantaloons Max Sugar Sugar Lakme\n"
     ]
    }
   ],
   "source": [
    "x=\"Zudio Pantaloons Max Lakme Lakme Lakme\"\n",
    "y=x.replace('Lakme','Sugar',2)  ## we can specify this properly\n",
    "print(x)\n",
    "print(y)"
   ]
  },
  {
   "cell_type": "code",
   "execution_count": 53,
   "id": "8c7eb8ca-7f5a-45f8-9848-d0a4e4d13cf4",
   "metadata": {},
   "outputs": [],
   "source": [
    "# MainString.replace(Target String,Replaceing String,count)\n",
    "\n",
    "##If count is not mentioned all occurrence of Target String will be \n",
    "#replaced by Replacing String\n",
    "\n",
    "#otherwise it will the count value."
   ]
  },
  {
   "cell_type": "code",
   "execution_count": 55,
   "id": "8569c833-d6e9-4bac-aaf7-b9da006b2492",
   "metadata": {},
   "outputs": [
    {
     "name": "stdout",
     "output_type": "stream",
     "text": [
      "33\n"
     ]
    }
   ],
   "source": [
    "##rfind():-----------------\n",
    "##-------------------------------------\n",
    "x=\"Zudio Pantaloons Max Lakme Lakme Lakme\"\n",
    "y=x.rfind(\"Lakme\")\n",
    "print(y)"
   ]
  },
  {
   "cell_type": "code",
   "execution_count": 56,
   "id": "632cde7a-bed7-4627-bfc6-0e5e3d796ff8",
   "metadata": {},
   "outputs": [
    {
     "name": "stdout",
     "output_type": "stream",
     "text": [
      "33\n"
     ]
    }
   ],
   "source": [
    "##rindex():------------------\n",
    "##--------------------------\n",
    "x=\"Zudio Pantaloons Max Lakme Lakme Lakme\"\n",
    "y=x.rindex(\"Lakme\")\n",
    "print(y)"
   ]
  },
  {
   "cell_type": "code",
   "execution_count": 57,
   "id": "16444129-0c17-40b3-a173-bd76bf0e4506",
   "metadata": {},
   "outputs": [
    {
     "ename": "ValueError",
     "evalue": "substring not found",
     "output_type": "error",
     "traceback": [
      "\u001b[1;31m---------------------------------------------------------------------------\u001b[0m",
      "\u001b[1;31mValueError\u001b[0m                                Traceback (most recent call last)",
      "Cell \u001b[1;32mIn[57], line 2\u001b[0m\n\u001b[0;32m      1\u001b[0m x\u001b[38;5;241m=\u001b[39m\u001b[38;5;124m\"\u001b[39m\u001b[38;5;124mZudio Pantaloons Max Lakme Lakme Lakme\u001b[39m\u001b[38;5;124m\"\u001b[39m\n\u001b[1;32m----> 2\u001b[0m y\u001b[38;5;241m=\u001b[39m\u001b[43mx\u001b[49m\u001b[38;5;241;43m.\u001b[39;49m\u001b[43mrindex\u001b[49m\u001b[43m(\u001b[49m\u001b[38;5;124;43m\"\u001b[39;49m\u001b[38;5;124;43mLaksmi\u001b[39;49m\u001b[38;5;124;43m\"\u001b[39;49m\u001b[43m)\u001b[49m\n\u001b[0;32m      3\u001b[0m \u001b[38;5;28mprint\u001b[39m(y)\n",
      "\u001b[1;31mValueError\u001b[0m: substring not found"
     ]
    }
   ],
   "source": [
    "x=\"Zudio Pantaloons Max Lakme Lakme Lakme\"\n",
    "y=x.rindex(\"Laksmi\")\n",
    "print(y)"
   ]
  },
  {
   "cell_type": "code",
   "execution_count": 58,
   "id": "0edd5cf3-55cb-4188-ac8c-65ea85cf50b2",
   "metadata": {},
   "outputs": [
    {
     "name": "stdout",
     "output_type": "stream",
     "text": [
      "-1\n"
     ]
    }
   ],
   "source": [
    "x=\"Zudio Pantaloons Max Lakme Lakme Lakme\"\n",
    "y=x.rfind(\"Laksmi\")\n",
    "print(y)"
   ]
  },
  {
   "cell_type": "code",
   "execution_count": 60,
   "id": "7fa5e052-7856-486c-a44e-f5591cda8bb4",
   "metadata": {},
   "outputs": [],
   "source": [
    "## rindex():----------------------------\n",
    "## if we get it in rindex() we get error\n",
    "## rfind():-------------\n",
    "## if we dont get it in rfind() we dont get any error\n",
    "\n",
    "## successful:-- Both output will be same\n",
    "    ## Failure:--- \n",
    "                ##rfind():--- -1\n",
    "                ##rindex():--- error"
   ]
  },
  {
   "cell_type": "code",
   "execution_count": 62,
   "id": "db0d7f40-51c0-4f08-8757-890a3dadcbb3",
   "metadata": {},
   "outputs": [
    {
     "name": "stdout",
     "output_type": "stream",
     "text": [
      "['Zudio', 'Pantaloons', 'Max', 'Lakme', 'Lakme', 'Lakme']\n"
     ]
    }
   ],
   "source": [
    "## rsplit(): here the main string will be splitted from RHS and only twice\n",
    "# split():-- here the main string will be splitted from LHS and only twice\n",
    "# LHS -----------------\n",
    "##------------------------------------\n",
    "x=\"Zudio Pantaloons Max Lakme Lakme Lakme\"\n",
    "y=x.rsplit(' ')\n",
    "print(y)"
   ]
  },
  {
   "cell_type": "code",
   "execution_count": 63,
   "id": "7638c248-4188-44fa-a8bd-10b29a728f9b",
   "metadata": {},
   "outputs": [
    {
     "name": "stdout",
     "output_type": "stream",
     "text": [
      "['Zudio Pantaloons Max Lakme', 'Lakme', 'Lakme']\n"
     ]
    }
   ],
   "source": [
    "x=\"Zudio Pantaloons Max Lakme Lakme Lakme\"\n",
    "y=x.rsplit(' ',2)\n",
    "print(y)"
   ]
  },
  {
   "cell_type": "code",
   "execution_count": 64,
   "id": "398e79b4-c5d7-43a7-8cc3-19b2845bd373",
   "metadata": {},
   "outputs": [
    {
     "name": "stdout",
     "output_type": "stream",
     "text": [
      "['Zudio', 'Pantaloons', 'Max Lakme Lakme Lakme']\n"
     ]
    }
   ],
   "source": [
    "x=\"Zudio Pantaloons Max Lakme Lakme Lakme\"\n",
    "y=x.split(' ',2)\n",
    "print(y)"
   ]
  },
  {
   "cell_type": "code",
   "execution_count": 66,
   "id": "f40c0a77-f9b9-4d39-aa1e-7d55efa74d97",
   "metadata": {},
   "outputs": [
    {
     "name": "stdout",
     "output_type": "stream",
     "text": [
      "zUDIO pANTALOONS mAX lAKME lAKME lAKME\n"
     ]
    }
   ],
   "source": [
    "##Swapcase():----------------------\n",
    "x=\"Zudio Pantaloons Max Lakme Lakme Lakme\"\n",
    "y=x.swapcase()\n",
    "print(y)\n",
    "\n",
    "##choto hater ---> boro hater\n",
    "##boro hater-----> choto hater"
   ]
  },
  {
   "cell_type": "code",
   "execution_count": 68,
   "id": "80b7d43f-4f99-4716-93f4-0c160cd5d869",
   "metadata": {},
   "outputs": [
    {
     "name": "stdout",
     "output_type": "stream",
     "text": [
      "123\n",
      "000123\n"
     ]
    }
   ],
   "source": [
    "##zfill():zero fill -------------------\n",
    "x=\"123\"\n",
    "print(x)\n",
    "y=x.zfill(6)\n",
    "print(y)"
   ]
  },
  {
   "cell_type": "code",
   "execution_count": 69,
   "id": "e8eff2e6-a4fa-4840-8da4-79b36080c153",
   "metadata": {},
   "outputs": [
    {
     "name": "stdout",
     "output_type": "stream",
     "text": [
      "1234\n",
      "@@1234\n"
     ]
    }
   ],
   "source": [
    "x=\"1234\"\n",
    "print(x)\n",
    "y='@'*(6-len(x))+x\n",
    "print(y)"
   ]
  },
  {
   "cell_type": "code",
   "execution_count": null,
   "id": "943acda8-7446-4158-9c83-689cfbf6a2f2",
   "metadata": {},
   "outputs": [],
   "source": []
  }
 ],
 "metadata": {
  "kernelspec": {
   "display_name": "Python 3 (ipykernel)",
   "language": "python",
   "name": "python3"
  },
  "language_info": {
   "codemirror_mode": {
    "name": "ipython",
    "version": 3
   },
   "file_extension": ".py",
   "mimetype": "text/x-python",
   "name": "python",
   "nbconvert_exporter": "python",
   "pygments_lexer": "ipython3",
   "version": "3.11.4"
  }
 },
 "nbformat": 4,
 "nbformat_minor": 5
}
