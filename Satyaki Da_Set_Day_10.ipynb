{
 "cells": [
  {
   "cell_type": "code",
   "execution_count": 1,
   "id": "a80b4715-c4b5-4798-b700-0467ea8d548d",
   "metadata": {},
   "outputs": [
    {
     "name": "stdout",
     "output_type": "stream",
     "text": [
      "set()\n",
      "<class 'set'>\n"
     ]
    },
    {
     "data": {
      "text/plain": [
       "['__and__',\n",
       " '__class__',\n",
       " '__class_getitem__',\n",
       " '__contains__',\n",
       " '__delattr__',\n",
       " '__dir__',\n",
       " '__doc__',\n",
       " '__eq__',\n",
       " '__format__',\n",
       " '__ge__',\n",
       " '__getattribute__',\n",
       " '__getstate__',\n",
       " '__gt__',\n",
       " '__hash__',\n",
       " '__iand__',\n",
       " '__init__',\n",
       " '__init_subclass__',\n",
       " '__ior__',\n",
       " '__isub__',\n",
       " '__iter__',\n",
       " '__ixor__',\n",
       " '__le__',\n",
       " '__len__',\n",
       " '__lt__',\n",
       " '__ne__',\n",
       " '__new__',\n",
       " '__or__',\n",
       " '__rand__',\n",
       " '__reduce__',\n",
       " '__reduce_ex__',\n",
       " '__repr__',\n",
       " '__ror__',\n",
       " '__rsub__',\n",
       " '__rxor__',\n",
       " '__setattr__',\n",
       " '__sizeof__',\n",
       " '__str__',\n",
       " '__sub__',\n",
       " '__subclasshook__',\n",
       " '__xor__',\n",
       " 'add',\n",
       " 'clear',\n",
       " 'copy',\n",
       " 'difference',\n",
       " 'difference_update',\n",
       " 'discard',\n",
       " 'intersection',\n",
       " 'intersection_update',\n",
       " 'isdisjoint',\n",
       " 'issubset',\n",
       " 'issuperset',\n",
       " 'pop',\n",
       " 'remove',\n",
       " 'symmetric_difference',\n",
       " 'symmetric_difference_update',\n",
       " 'union',\n",
       " 'update']"
      ]
     },
     "execution_count": 1,
     "metadata": {},
     "output_type": "execute_result"
    }
   ],
   "source": [
    "s=set()\n",
    "print(s)\n",
    "print(type(s))\n",
    "dir(set)"
   ]
  },
  {
   "cell_type": "code",
   "execution_count": 3,
   "id": "1d2e2d8a-9b7c-4b62-b2dc-02f9ee29c170",
   "metadata": {},
   "outputs": [
    {
     "name": "stdout",
     "output_type": "stream",
     "text": [
      "{50, 20, 40, 10, 30}\n",
      "{50, 20, 40, 10, 60, 30}\n"
     ]
    }
   ],
   "source": [
    "## add():----------------------\n",
    "## in set\n",
    "## As set is unordered for that in any place element can add\n",
    "s={10,20,30,40,50}\n",
    "print(s)\n",
    "s.add(60)\n",
    "print(s)"
   ]
  },
  {
   "cell_type": "code",
   "execution_count": 5,
   "id": "b8dc21bf-b6be-43c4-a6f3-dd0815be316b",
   "metadata": {},
   "outputs": [
    {
     "name": "stdout",
     "output_type": "stream",
     "text": [
      "{50, 20, 40, 10, 30}\n"
     ]
    },
    {
     "ename": "TypeError",
     "evalue": "unhashable type: 'set'",
     "output_type": "error",
     "traceback": [
      "\u001b[1;31m---------------------------------------------------------------------------\u001b[0m",
      "\u001b[1;31mTypeError\u001b[0m                                 Traceback (most recent call last)",
      "Cell \u001b[1;32mIn[5], line 4\u001b[0m\n\u001b[0;32m      2\u001b[0m s\u001b[38;5;241m=\u001b[39m{\u001b[38;5;241m10\u001b[39m,\u001b[38;5;241m20\u001b[39m,\u001b[38;5;241m30\u001b[39m,\u001b[38;5;241m40\u001b[39m,\u001b[38;5;241m50\u001b[39m}\n\u001b[0;32m      3\u001b[0m \u001b[38;5;28mprint\u001b[39m(s)\n\u001b[1;32m----> 4\u001b[0m \u001b[43ms\u001b[49m\u001b[38;5;241;43m.\u001b[39;49m\u001b[43madd\u001b[49m\u001b[43m(\u001b[49m\u001b[43m{\u001b[49m\u001b[38;5;241;43m60\u001b[39;49m\u001b[43m,\u001b[49m\u001b[38;5;241;43m70\u001b[39;49m\u001b[43m}\u001b[49m\u001b[43m)\u001b[49m\n\u001b[0;32m      5\u001b[0m \u001b[38;5;28mprint\u001b[39m(s)\n\u001b[0;32m      6\u001b[0m \u001b[38;5;66;03m## set in set add cannot possible :-- it shows error\u001b[39;00m\n",
      "\u001b[1;31mTypeError\u001b[0m: unhashable type: 'set'"
     ]
    }
   ],
   "source": [
    "## Multiple element:--\n",
    "s={10,20,30,40,50}\n",
    "print(s)\n",
    "s.add({60,70})\n",
    "print(s)\n",
    "## set in set add cannot possible :-- it shows error"
   ]
  },
  {
   "cell_type": "code",
   "execution_count": 61,
   "id": "bb09310c-1315-4d0f-8f99-eca4ba7e00eb",
   "metadata": {},
   "outputs": [
    {
     "name": "stdout",
     "output_type": "stream",
     "text": [
      "{50, 20, 40, 10, 30}\n"
     ]
    },
    {
     "ename": "TypeError",
     "evalue": "unhashable type: 'list'",
     "output_type": "error",
     "traceback": [
      "\u001b[1;31m---------------------------------------------------------------------------\u001b[0m",
      "\u001b[1;31mTypeError\u001b[0m                                 Traceback (most recent call last)",
      "Cell \u001b[1;32mIn[61], line 3\u001b[0m\n\u001b[0;32m      1\u001b[0m s\u001b[38;5;241m=\u001b[39m{\u001b[38;5;241m10\u001b[39m,\u001b[38;5;241m20\u001b[39m,\u001b[38;5;241m30\u001b[39m,\u001b[38;5;241m40\u001b[39m,\u001b[38;5;241m50\u001b[39m}\n\u001b[0;32m      2\u001b[0m \u001b[38;5;28mprint\u001b[39m(s)\n\u001b[1;32m----> 3\u001b[0m \u001b[43ms\u001b[49m\u001b[38;5;241;43m.\u001b[39;49m\u001b[43madd\u001b[49m\u001b[43m(\u001b[49m\u001b[43m[\u001b[49m\u001b[38;5;241;43m60\u001b[39;49m\u001b[43m,\u001b[49m\u001b[38;5;241;43m70\u001b[39;49m\u001b[43m]\u001b[49m\u001b[43m)\u001b[49m\n\u001b[0;32m      4\u001b[0m \u001b[38;5;28mprint\u001b[39m(s)\n",
      "\u001b[1;31mTypeError\u001b[0m: unhashable type: 'list'"
     ]
    }
   ],
   "source": [
    "s={10,20,30,40,50}\n",
    "print(s)\n",
    "s.add([60,70])\n",
    "print(s)"
   ]
  },
  {
   "cell_type": "code",
   "execution_count": 62,
   "id": "8af31c18-40b2-4da2-ad1f-7bff2894032d",
   "metadata": {},
   "outputs": [
    {
     "name": "stdout",
     "output_type": "stream",
     "text": [
      "{50, 20, 40, 10, 30}\n",
      "{50, 20, 40, 10, (60, 70), 30}\n"
     ]
    }
   ],
   "source": [
    "s={10,20,30,40,50}\n",
    "print(s)\n",
    "s.add((60,70))\n",
    "print(s)"
   ]
  },
  {
   "cell_type": "code",
   "execution_count": 14,
   "id": "52abc375-8607-4bca-aba0-e377a110da31",
   "metadata": {},
   "outputs": [
    {
     "name": "stdout",
     "output_type": "stream",
     "text": [
      "{50, 20, 40, 10, 30}\n",
      "{50, 20, 40, 10}\n"
     ]
    }
   ],
   "source": [
    "## discard():---------------------\n",
    "s={10,20,30,40,50}\n",
    "print(s)\n",
    "s.discard(30)\n",
    "s.discard(90)\n",
    "print(s)\n",
    "## in discard:-- if a value is present in set then it will remove \n",
    "## in discard :-- jodi valo na thake kono rokom error show korbe naa"
   ]
  },
  {
   "cell_type": "code",
   "execution_count": null,
   "id": "5c9dd862-0115-4611-851d-f27fdf3b8c52",
   "metadata": {},
   "outputs": [],
   "source": []
  },
  {
   "cell_type": "code",
   "execution_count": 15,
   "id": "bf03a56d-cdeb-447b-9b37-72a64bb06935",
   "metadata": {},
   "outputs": [],
   "source": [
    "## Here 30 is present in the set:--- \n",
    "## then 30 is deleted \n",
    "## here 90 is absent in the set:-- it try to delete\n",
    "## there will be no change and no error at all"
   ]
  },
  {
   "cell_type": "code",
   "execution_count": 18,
   "id": "237c69cb-f884-4fb8-aa54-41191c328144",
   "metadata": {},
   "outputs": [
    {
     "name": "stdout",
     "output_type": "stream",
     "text": [
      "{50, 20, 40, 10, 30}\n",
      "set()\n"
     ]
    }
   ],
   "source": [
    "## clear():-----------------\n",
    "##-----------------\n",
    "s={10,20,30,40,50}\n",
    "print(s)\n",
    "s.clear()\n",
    "print(s)"
   ]
  },
  {
   "cell_type": "code",
   "execution_count": 19,
   "id": "15228d72-e954-4cca-a700-913d86a5dd99",
   "metadata": {},
   "outputs": [],
   "source": [
    "## s.clear:---> this method will return None\n"
   ]
  },
  {
   "cell_type": "code",
   "execution_count": 33,
   "id": "0d2d6686-cdbb-4d5a-8d1d-9dbf04fcbe05",
   "metadata": {},
   "outputs": [
    {
     "name": "stdout",
     "output_type": "stream",
     "text": [
      "{50, 20, 40, 10, 30}\n",
      "{50, 20, 40, 10, 30}\n",
      "2655467994048\n",
      "2655467994496\n",
      "{50, 40, 10, 30}\n",
      "{50, 20, 40, 10, 30}\n"
     ]
    }
   ],
   "source": [
    "## Copy:---------------------\n",
    "##---------------------------------\n",
    "s={10,20,30,40,50}\n",
    "print(s)\n",
    "y=s.copy() \n",
    "print(y)\n",
    "y.discard(20)\n",
    "\n",
    "print(id(s))\n",
    "print(id(y)) \n",
    "print(y)\n",
    "print(s)\n",
    "## here, as address is not same for that if one is updated another will not updated\n",
    "## person will not same\n",
    "## here id will not same so that it will call Deep Copy"
   ]
  },
  {
   "cell_type": "code",
   "execution_count": 34,
   "id": "635d0fcf-d090-4a20-8c96-1e76322da55e",
   "metadata": {},
   "outputs": [],
   "source": [
    "## here id(s) is not equals to id(y)\n",
    "## so, we can consider both of them as Deep Copy"
   ]
  },
  {
   "cell_type": "code",
   "execution_count": 35,
   "id": "56aec385-69ef-4228-b046-92f4889752c3",
   "metadata": {},
   "outputs": [
    {
     "name": "stdout",
     "output_type": "stream",
     "text": [
      "{50, 20, 40, 10, 30}\n",
      "{50, 20, 40, 10, 30}\n",
      "2655467993152\n",
      "2655467993152\n",
      "{50, 40, 10, 30}\n",
      "{50, 40, 10, 30}\n"
     ]
    }
   ],
   "source": [
    "s={10,20,30,40,50}\n",
    "print(s)\n",
    "y=s  ### shallow copy\n",
    "print(y)\n",
    "y.discard(20)\n",
    "\n",
    "print(id(s))\n",
    "print(id(y))\n",
    "print(y)\n",
    "print(s)\n",
    "## person will same \n",
    "## address same for that uf we nmodify one another will be modify"
   ]
  },
  {
   "cell_type": "code",
   "execution_count": 31,
   "id": "a63ee81d-d1b6-4e76-9d33-8315a4bf03ce",
   "metadata": {},
   "outputs": [],
   "source": [
    "## here id(s) is equals to id(y)\n",
    "# so, we can consider both of them as Shallow Copy"
   ]
  },
  {
   "cell_type": "code",
   "execution_count": 36,
   "id": "cc4f13c2-577d-4f50-93af-5ca5bee92de5",
   "metadata": {},
   "outputs": [],
   "source": [
    "## s and y both are pointed at same address"
   ]
  },
  {
   "cell_type": "code",
   "execution_count": 37,
   "id": "0e0e586c-a9af-4f7e-9558-2872d8a82442",
   "metadata": {},
   "outputs": [],
   "source": [
    "## deep copy:-- address will not same \n",
    "## shallow copy:-- address will same"
   ]
  },
  {
   "cell_type": "code",
   "execution_count": 46,
   "id": "02b09a4b-6c07-4322-b381-5e419c84e21b",
   "metadata": {},
   "outputs": [
    {
     "name": "stdout",
     "output_type": "stream",
     "text": [
      "{50, 20, 40, 10, 30}\n",
      "{20, 40, 10, 30}\n",
      "{40, 10, 30}\n"
     ]
    }
   ],
   "source": [
    "## pop(): when we are using s.pop(30):--\n",
    "# It will throw error as pop() in set doesnot take any argument\n",
    "# For that reason we are getting error-----------------------\n",
    "##--------------------------------\n",
    "s={10,20,30,40,50}\n",
    "print(s)\n",
    "s.pop()\n",
    "print(s)\n",
    "s.pop()\n",
    "print(s)\n",
    "## here using pop(),\n",
    "## we can remove any eleement using pop() in a random order"
   ]
  },
  {
   "cell_type": "code",
   "execution_count": 47,
   "id": "3815b1fd-6f2f-4dc8-a0c0-0e4f6d32ca4d",
   "metadata": {},
   "outputs": [
    {
     "name": "stdout",
     "output_type": "stream",
     "text": [
      "{50, 20, 40, 10, 30}\n"
     ]
    },
    {
     "ename": "TypeError",
     "evalue": "set.pop() takes no arguments (1 given)",
     "output_type": "error",
     "traceback": [
      "\u001b[1;31m---------------------------------------------------------------------------\u001b[0m",
      "\u001b[1;31mTypeError\u001b[0m                                 Traceback (most recent call last)",
      "Cell \u001b[1;32mIn[47], line 3\u001b[0m\n\u001b[0;32m      1\u001b[0m s\u001b[38;5;241m=\u001b[39m{\u001b[38;5;241m10\u001b[39m,\u001b[38;5;241m20\u001b[39m,\u001b[38;5;241m30\u001b[39m,\u001b[38;5;241m40\u001b[39m,\u001b[38;5;241m50\u001b[39m}\n\u001b[0;32m      2\u001b[0m \u001b[38;5;28mprint\u001b[39m(s)\n\u001b[1;32m----> 3\u001b[0m \u001b[43ms\u001b[49m\u001b[38;5;241;43m.\u001b[39;49m\u001b[43mpop\u001b[49m\u001b[43m(\u001b[49m\u001b[38;5;241;43m30\u001b[39;49m\u001b[43m)\u001b[49m\n\u001b[0;32m      4\u001b[0m \u001b[38;5;28mprint\u001b[39m(s)\n",
      "\u001b[1;31mTypeError\u001b[0m: set.pop() takes no arguments (1 given)"
     ]
    }
   ],
   "source": [
    "s={10,20,30,40,50}\n",
    "print(s)\n",
    "s.pop(30)\n",
    "print(s)"
   ]
  },
  {
   "cell_type": "code",
   "execution_count": 48,
   "id": "dbd3c09e-db70-443e-bb48-e2e0ca871cf2",
   "metadata": {},
   "outputs": [],
   "source": [
    "## in python we use interpreter"
   ]
  },
  {
   "cell_type": "code",
   "execution_count": 50,
   "id": "e0b199c8-effd-4a45-987f-afc32f985b0b",
   "metadata": {},
   "outputs": [
    {
     "name": "stdout",
     "output_type": "stream",
     "text": [
      "{50, 20, 40, 10, 30}\n",
      "{50, 40, 10, 30}\n"
     ]
    },
    {
     "ename": "KeyError",
     "evalue": "90",
     "output_type": "error",
     "traceback": [
      "\u001b[1;31m---------------------------------------------------------------------------\u001b[0m",
      "\u001b[1;31mKeyError\u001b[0m                                  Traceback (most recent call last)",
      "Cell \u001b[1;32mIn[50], line 7\u001b[0m\n\u001b[0;32m      5\u001b[0m s\u001b[38;5;241m.\u001b[39mremove(\u001b[38;5;241m20\u001b[39m)\n\u001b[0;32m      6\u001b[0m \u001b[38;5;28mprint\u001b[39m(s)\n\u001b[1;32m----> 7\u001b[0m \u001b[43ms\u001b[49m\u001b[38;5;241;43m.\u001b[39;49m\u001b[43mremove\u001b[49m\u001b[43m(\u001b[49m\u001b[38;5;241;43m90\u001b[39;49m\u001b[43m)\u001b[49m\n\u001b[0;32m      8\u001b[0m \u001b[38;5;28mprint\u001b[39m(s)\n\u001b[0;32m     10\u001b[0m \u001b[38;5;66;03m## remove is similar to discard but:---\u001b[39;00m\n\u001b[0;32m     11\u001b[0m \u001b[38;5;66;03m## if we delete an eleemtn that is present ,it will delete\u001b[39;00m\n\u001b[0;32m     12\u001b[0m \u001b[38;5;66;03m## if we try delete an element that is absent ,will throw keyerror\u001b[39;00m\n",
      "\u001b[1;31mKeyError\u001b[0m: 90"
     ]
    }
   ],
   "source": [
    "## remove():-----------------\n",
    "##-------------------------------\n",
    "s={10,20,30,40,50}\n",
    "print(s)\n",
    "s.remove(20)\n",
    "print(s)\n",
    "s.remove(90)\n",
    "print(s)\n",
    "\n",
    "## remove is similar to discard but:---\n",
    "## if we delete an eleemtn that is present ,it will delete\n",
    "## if we try delete an element that is absent ,will throw keyerror"
   ]
  },
  {
   "cell_type": "code",
   "execution_count": 52,
   "id": "de57eaa3-ee44-43af-9592-168d3e9943b4",
   "metadata": {},
   "outputs": [],
   "source": [
    "## discrad is better than remove\n",
    "## discaerd shows error'\n",
    "## remove doesnot show any error"
   ]
  },
  {
   "cell_type": "code",
   "execution_count": 58,
   "id": "c75299c5-c990-4232-9983-02b4412cc0fc",
   "metadata": {},
   "outputs": [
    {
     "name": "stdout",
     "output_type": "stream",
     "text": [
      "{50, 20, 40, 10, 30}\n",
      "{50, 20, 90, 40, 10, 30}\n",
      "{50, 20, 90, 40, 10, 30}\n",
      "{40, 10, 50, 20, 55, 89, 90, 30}\n",
      "{40, 10, 11, 77, 50, 20, 55, 88, 89, 90, 30}\n",
      "{66, 40, 10, 11, 44, 77, 50, 20, 22, 55, 88, 89, 90, 30}\n",
      "{66, 'b', 40, 10, 11, 44, 77, 50, 'a', 20, 22, 55, 88, 89, 90, 30}\n"
     ]
    }
   ],
   "source": [
    "## update(): we can pass set/tuple/list/dict-----------------\n",
    "##------------------------\n",
    "s={10,20,30,40,50}\n",
    "print(s)\n",
    "s.update({90})\n",
    "print(s)\n",
    "print(s)\n",
    "## we can pass multiple elelemts:--\n",
    "s.update({90,55,89})  ## as a set\n",
    "print(s)\n",
    "s.update([77,88,11]) ## as a list\n",
    "print(s)\n",
    "s.update((66,44,22))  ## as a tuple\n",
    "print(s)\n",
    "\n",
    "s.update({'a':10,'b':89})\n",
    "print(s)"
   ]
  },
  {
   "cell_type": "code",
   "execution_count": 63,
   "id": "9c2d0186-f634-4063-9005-8abd11dee7f1",
   "metadata": {},
   "outputs": [
    {
     "name": "stdout",
     "output_type": "stream",
     "text": [
      "{50, 20, 40, 10, 30}\n"
     ]
    },
    {
     "ename": "TypeError",
     "evalue": "'int' object is not iterable",
     "output_type": "error",
     "traceback": [
      "\u001b[1;31m---------------------------------------------------------------------------\u001b[0m",
      "\u001b[1;31mTypeError\u001b[0m                                 Traceback (most recent call last)",
      "Cell \u001b[1;32mIn[63], line 3\u001b[0m\n\u001b[0;32m      1\u001b[0m s\u001b[38;5;241m=\u001b[39m{\u001b[38;5;241m10\u001b[39m,\u001b[38;5;241m20\u001b[39m,\u001b[38;5;241m30\u001b[39m,\u001b[38;5;241m40\u001b[39m,\u001b[38;5;241m50\u001b[39m}\n\u001b[0;32m      2\u001b[0m \u001b[38;5;28mprint\u001b[39m(s)\n\u001b[1;32m----> 3\u001b[0m \u001b[43ms\u001b[49m\u001b[38;5;241;43m.\u001b[39;49m\u001b[43mupdate\u001b[49m\u001b[43m(\u001b[49m\u001b[38;5;241;43m90\u001b[39;49m\u001b[43m,\u001b[49m\u001b[38;5;241;43m77\u001b[39;49m\u001b[43m,\u001b[49m\u001b[38;5;241;43m88\u001b[39;49m\u001b[43m)\u001b[49m\n\u001b[0;32m      4\u001b[0m \u001b[38;5;28mprint\u001b[39m(s)\n",
      "\u001b[1;31mTypeError\u001b[0m: 'int' object is not iterable"
     ]
    }
   ],
   "source": [
    "s={10,20,30,40,50}\n",
    "print(s)\n",
    "s.update(90,77,88)\n",
    "print(s)"
   ]
  },
  {
   "cell_type": "code",
   "execution_count": null,
   "id": "a91656e1-1d6b-4964-a628-09c5422c43fa",
   "metadata": {},
   "outputs": [],
   "source": []
  }
 ],
 "metadata": {
  "kernelspec": {
   "display_name": "Python 3 (ipykernel)",
   "language": "python",
   "name": "python3"
  },
  "language_info": {
   "codemirror_mode": {
    "name": "ipython",
    "version": 3
   },
   "file_extension": ".py",
   "mimetype": "text/x-python",
   "name": "python",
   "nbconvert_exporter": "python",
   "pygments_lexer": "ipython3",
   "version": "3.11.4"
  }
 },
 "nbformat": 4,
 "nbformat_minor": 5
}
