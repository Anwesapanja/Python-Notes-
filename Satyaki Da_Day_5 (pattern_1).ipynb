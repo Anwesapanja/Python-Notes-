{
 "cells": [
  {
   "cell_type": "markdown",
   "id": "11a25715-17d6-43ae-94d7-8a8cb4b0bd36",
   "metadata": {},
   "source": [
    "#### Pattern Print:-------------------"
   ]
  },
  {
   "cell_type": "code",
   "execution_count": null,
   "id": "ee4a4d42-ba16-4eb1-b867-9f6aeb8fe047",
   "metadata": {},
   "outputs": [],
   "source": [
    "## Type 1 :------------pattern 1\n",
    "n=int(input())\n",
    "for row in range(1,n+1,1):\n",
    "    for col in range(1,n+1,1):\n",
    "        print('*',end=' ')\n",
    "    print()   "
   ]
  },
  {
   "cell_type": "code",
   "execution_count": null,
   "id": "2aacf2eb-e08d-46f5-ba12-924b46bf1ed7",
   "metadata": {},
   "outputs": [],
   "source": [
    "## Type 1:-----------pattern 2\n",
    " ## here the row will same:--\n",
    "n=int(input())\n",
    "for row in range(1,n+1,1):\n",
    "    for col in range(1,n+1,1):\n",
    "        print(row,end=' ')\n",
    "    print()   "
   ]
  },
  {
   "cell_type": "code",
   "execution_count": null,
   "id": "4fed5e4a-6664-4a8c-b090-b07905d95ca4",
   "metadata": {},
   "outputs": [],
   "source": [
    "## Type 1 :----------pattern 3\n",
    "n=int(input())\n",
    "for row in range(1,n+1,1):\n",
    "    for col in range(1,n+1,1):\n",
    "        print(col,end=' ')\n",
    "    print()   "
   ]
  },
  {
   "cell_type": "code",
   "execution_count": null,
   "id": "0406817d-fa9b-4bbd-93ee-5edb91fbae8e",
   "metadata": {},
   "outputs": [],
   "source": [
    "## Type 1:------------------pattern 4\n",
    "n=int(input())\n",
    "for row in range(1,n+1,1):\n",
    "    for col in range(1,n+1,1):\n",
    "        print(chr(row+64),end=' ')\n",
    "    print()   "
   ]
  },
  {
   "cell_type": "code",
   "execution_count": 3,
   "id": "6c22b506-822d-4d05-b88c-ec38056e3042",
   "metadata": {},
   "outputs": [
    {
     "name": "stdin",
     "output_type": "stream",
     "text": [
      " 4\n"
     ]
    },
    {
     "name": "stdout",
     "output_type": "stream",
     "text": [
      "A B C D \n",
      "A B C D \n",
      "A B C D \n",
      "A B C D \n"
     ]
    }
   ],
   "source": [
    "## Type 1:---------------pattern 5\n",
    "n=int(input())\n",
    "for row in range(1,n+1,1):\n",
    "    for col in range(1,n+1,1):\n",
    "        print(chr(col+64),end=' ')\n",
    "    print()    "
   ]
  },
  {
   "cell_type": "code",
   "execution_count": 1,
   "id": "194548f4-51ed-4484-893b-a07b753ec491",
   "metadata": {},
   "outputs": [
    {
     "name": "stdin",
     "output_type": "stream",
     "text": [
      " 4\n"
     ]
    },
    {
     "name": "stdout",
     "output_type": "stream",
     "text": [
      "4 4 4 4 \n",
      "3 3 3 3 \n",
      "2 2 2 2 \n",
      "1 1 1 1 \n"
     ]
    }
   ],
   "source": [
    "n=int(input())\n",
    "for row in range(n,0,-1):\n",
    "    for col in range(1,n+1,1):\n",
    "        print(row,end=' ')\n",
    "    print()    "
   ]
  },
  {
   "cell_type": "code",
   "execution_count": 6,
   "id": "b1edd32b-4e95-4cec-b267-f18241676fe6",
   "metadata": {},
   "outputs": [
    {
     "name": "stdin",
     "output_type": "stream",
     "text": [
      " 4\n"
     ]
    },
    {
     "name": "stdout",
     "output_type": "stream",
     "text": [
      "4 3 2 1 \n",
      "4 3 2 1 \n",
      "4 3 2 1 \n",
      "4 3 2 1 \n"
     ]
    }
   ],
   "source": [
    "n=int(input())\n",
    "for row in range(1,n+1,1):\n",
    "    for col in range(n,0,-1):\n",
    "        print(col,end=' ')\n",
    "    print()   "
   ]
  },
  {
   "cell_type": "code",
   "execution_count": 7,
   "id": "6564ae54-23ba-4867-be5f-c84e860e0bb9",
   "metadata": {},
   "outputs": [
    {
     "name": "stdin",
     "output_type": "stream",
     "text": [
      " 4\n"
     ]
    },
    {
     "name": "stdout",
     "output_type": "stream",
     "text": [
      "D D D D \n",
      "C C C C \n",
      "B B B B \n",
      "A A A A \n"
     ]
    }
   ],
   "source": [
    "n=int(input())\n",
    "for row in range(n,0,-1):\n",
    "    for col in range(1,n+1,1):\n",
    "        print(chr(row+64),end=' ')\n",
    "    print()    "
   ]
  },
  {
   "cell_type": "code",
   "execution_count": 8,
   "id": "9c8a7f0c-4412-4caf-90e0-1345f61e4f10",
   "metadata": {},
   "outputs": [
    {
     "name": "stdin",
     "output_type": "stream",
     "text": [
      " 4\n"
     ]
    },
    {
     "name": "stdout",
     "output_type": "stream",
     "text": [
      "D C B A \n",
      "D C B A \n",
      "D C B A \n",
      "D C B A \n"
     ]
    }
   ],
   "source": [
    "n=int(input())\n",
    "for row in range(1,n+1,1):\n",
    "    for col in range(n,0,-1):\n",
    "        print(chr(col+64),end=' ')\n",
    "    print()    "
   ]
  },
  {
   "cell_type": "code",
   "execution_count": 11,
   "id": "ccece30d-c315-4dd1-b77d-6fe131f4a9db",
   "metadata": {},
   "outputs": [
    {
     "name": "stdin",
     "output_type": "stream",
     "text": [
      " 4\n"
     ]
    },
    {
     "name": "stdout",
     "output_type": "stream",
     "text": [
      "* \n",
      "* * \n",
      "* * * \n",
      "* * * * \n"
     ]
    }
   ],
   "source": [
    "### Type 2:--------------------------------------------------------------\n",
    "# Traingle Pattern:--------------------------------\n",
    "#---------------------------------------------------------------\n",
    "n=int(input())\n",
    "for row in range(1,n+1,1):\n",
    "    for col in range(1,row+1,1):\n",
    "        print('*',end=' ')\n",
    "    print()   "
   ]
  },
  {
   "cell_type": "code",
   "execution_count": 3,
   "id": "171a382c-e79d-4974-955c-0c84baef5a15",
   "metadata": {},
   "outputs": [
    {
     "name": "stdin",
     "output_type": "stream",
     "text": [
      " 4\n"
     ]
    },
    {
     "name": "stdout",
     "output_type": "stream",
     "text": [
      "1 \n",
      "2 2 \n",
      "3 3 3 \n",
      "4 4 4 4 \n"
     ]
    }
   ],
   "source": [
    "n=int(input())\n",
    "for row in range(1,n+1,1):\n",
    "    for col in range(1,row+1,1):\n",
    "        print(row,end=' ')\n",
    "    print()   "
   ]
  },
  {
   "cell_type": "code",
   "execution_count": 4,
   "id": "24499278-8568-44d7-9319-bfbaa0d2e9d2",
   "metadata": {},
   "outputs": [
    {
     "name": "stdin",
     "output_type": "stream",
     "text": [
      " 4\n"
     ]
    },
    {
     "name": "stdout",
     "output_type": "stream",
     "text": [
      "1 \n",
      "1 2 \n",
      "1 2 3 \n",
      "1 2 3 4 \n"
     ]
    }
   ],
   "source": [
    "n=int(input())\n",
    "for row in range(1,n+1,1):\n",
    "    for col in range(1,row+1,1):\n",
    "        print(col,end=' ')\n",
    "    print()   "
   ]
  },
  {
   "cell_type": "code",
   "execution_count": 6,
   "id": "76a98592-79a0-4a54-bced-94cf356492ef",
   "metadata": {},
   "outputs": [
    {
     "name": "stdin",
     "output_type": "stream",
     "text": [
      " 4\n"
     ]
    },
    {
     "name": "stdout",
     "output_type": "stream",
     "text": [
      "A \n",
      "B B \n",
      "C C C \n",
      "D D D D \n"
     ]
    }
   ],
   "source": [
    "n=int(input())\n",
    "for row in range(1,n+1,1):\n",
    "    for col in range(1,row+1,1):\n",
    "        print(chr(row+64),end=' ')\n",
    "    print()   "
   ]
  },
  {
   "cell_type": "code",
   "execution_count": 7,
   "id": "996c89e0-93c1-4719-a79b-da0fd74908ba",
   "metadata": {},
   "outputs": [
    {
     "name": "stdin",
     "output_type": "stream",
     "text": [
      " 4\n"
     ]
    },
    {
     "name": "stdout",
     "output_type": "stream",
     "text": [
      "A \n",
      "A B \n",
      "A B C \n",
      "A B C D \n"
     ]
    }
   ],
   "source": [
    "n=int(input())\n",
    "for row in range(1,n+1,1):\n",
    "    for col in range(1,row+1,1):\n",
    "        print(chr(col+64),end=' ')\n",
    "    print()   "
   ]
  },
  {
   "cell_type": "code",
   "execution_count": 13,
   "id": "01dfbef9-54cd-4768-9bc1-cb7c79f7196d",
   "metadata": {},
   "outputs": [
    {
     "name": "stdin",
     "output_type": "stream",
     "text": [
      " 4\n"
     ]
    },
    {
     "name": "stdout",
     "output_type": "stream",
     "text": [
      "4 \n",
      "3 3 \n",
      "2 2 2 \n",
      "1 1 1 1 \n"
     ]
    }
   ],
   "source": [
    "n=int(input())\n",
    "for row in range(n,0,-1):\n",
    "    for col in range(n,row-1,-1):\n",
    "        print(row,end=' ')\n",
    "    print()   \n",
    "        "
   ]
  },
  {
   "cell_type": "code",
   "execution_count": 14,
   "id": "df86d69f-17b5-4161-a13c-7b9fc2dfcaf7",
   "metadata": {},
   "outputs": [
    {
     "name": "stdin",
     "output_type": "stream",
     "text": [
      " 4\n"
     ]
    },
    {
     "name": "stdout",
     "output_type": "stream",
     "text": [
      "4 \n",
      "4 3 \n",
      "4 3 2 \n",
      "4 3 2 1 \n"
     ]
    }
   ],
   "source": [
    "n=int(input())\n",
    "for row in range(n,0,-1):\n",
    "    for col in range(n,row-1,-1):\n",
    "        print(col,end=' ')\n",
    "    print()\n"
   ]
  },
  {
   "cell_type": "code",
   "execution_count": 15,
   "id": "360ee33c-2ba8-49e5-b78a-573754c48c31",
   "metadata": {},
   "outputs": [
    {
     "name": "stdin",
     "output_type": "stream",
     "text": [
      " 4\n"
     ]
    },
    {
     "name": "stdout",
     "output_type": "stream",
     "text": [
      "D \n",
      "C C \n",
      "B B B \n",
      "A A A A \n"
     ]
    }
   ],
   "source": [
    "n=int(input())\n",
    "for row in range(n,0,-1):\n",
    "    for col in range(n,row-1,-1):\n",
    "        print(chr(row+64),end=' ')\n",
    "    print()\n"
   ]
  },
  {
   "cell_type": "code",
   "execution_count": 16,
   "id": "f4d23030-9455-425a-ab85-f25069f410f7",
   "metadata": {},
   "outputs": [
    {
     "name": "stdin",
     "output_type": "stream",
     "text": [
      " 4\n"
     ]
    },
    {
     "name": "stdout",
     "output_type": "stream",
     "text": [
      "D \n",
      "D C \n",
      "D C B \n",
      "D C B A \n"
     ]
    }
   ],
   "source": [
    "n=int(input())\n",
    "for row in range(n,0,-1):\n",
    "    for col in range(n,row-1,-1):\n",
    "        print(chr(col+64),end=' ')\n",
    "    print()\n"
   ]
  },
  {
   "cell_type": "code",
   "execution_count": 19,
   "id": "866cb29b-fef0-4f07-adc4-dff80f0fe764",
   "metadata": {},
   "outputs": [
    {
     "name": "stdin",
     "output_type": "stream",
     "text": [
      " 4\n"
     ]
    },
    {
     "name": "stdout",
     "output_type": "stream",
     "text": [
      "* * * * \n",
      "* * * \n",
      "* * \n",
      "* \n"
     ]
    }
   ],
   "source": [
    "##Type 3:---------------\n",
    "#-----------------------------------------------------------------\n",
    "n=int(input())\n",
    "for row in range(n,0,-1):\n",
    "    for col in range(1,row+1,1):\n",
    "        print('*',end=' ')\n",
    "    print()   "
   ]
  },
  {
   "cell_type": "code",
   "execution_count": 21,
   "id": "52067305-8520-4a06-b644-e75f10f5c769",
   "metadata": {},
   "outputs": [
    {
     "name": "stdin",
     "output_type": "stream",
     "text": [
      " 4\n"
     ]
    },
    {
     "name": "stdout",
     "output_type": "stream",
     "text": [
      "* * * * \n",
      "* * * \n",
      "* * \n",
      "* \n"
     ]
    }
   ],
   "source": [
    "n=int(input())\n",
    "for row in range(1,n+1,1):\n",
    "    for col in range(n,row-1,-1):\n",
    "        print('*',end=' ')\n",
    "    print()  "
   ]
  },
  {
   "cell_type": "code",
   "execution_count": 22,
   "id": "ff27f96d-b677-47b9-95c7-ca9bc3925ae0",
   "metadata": {},
   "outputs": [
    {
     "name": "stdin",
     "output_type": "stream",
     "text": [
      " 4\n"
     ]
    },
    {
     "name": "stdout",
     "output_type": "stream",
     "text": [
      "* * * * \n",
      "* * * \n",
      "* * \n",
      "* \n"
     ]
    }
   ],
   "source": [
    "n=int(input())\n",
    "for row in range(1,n+1,1):\n",
    "    for col in range(row,n+1,1):\n",
    "        print('*',end=' ')\n",
    "    print()  "
   ]
  },
  {
   "cell_type": "code",
   "execution_count": 27,
   "id": "b0149d40-04fa-47e5-92f0-98aaace992e9",
   "metadata": {},
   "outputs": [
    {
     "name": "stdin",
     "output_type": "stream",
     "text": [
      " 5\n"
     ]
    },
    {
     "name": "stdout",
     "output_type": "stream",
     "text": [
      "1 1 1 1 1 \n",
      "2 2 2 2 \n",
      "3 3 3 \n",
      "4 4 \n",
      "5 \n"
     ]
    }
   ],
   "source": [
    "## Practice:-------------------------------------\n",
    "#------------------------------------------------------\n",
    "n=int(input())\n",
    "for row in range(1,n+1,1):\n",
    "    for col in range(n,row-1,-1):\n",
    "        print(row,end=' ')\n",
    "    print()   "
   ]
  },
  {
   "cell_type": "code",
   "execution_count": 35,
   "id": "bf12dbf9-6cbb-4222-890a-66d1aac8d90e",
   "metadata": {},
   "outputs": [
    {
     "name": "stdin",
     "output_type": "stream",
     "text": [
      " 5\n"
     ]
    },
    {
     "name": "stdout",
     "output_type": "stream",
     "text": [
      "1 2 3 4 5 \n",
      "1 2 3 4 \n",
      "1 2 3 \n",
      "1 2 \n",
      "1 \n"
     ]
    }
   ],
   "source": [
    "n=int(input())\n",
    "for row in range(n,0,-1):\n",
    "    for col in range(1,row+1,1):\n",
    "        print(col,end=' ')\n",
    "    print()    "
   ]
  },
  {
   "cell_type": "code",
   "execution_count": 33,
   "id": "acef183e-9ad1-456c-8ab7-e87a76ffd2c4",
   "metadata": {},
   "outputs": [
    {
     "name": "stdin",
     "output_type": "stream",
     "text": [
      " 5\n"
     ]
    },
    {
     "name": "stdout",
     "output_type": "stream",
     "text": [
      "E E E E E \n",
      "D D D D \n",
      "C C C \n",
      "B B \n",
      "A \n"
     ]
    }
   ],
   "source": [
    "n=int(input())\n",
    "for row in range(n,0,-1):\n",
    "    for col in range(1,row+1,1):\n",
    "        print(chr(row+64),end=' ')\n",
    "    print()  "
   ]
  },
  {
   "cell_type": "code",
   "execution_count": 34,
   "id": "a1fa1b76-ad14-487e-9724-58e10eb6a862",
   "metadata": {},
   "outputs": [
    {
     "name": "stdin",
     "output_type": "stream",
     "text": [
      " 5\n"
     ]
    },
    {
     "name": "stdout",
     "output_type": "stream",
     "text": [
      "A A A A A \n",
      "B B B B \n",
      "C C C \n",
      "D D \n",
      "E \n"
     ]
    }
   ],
   "source": [
    "n=int(input())\n",
    "for row in range(1,n+1,1):\n",
    "    for col in range (n,row-1,-1):\n",
    "        print(chr(row+64),end=' ')\n",
    "    print()\n"
   ]
  },
  {
   "cell_type": "code",
   "execution_count": 36,
   "id": "7f66d7fd-30f3-45d7-8aef-9131460404c9",
   "metadata": {},
   "outputs": [
    {
     "name": "stdin",
     "output_type": "stream",
     "text": [
      " 5\n"
     ]
    },
    {
     "name": "stdout",
     "output_type": "stream",
     "text": [
      "A B C D E \n",
      "A B C D \n",
      "A B C \n",
      "A B \n",
      "A \n"
     ]
    }
   ],
   "source": [
    "n=int(input())\n",
    "for row in range(n,0,-1):\n",
    "    for col in range(1,row+1,1):\n",
    "        print(chr(col+64),end=' ')\n",
    "    print()    "
   ]
  },
  {
   "cell_type": "code",
   "execution_count": 37,
   "id": "dd0b8c6f-82dd-4bb6-bfef-45f50fcdd75a",
   "metadata": {},
   "outputs": [
    {
     "name": "stdin",
     "output_type": "stream",
     "text": [
      " 5\n"
     ]
    },
    {
     "name": "stdout",
     "output_type": "stream",
     "text": [
      "5 5 5 5 5 \n",
      "4 4 4 4 \n",
      "3 3 3 \n",
      "2 2 \n",
      "1 \n"
     ]
    }
   ],
   "source": [
    "n=int(input())\n",
    "for row in range(n,0,-1):\n",
    "    for col in range(1,row+1,1):\n",
    "        print(row,end=' ')\n",
    "    print()    "
   ]
  },
  {
   "cell_type": "code",
   "execution_count": 38,
   "id": "ada70245-887d-4968-ac9d-8752fc100fbe",
   "metadata": {},
   "outputs": [
    {
     "name": "stdin",
     "output_type": "stream",
     "text": [
      " 5\n"
     ]
    },
    {
     "name": "stdout",
     "output_type": "stream",
     "text": [
      "5 4 3 2 1 \n",
      "5 4 3 2 \n",
      "5 4 3 \n",
      "5 4 \n",
      "5 \n"
     ]
    }
   ],
   "source": [
    "n=int(input())\n",
    "for row in range(1,n+1,1):\n",
    "    for col in range(n,row-1,-1):\n",
    "        print(col,end=' ')\n",
    "    print()    "
   ]
  },
  {
   "cell_type": "code",
   "execution_count": 40,
   "id": "b2fd0a3c-bee2-40aa-bd77-ada8ac30c7df",
   "metadata": {},
   "outputs": [
    {
     "name": "stdin",
     "output_type": "stream",
     "text": [
      " 5\n"
     ]
    },
    {
     "name": "stdout",
     "output_type": "stream",
     "text": [
      "E D C B A \n",
      "E D C B \n",
      "E D C \n",
      "E D \n",
      "E \n"
     ]
    }
   ],
   "source": [
    "n=int(input())\n",
    "for row in range(1,n+1,1):\n",
    "    for col in range(n,row-1,-1):\n",
    "        print(chr(col+64),end=' ')\n",
    "    print() "
   ]
  },
  {
   "cell_type": "code",
   "execution_count": 1,
   "id": "45e66ea5-8d67-40f7-8fe2-423f8566591f",
   "metadata": {},
   "outputs": [
    {
     "name": "stdin",
     "output_type": "stream",
     "text": [
      " 4\n"
     ]
    },
    {
     "name": "stdout",
     "output_type": "stream",
     "text": [
      "1 2 3 4 \n",
      "2 3 4 \n",
      "3 4 \n",
      "4 \n"
     ]
    }
   ],
   "source": [
    "### Type 4:-----------------------------------\n",
    "#--------------------------------------------------------------\n",
    "n=int(input())\n",
    "for row in range(1,n+1,1):\n",
    "    for col in range(row,n+1,1):\n",
    "        print(col,end=' ')\n",
    "    print()    "
   ]
  },
  {
   "cell_type": "code",
   "execution_count": 9,
   "id": "9767fd88-a414-41e6-a580-414e0e1b71e0",
   "metadata": {},
   "outputs": [
    {
     "name": "stdin",
     "output_type": "stream",
     "text": [
      " 4\n"
     ]
    },
    {
     "name": "stdout",
     "output_type": "stream",
     "text": [
      "      1 \n",
      "    2 2 \n",
      "  3 3 3 \n",
      "4 4 4 4 \n"
     ]
    }
   ],
   "source": [
    "#### Type 5:-----------------------------------\n",
    "#-----------------------------------------------------\n",
    "n=int(input())\n",
    "for row in range(1,n+1,1):\n",
    "    for space in range(1,n-row+1,1):\n",
    "        print(' ',end=' ')\n",
    "    for col in range(1,row+1,1):\n",
    "        print(row,end=' ')\n",
    "    print()    "
   ]
  },
  {
   "cell_type": "code",
   "execution_count": 16,
   "id": "5e9c5c07-8bfc-4325-84a4-508230313c13",
   "metadata": {},
   "outputs": [
    {
     "name": "stdin",
     "output_type": "stream",
     "text": [
      " 4\n"
     ]
    },
    {
     "name": "stdout",
     "output_type": "stream",
     "text": [
      "      * \n",
      "    * * \n",
      "  * * * \n",
      "* * * * \n"
     ]
    }
   ],
   "source": [
    "n=int(input())\n",
    "for row in range(1,n+1,1):\n",
    "    for space in range(1,n-row+1,1):\n",
    "        print(' ',end=' ')\n",
    "    for col in range(row,0,-1):\n",
    "        print('*',end=' ')\n",
    "    print()    "
   ]
  },
  {
   "cell_type": "code",
   "execution_count": 15,
   "id": "544c744d-7056-486c-b6e6-ed490909b606",
   "metadata": {},
   "outputs": [
    {
     "name": "stdin",
     "output_type": "stream",
     "text": [
      " 4\n"
     ]
    },
    {
     "name": "stdout",
     "output_type": "stream",
     "text": [
      "      1 \n",
      "    1 2 \n",
      "  1 2 3 \n",
      "1 2 3 4 \n"
     ]
    }
   ],
   "source": [
    "n=int(input())\n",
    "for row in range(1,n+1,1):\n",
    "    for space in range(1,n-row+1,1):\n",
    "        print(' ',end=' ')\n",
    "    for col in range(1,row+1,1):\n",
    "        print(col,end=' ')\n",
    "    print()    "
   ]
  },
  {
   "cell_type": "code",
   "execution_count": 18,
   "id": "3699419f-43ca-4961-a092-d64555785f52",
   "metadata": {},
   "outputs": [
    {
     "name": "stdin",
     "output_type": "stream",
     "text": [
      " 5\n"
     ]
    },
    {
     "name": "stdout",
     "output_type": "stream",
     "text": [
      "        A \n",
      "      B B \n",
      "    C C C \n",
      "  D D D D \n",
      "E E E E E \n"
     ]
    }
   ],
   "source": [
    "n=int(input())\n",
    "for row in range(1,n+1,1):\n",
    "    for space in range(1,n-row+1,1):\n",
    "        print(' ',end=' ')\n",
    "    for col in range(row,0,-1):\n",
    "        print(chr(row+64),end=' ')\n",
    "    print()    "
   ]
  },
  {
   "cell_type": "code",
   "execution_count": 19,
   "id": "0c00a511-8e4d-45b8-97ec-61b3391890b2",
   "metadata": {},
   "outputs": [
    {
     "name": "stdin",
     "output_type": "stream",
     "text": [
      " 5\n"
     ]
    },
    {
     "name": "stdout",
     "output_type": "stream",
     "text": [
      "        A \n",
      "      A B \n",
      "    A B C \n",
      "  A B C D \n",
      "A B C D E \n"
     ]
    }
   ],
   "source": [
    "n=int(input())\n",
    "for row in range(1,n+1,1):\n",
    "    for space in range(1,n-row+1,1):\n",
    "        print(' ',end=' ')\n",
    "    for col in range(1,row+1,1):\n",
    "        print(chr(col+64),end=' ')\n",
    "    print()"
   ]
  },
  {
   "cell_type": "code",
   "execution_count": 29,
   "id": "5fa71ed4-945c-43d4-a7ad-71e153e28333",
   "metadata": {},
   "outputs": [
    {
     "name": "stdin",
     "output_type": "stream",
     "text": [
      " 5\n"
     ]
    },
    {
     "name": "stdout",
     "output_type": "stream",
     "text": [
      "        5 \n",
      "      4 4 \n",
      "    3 3 3 \n",
      "  2 2 2 2 \n",
      "1 1 1 1 1 \n"
     ]
    }
   ],
   "source": [
    "n=int(input())\n",
    "for row in range(n,0,-1):\n",
    "    for space in range(1,row-1+1,1):\n",
    "        print(' ',end=' ')\n",
    "    for col in range(row,n+1,1):\n",
    "        print(row,end=' ')\n",
    "    print()    "
   ]
  },
  {
   "cell_type": "code",
   "execution_count": 30,
   "id": "12692879-3043-48b1-8166-731f19bbc5a8",
   "metadata": {},
   "outputs": [
    {
     "name": "stdin",
     "output_type": "stream",
     "text": [
      " 5\n"
     ]
    },
    {
     "name": "stdout",
     "output_type": "stream",
     "text": [
      "        5 \n",
      "      5 4 \n",
      "    5 4 3 \n",
      "  5 4 3 2 \n",
      "5 4 3 2 1 \n"
     ]
    }
   ],
   "source": [
    "n=int(input())\n",
    "for row in range(n,0,-1):\n",
    "    for space in range(1,row-1+1,1):\n",
    "        print(' ',end=' ')\n",
    "    for col in range(n,row-1,-1):\n",
    "        print(col,end=' ')\n",
    "    print()    "
   ]
  },
  {
   "cell_type": "code",
   "execution_count": 31,
   "id": "894c4178-cda5-4a9f-957d-fa4a4f45f281",
   "metadata": {},
   "outputs": [
    {
     "name": "stdin",
     "output_type": "stream",
     "text": [
      " 5\n"
     ]
    },
    {
     "name": "stdout",
     "output_type": "stream",
     "text": [
      "        E \n",
      "      D D \n",
      "    C C C \n",
      "  B B B B \n",
      "A A A A A \n"
     ]
    }
   ],
   "source": [
    "n=int(input())\n",
    "for row in range(n,0,-1):\n",
    "    for space in range(1,row-1+1,1):\n",
    "        print(' ',end=' ')\n",
    "    for col in range(row,n+1,1):\n",
    "        print(chr(row+64),end=' ')\n",
    "    print()    "
   ]
  },
  {
   "cell_type": "code",
   "execution_count": 32,
   "id": "f58791ed-2154-4f5b-bb13-36b004e8c017",
   "metadata": {},
   "outputs": [
    {
     "name": "stdin",
     "output_type": "stream",
     "text": [
      " 5\n"
     ]
    },
    {
     "name": "stdout",
     "output_type": "stream",
     "text": [
      "        E \n",
      "      E D \n",
      "    E D C \n",
      "  E D C B \n",
      "E D C B A \n"
     ]
    }
   ],
   "source": [
    "n=int(input())\n",
    "for row in range(n,0,-1):\n",
    "    for space in range(1,row-1+1,1):\n",
    "        print(' ',end=' ')\n",
    "    for col in range(n,row-1,-1):\n",
    "        print(chr(col+64),end=' ')\n",
    "    print()  "
   ]
  },
  {
   "cell_type": "code",
   "execution_count": 33,
   "id": "21874a29-9626-4628-ab3c-c503ddd4882c",
   "metadata": {},
   "outputs": [
    {
     "name": "stdin",
     "output_type": "stream",
     "text": [
      " 4\n"
     ]
    },
    {
     "name": "stdout",
     "output_type": "stream",
     "text": [
      "* * * * \n",
      "  * * * \n",
      "    * * \n",
      "      * \n"
     ]
    }
   ],
   "source": [
    "n=int(input())\n",
    "for row in range(n,0,-1):\n",
    "    for space in range(1,n-row+1,1):\n",
    "        print(' ',end=' ')\n",
    "    for col in range(row,0,-1):\n",
    "        print('*',end=' ')\n",
    "    print()    \n",
    "        "
   ]
  },
  {
   "cell_type": "code",
   "execution_count": 34,
   "id": "7c20975d-f703-4bd0-9d7e-9d73cc4a3bbc",
   "metadata": {},
   "outputs": [
    {
     "name": "stdin",
     "output_type": "stream",
     "text": [
      " 5\n"
     ]
    },
    {
     "name": "stdout",
     "output_type": "stream",
     "text": [
      "5 5 5 5 5 \n",
      "  4 4 4 4 \n",
      "    3 3 3 \n",
      "      2 2 \n",
      "        1 \n"
     ]
    }
   ],
   "source": [
    "n=int(input())\n",
    "for row in range(n,0,-1):\n",
    "    for space in range(1,n-row+1,1):\n",
    "        print(' ',end=' ')\n",
    "    for col in range(row,0,-1):\n",
    "        print(row,end=' ')\n",
    "    print()    \n"
   ]
  },
  {
   "cell_type": "code",
   "execution_count": 35,
   "id": "1784384c-1640-4629-98d5-fbfceb08ca39",
   "metadata": {},
   "outputs": [
    {
     "name": "stdin",
     "output_type": "stream",
     "text": [
      " 5\n"
     ]
    },
    {
     "name": "stdout",
     "output_type": "stream",
     "text": [
      "5 4 3 2 1 \n",
      "  4 3 2 1 \n",
      "    3 2 1 \n",
      "      2 1 \n",
      "        1 \n"
     ]
    }
   ],
   "source": [
    "n=int(input())\n",
    "for row in range(n,0,-1):\n",
    "    for space in range(1,n-row+1,1):\n",
    "        print(' ',end=' ')\n",
    "    for col in range(row,0,-1):\n",
    "        print(col,end=' ')\n",
    "    print()    \n"
   ]
  },
  {
   "cell_type": "code",
   "execution_count": 36,
   "id": "dd071c08-1a61-43a8-8ea8-1a480c9fea43",
   "metadata": {},
   "outputs": [
    {
     "name": "stdin",
     "output_type": "stream",
     "text": [
      " 5\n"
     ]
    },
    {
     "name": "stdout",
     "output_type": "stream",
     "text": [
      "1 2 3 4 5 \n",
      "  1 2 3 4 \n",
      "    1 2 3 \n",
      "      1 2 \n",
      "        1 \n"
     ]
    }
   ],
   "source": [
    "n=int(input())\n",
    "for row in range(n,0,-1):\n",
    "    for space in range(1,n-row+1,1):\n",
    "        print(' ',end=' ')\n",
    "    for col in range(1,row+1,1):\n",
    "        print(col,end=' ')\n",
    "    print()    "
   ]
  },
  {
   "cell_type": "code",
   "execution_count": 38,
   "id": "89cc029e-29ef-42c1-8948-6aef5c8c0dc4",
   "metadata": {},
   "outputs": [
    {
     "name": "stdin",
     "output_type": "stream",
     "text": [
      " 5\n"
     ]
    },
    {
     "name": "stdout",
     "output_type": "stream",
     "text": [
      "E E E E E \n",
      "  D D D D \n",
      "    C C C \n",
      "      B B \n",
      "        A \n"
     ]
    }
   ],
   "source": [
    "n=int(input())\n",
    "for row in range(n,0,-1):\n",
    "    for space in range(1,n-row+1,1):\n",
    "        print(' ',end=' ')\n",
    "    for col in range(row,0,-1):\n",
    "        print(chr(row+64),end=' ')\n",
    "    print()    \n"
   ]
  },
  {
   "cell_type": "code",
   "execution_count": 39,
   "id": "d403b281-a89c-43d8-94b9-9deb1d0ca95f",
   "metadata": {},
   "outputs": [
    {
     "name": "stdin",
     "output_type": "stream",
     "text": [
      " 5\n"
     ]
    },
    {
     "name": "stdout",
     "output_type": "stream",
     "text": [
      "A B C D E \n",
      "  A B C D \n",
      "    A B C \n",
      "      A B \n",
      "        A \n"
     ]
    }
   ],
   "source": [
    "n=int(input())\n",
    "for row in range(n,0,-1):\n",
    "    for space in range(1,n-row+1,1):\n",
    "        print(' ',end=' ')\n",
    "    for col in range(1,row+1,1):\n",
    "        print(chr(col+64),end=' ')\n",
    "    print()  "
   ]
  },
  {
   "cell_type": "code",
   "execution_count": 40,
   "id": "4d936f4e-e6a8-49f6-893b-dddca752f840",
   "metadata": {},
   "outputs": [
    {
     "name": "stdin",
     "output_type": "stream",
     "text": [
      " 5\n"
     ]
    },
    {
     "name": "stdout",
     "output_type": "stream",
     "text": [
      "5 4 3 2 1 \n",
      "  5 4 3 2 \n",
      "    5 4 3 \n",
      "      5 4 \n",
      "        5 \n"
     ]
    }
   ],
   "source": [
    "n=int(input())\n",
    "for row in range(1,n+1,1):\n",
    "    for space in range(1,row-1+1,1):\n",
    "        print(' ',end=' ')\n",
    "    for col in range(n,row-1,-1):\n",
    "        print(col,end=' ')\n",
    "    print()    "
   ]
  },
  {
   "cell_type": "code",
   "execution_count": 42,
   "id": "48be0ea9-916c-40bd-862d-2bbf3c6511b1",
   "metadata": {},
   "outputs": [
    {
     "name": "stdin",
     "output_type": "stream",
     "text": [
      " 5\n"
     ]
    },
    {
     "name": "stdout",
     "output_type": "stream",
     "text": [
      "E D C B A \n",
      "  E D C B \n",
      "    E D C \n",
      "      E D \n",
      "        E \n"
     ]
    }
   ],
   "source": [
    "n=int(input())\n",
    "for row in range(1,n+1,1):\n",
    "    for space in range(1,row-1+1,1):\n",
    "        print(' ',end=' ')\n",
    "    for col in range(n,row-1,-1):\n",
    "        print(chr(col+64),end=' ')\n",
    "    print()"
   ]
  },
  {
   "cell_type": "code",
   "execution_count": 2,
   "id": "871ffb5b-bc4c-4570-abed-0b7f61fb2833",
   "metadata": {},
   "outputs": [
    {
     "name": "stdin",
     "output_type": "stream",
     "text": [
      " 5\n"
     ]
    },
    {
     "name": "stdout",
     "output_type": "stream",
     "text": [
      "1 \n",
      "2 3 \n",
      "4 5 6 \n",
      "7 8 9 10 \n",
      "11 12 13 14 15 \n"
     ]
    }
   ],
   "source": [
    "### Type:6:-------------------------------------------------\n",
    "#-----------------------------------------------------------\n",
    "n=int(input())\n",
    "k=1\n",
    "for row in range(1,n+1,1):\n",
    "    for col in range(1,row+1,1):\n",
    "        print(k,end=' ')\n",
    "        k+=1\n",
    "    print()    "
   ]
  },
  {
   "cell_type": "code",
   "execution_count": 4,
   "id": "7aebb1b3-adaf-4744-b3a6-d2cd1db09edc",
   "metadata": {},
   "outputs": [
    {
     "name": "stdin",
     "output_type": "stream",
     "text": [
      " 4\n"
     ]
    },
    {
     "name": "stdout",
     "output_type": "stream",
     "text": [
      "1 \n",
      "1 0 \n",
      "1 0 1 \n",
      "1 0 1 0 \n"
     ]
    }
   ],
   "source": [
    "n=int(input())\n",
    "for row in range(1,n+1,1):\n",
    "    for col in range(1,row+1,1):\n",
    "        print(col%2,end=' ')\n",
    "    print()    "
   ]
  },
  {
   "cell_type": "code",
   "execution_count": 5,
   "id": "056490f8-9d0e-40c1-9271-d4c48de525be",
   "metadata": {},
   "outputs": [
    {
     "name": "stdin",
     "output_type": "stream",
     "text": [
      " 5\n"
     ]
    },
    {
     "name": "stdout",
     "output_type": "stream",
     "text": [
      "1 \n",
      "1 0 \n",
      "1 0 1 \n",
      "1 0 1 0 \n",
      "1 0 1 0 1 \n"
     ]
    }
   ],
   "source": [
    "n=int(input())\n",
    "for row in range(1,n+1,1):\n",
    "    for col in range(1,row+1,1):\n",
    "        if(col%2==0):\n",
    "            print('0',end=' ')\n",
    "        else:\n",
    "            print('1',end=' ')\n",
    "    print()    "
   ]
  },
  {
   "cell_type": "code",
   "execution_count": 6,
   "id": "69085f59-805d-4f81-b96f-1279747ede8a",
   "metadata": {},
   "outputs": [
    {
     "name": "stdin",
     "output_type": "stream",
     "text": [
      " 5\n"
     ]
    },
    {
     "name": "stdout",
     "output_type": "stream",
     "text": [
      "1 \n",
      "0 0 \n",
      "1 1 1 \n",
      "0 0 0 0 \n",
      "1 1 1 1 1 \n"
     ]
    }
   ],
   "source": [
    "n=int(input())\n",
    "for row in range(1,n+1,1):\n",
    "    for col in range(1,row+1,1):\n",
    "        if(row%2==0):\n",
    "            print('0',end=' ')\n",
    "        else:\n",
    "            print('1',end=' ')\n",
    "    print()    "
   ]
  },
  {
   "cell_type": "code",
   "execution_count": 10,
   "id": "67199d0c-689d-473f-8943-c79d2064c71a",
   "metadata": {},
   "outputs": [
    {
     "name": "stdin",
     "output_type": "stream",
     "text": [
      " 5\n"
     ]
    },
    {
     "name": "stdout",
     "output_type": "stream",
     "text": [
      "        * \n",
      "      * * * \n",
      "    * * * * * \n",
      "  * * * * * * * \n",
      "* * * * * * * * * \n"
     ]
    }
   ],
   "source": [
    "n=int(input())\n",
    "for row in range(1,n+1,1):\n",
    "    for space in range(1,n-row+1,1):\n",
    "        print(' ',end=' ')\n",
    "    for col in range(1,2*row-1+1,1):\n",
    "        print('*',end=' ')\n",
    "    print()    "
   ]
  },
  {
   "cell_type": "code",
   "execution_count": 13,
   "id": "2d690164-e6a2-4080-9405-314f13f38482",
   "metadata": {},
   "outputs": [
    {
     "name": "stdin",
     "output_type": "stream",
     "text": [
      " 4\n"
     ]
    },
    {
     "name": "stdout",
     "output_type": "stream",
     "text": [
      "      1 \n",
      "    2 2 2 \n",
      "  3 3 3 3 3 \n",
      "4 4 4 4 4 4 4 \n"
     ]
    }
   ],
   "source": [
    "n=int(input())\n",
    "for row in range(1,n+1,1):\n",
    "    for space in range(1,n-row+1,1):\n",
    "        print(' ',end=' ')\n",
    "    for col in range(1,2*row-1+1,1):\n",
    "        print(row,end=' ')\n",
    "    print()   "
   ]
  },
  {
   "cell_type": "code",
   "execution_count": 15,
   "id": "403536ca-d7d5-417a-9ff5-d891677c1045",
   "metadata": {},
   "outputs": [
    {
     "name": "stdin",
     "output_type": "stream",
     "text": [
      " 4\n"
     ]
    },
    {
     "name": "stdout",
     "output_type": "stream",
     "text": [
      "      A \n",
      "    B B B \n",
      "  C C C C C \n",
      "D D D D D D D \n"
     ]
    }
   ],
   "source": [
    "n=int(input())\n",
    "for row in range(1,n+1,1):\n",
    "    for space in range(1,n-row+1,1):\n",
    "        print(' ',end=' ')\n",
    "    for col in range(1,2*row-1+1,1):\n",
    "        print(chr(row+64),end=' ')\n",
    "    print()   "
   ]
  },
  {
   "cell_type": "code",
   "execution_count": 16,
   "id": "81ce0f58-77c0-4daf-8276-f34a908c5a80",
   "metadata": {},
   "outputs": [
    {
     "name": "stdin",
     "output_type": "stream",
     "text": [
      " 3\n"
     ]
    },
    {
     "name": "stdout",
     "output_type": "stream",
     "text": [
      "    1 \n",
      "  2 3 4 \n",
      "5 6 7 8 9 \n"
     ]
    }
   ],
   "source": [
    "n=int(input())\n",
    "k=1\n",
    "for row in range(1,n+1,1):\n",
    "    for space in range(1,n-row+1,1):\n",
    "        print(' ',end=' ')\n",
    "    for col in range(1,2*row-1+1,1):\n",
    "        print(k,end=' ')\n",
    "        k+=1\n",
    "    print()   "
   ]
  },
  {
   "cell_type": "code",
   "execution_count": 24,
   "id": "a6099c35-627f-404e-abea-e8e2294004e2",
   "metadata": {},
   "outputs": [
    {
     "name": "stdin",
     "output_type": "stream",
     "text": [
      " 3\n"
     ]
    },
    {
     "name": "stdout",
     "output_type": "stream",
     "text": [
      "    1 \n",
      "  3 3 3 \n",
      "5 5 5 5 5 \n"
     ]
    }
   ],
   "source": [
    "n=int(input())\n",
    "k=-1\n",
    "for row in range(1,n+1,1):\n",
    "    k=k+2## row operation\n",
    "    for space in range(1,n-row+1,1):\n",
    "        print(' ',end=' ')\n",
    "    for col in range(1,2*row-1+1,1):\n",
    "        print(k,end=' ')\n",
    "    print()   "
   ]
  },
  {
   "cell_type": "code",
   "execution_count": 25,
   "id": "9a1fcbe6-4b3c-458e-a23b-99e7bb45e2ca",
   "metadata": {},
   "outputs": [
    {
     "name": "stdin",
     "output_type": "stream",
     "text": [
      " 4\n"
     ]
    },
    {
     "name": "stdout",
     "output_type": "stream",
     "text": [
      "      A \n",
      "    C C C \n",
      "  E E E E E \n",
      "G G G G G G G \n"
     ]
    }
   ],
   "source": [
    "n=int(input())\n",
    "k=-1\n",
    "for row in range(1,n+1,1):\n",
    "    k=k+2## row operation\n",
    "    for space in range(1,n-row+1,1):\n",
    "        print(' ',end=' ')\n",
    "    for col in range(1,2*row-1+1,1):\n",
    "        print(chr(k+64),end=' ')\n",
    "    print()   "
   ]
  },
  {
   "cell_type": "code",
   "execution_count": 28,
   "id": "0df4e8c1-c7b1-4bfa-8a5a-dd5a4764f1af",
   "metadata": {},
   "outputs": [
    {
     "name": "stdin",
     "output_type": "stream",
     "text": [
      " 4\n"
     ]
    },
    {
     "name": "stdout",
     "output_type": "stream",
     "text": [
      "* * * * * * * \n",
      "  * * * * * \n",
      "    * * * \n",
      "      * \n"
     ]
    }
   ],
   "source": [
    "n=int(input())\n",
    "for row in range(n,0,-1):\n",
    "    for space in range(1,n-row+1,1):\n",
    "        print(' ',end=' ')\n",
    "    for col in range(2*row-1,0,-1):\n",
    "        print('*',end=' ')\n",
    "    print()    "
   ]
  },
  {
   "cell_type": "code",
   "execution_count": 3,
   "id": "dd84d617-c66f-4110-85cb-565cb7b1b7ea",
   "metadata": {},
   "outputs": [
    {
     "name": "stdin",
     "output_type": "stream",
     "text": [
      " 5\n"
     ]
    },
    {
     "name": "stdout",
     "output_type": "stream",
     "text": [
      "                    * * * * \n",
      "                    * * * * \n",
      "                    * * * * \n",
      "                    * * * * \n",
      "                    * * * * \n"
     ]
    }
   ],
   "source": [
    "n=int(input())\n",
    "for row in range(1,n+1,1):\n",
    "    for row in range(n,0,-1):\n",
    "        for space in range(1,n-row+1,1):\n",
    "            print(' ',end=' ')\n",
    "    for col in range(1,2*row+1,1):\n",
    "        for col in range(2*row,0,-1):\n",
    "            print('*',end=' ')\n",
    "    print()        "
   ]
  },
  {
   "cell_type": "code",
   "execution_count": 11,
   "id": "aee0d9a5-12d5-4b23-b234-d66b5ab150f3",
   "metadata": {},
   "outputs": [
    {
     "name": "stdin",
     "output_type": "stream",
     "text": [
      " 5\n"
     ]
    },
    {
     "name": "stdout",
     "output_type": "stream",
     "text": [
      "        * \n",
      "      * * * \n",
      "    * * * * * \n",
      "  * * * * * * * \n",
      "* * * * * * * * * \n",
      "  * * * * * * * \n",
      "    * * * * * \n",
      "      * * * \n",
      "        * \n"
     ]
    }
   ],
   "source": [
    "n=int(input())\n",
    "for row in range(1,n+1,1):\n",
    "    for space in range(1,n-row+1,1):\n",
    "        print(' ',end=' ')\n",
    "    for col in range(1,2*row-1+1,1):\n",
    "        print('*',end=' ')\n",
    "    print()     \n",
    "for row in range(n-1,0,-1):\n",
    "    for space in range(1,n-row+1,1):\n",
    "        print(' ',end=' ')\n",
    "    for col in range(2*row-1,0,-1):\n",
    "        print('*',end=' ')\n",
    "    print()   "
   ]
  },
  {
   "cell_type": "code",
   "execution_count": null,
   "id": "d5c523a6-084e-4d1e-8daf-038391a282dc",
   "metadata": {},
   "outputs": [],
   "source": []
  }
 ],
 "metadata": {
  "kernelspec": {
   "display_name": "Python 3 (ipykernel)",
   "language": "python",
   "name": "python3"
  },
  "language_info": {
   "codemirror_mode": {
    "name": "ipython",
    "version": 3
   },
   "file_extension": ".py",
   "mimetype": "text/x-python",
   "name": "python",
   "nbconvert_exporter": "python",
   "pygments_lexer": "ipython3",
   "version": "3.11.4"
  }
 },
 "nbformat": 4,
 "nbformat_minor": 5
}
