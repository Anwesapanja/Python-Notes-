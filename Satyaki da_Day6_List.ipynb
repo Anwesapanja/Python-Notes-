{
 "cells": [
  {
   "cell_type": "markdown",
   "id": "164e9547-0372-49f2-883f-036e2b8dfd23",
   "metadata": {},
   "source": [
    "### In python, there are 4 collections:------------------------\n",
    "        1.List     --------------------->[]\n",
    "        2.Set  ------------------------->{}\n",
    "        3.tuple ------------------------->()\n",
    "        4.Dictionary ---------------------{}"
   ]
  },
  {
   "cell_type": "markdown",
   "id": "c04d2a3e-d0a2-4ec7-8376-80810c860526",
   "metadata": {},
   "source": [
    "##  List:--------"
   ]
  },
  {
   "cell_type": "markdown",
   "id": "3e99ebf5-4557-412b-b2b3-2eee58b5c6e7",
   "metadata": {},
   "source": [
    "### Propertues of List:-----------------\n",
    " ### 1.   List is index"
   ]
  },
  {
   "cell_type": "code",
   "execution_count": 5,
   "id": "63372b31-f7ff-4c8c-9e76-7e3ef395c0f2",
   "metadata": {},
   "outputs": [
    {
     "name": "stdout",
     "output_type": "stream",
     "text": [
      "[10, 20, 30, 40]\n",
      "10\n",
      "20\n",
      "30\n",
      "<class 'list'>\n"
     ]
    }
   ],
   "source": [
    "x=[10,20,30,40]\n",
    "print(x)\n",
    "print(x[0])\n",
    "print(x[1])\n",
    "print(x[2])\n",
    "print(type(x))"
   ]
  },
  {
   "cell_type": "markdown",
   "id": "331018cc-350d-43e8-8b6a-a50cdac61088",
   "metadata": {},
   "source": [
    "### Here,by index we can access list"
   ]
  },
  {
   "cell_type": "markdown",
   "id": "f8baa7b1-df00-47f8-a014-cee68f70f4c4",
   "metadata": {},
   "source": [
    "### 2.List is Ordered"
   ]
  },
  {
   "cell_type": "code",
   "execution_count": 7,
   "id": "35cec293-2efa-45b5-af00-31e817a8da54",
   "metadata": {},
   "outputs": [
    {
     "name": "stdout",
     "output_type": "stream",
     "text": [
      "[10, 20, 30]\n"
     ]
    }
   ],
   "source": [
    "x=[10,20,30]\n",
    "print(x)"
   ]
  },
  {
   "cell_type": "markdown",
   "id": "ae7be233-3dd1-40b1-8841-77374ff7d3e8",
   "metadata": {},
   "source": [
    "if we print a list, we will get the list in the same order as we have defined "
   ]
  },
  {
   "cell_type": "markdown",
   "id": "16967bda-e797-42fc-be1c-1b23ec52d727",
   "metadata": {},
   "source": [
    "### 3.List can hold duplicate element"
   ]
  },
  {
   "cell_type": "code",
   "execution_count": 8,
   "id": "1598cd3b-4cb5-4285-aabf-155578f4a804",
   "metadata": {},
   "outputs": [
    {
     "name": "stdout",
     "output_type": "stream",
     "text": [
      "[10, 10, 20, 30]\n"
     ]
    }
   ],
   "source": [
    "x=[10,10,20,30]\n",
    "print(x)"
   ]
  },
  {
   "cell_type": "markdown",
   "id": "e1d6e635-b257-402d-a75f-ebd3ead8a1e5",
   "metadata": {},
   "source": [
    "### 4.List is Mutable"
   ]
  },
  {
   "cell_type": "code",
   "execution_count": 9,
   "id": "de90be17-1803-43fe-a4fa-520ec789f331",
   "metadata": {},
   "outputs": [
    {
     "name": "stdout",
     "output_type": "stream",
     "text": [
      "[10, 10, 20, 30]\n",
      "[10, 10, 35, 30]\n"
     ]
    }
   ],
   "source": [
    "x=[10,10,20,30]\n",
    "print(x)\n",
    "x[2]=35\n",
    "print(x)"
   ]
  },
  {
   "cell_type": "markdown",
   "id": "d333b8bc-94a4-49df-b74e-b123717effdb",
   "metadata": {},
   "source": [
    "### How to define List in Python:---"
   ]
  },
  {
   "cell_type": "code",
   "execution_count": 10,
   "id": "6af82d4f-f2f8-4356-98ee-143b9771ea64",
   "metadata": {},
   "outputs": [
    {
     "name": "stdout",
     "output_type": "stream",
     "text": [
      "[10, 20, 30]\n",
      "<class 'list'>\n"
     ]
    }
   ],
   "source": [
    "## One type way:---------------------\n",
    "##------------------------------------------\n",
    "x=[10,20,30]\n",
    "print(x)\n",
    "print(type(x))"
   ]
  },
  {
   "cell_type": "code",
   "execution_count": 12,
   "id": "003b5d91-93f8-480e-a1df-152fe76274b9",
   "metadata": {},
   "outputs": [
    {
     "name": "stdout",
     "output_type": "stream",
     "text": [
      "[]\n",
      "<class 'list'>\n"
     ]
    }
   ],
   "source": [
    " ## 2nd way:-----------\n",
    "x=list() ## usiing constructor:---------\n",
    "print(x)\n",
    "print(type(x))"
   ]
  },
  {
   "cell_type": "markdown",
   "id": "4ea80b7c-a19f-4922-ba2a-017ea49a7ad1",
   "metadata": {},
   "source": [
    "### Check the method available in List"
   ]
  },
  {
   "cell_type": "code",
   "execution_count": 13,
   "id": "a18b8777-4077-47a9-a78f-075841597715",
   "metadata": {},
   "outputs": [
    {
     "data": {
      "text/plain": [
       "['__add__',\n",
       " '__class__',\n",
       " '__class_getitem__',\n",
       " '__contains__',\n",
       " '__delattr__',\n",
       " '__delitem__',\n",
       " '__dir__',\n",
       " '__doc__',\n",
       " '__eq__',\n",
       " '__format__',\n",
       " '__ge__',\n",
       " '__getattribute__',\n",
       " '__getitem__',\n",
       " '__getstate__',\n",
       " '__gt__',\n",
       " '__hash__',\n",
       " '__iadd__',\n",
       " '__imul__',\n",
       " '__init__',\n",
       " '__init_subclass__',\n",
       " '__iter__',\n",
       " '__le__',\n",
       " '__len__',\n",
       " '__lt__',\n",
       " '__mul__',\n",
       " '__ne__',\n",
       " '__new__',\n",
       " '__reduce__',\n",
       " '__reduce_ex__',\n",
       " '__repr__',\n",
       " '__reversed__',\n",
       " '__rmul__',\n",
       " '__setattr__',\n",
       " '__setitem__',\n",
       " '__sizeof__',\n",
       " '__str__',\n",
       " '__subclasshook__',\n",
       " 'append',\n",
       " 'clear',\n",
       " 'copy',\n",
       " 'count',\n",
       " 'extend',\n",
       " 'index',\n",
       " 'insert',\n",
       " 'pop',\n",
       " 'remove',\n",
       " 'reverse',\n",
       " 'sort']"
      ]
     },
     "execution_count": 13,
     "metadata": {},
     "output_type": "execute_result"
    }
   ],
   "source": [
    "dir(list)"
   ]
  },
  {
   "cell_type": "code",
   "execution_count": 16,
   "id": "fe7287b3-d978-42c7-83be-0efc6bb2fcb7",
   "metadata": {},
   "outputs": [
    {
     "name": "stdout",
     "output_type": "stream",
     "text": [
      "[10, 20]\n",
      "[10, 20, 30, 40]\n"
     ]
    }
   ],
   "source": [
    "## append(): insert at the end----------------------\n",
    "## ----------------------------------------\n",
    "x=[10,20]\n",
    "print(x)\n",
    "x.append(30)\n",
    "x.append(40)\n",
    "print(x)\n",
    "## we cannot pass two arg in append()"
   ]
  },
  {
   "cell_type": "code",
   "execution_count": 17,
   "id": "82fc7eb9-f82f-4dec-927b-8042222869b3",
   "metadata": {},
   "outputs": [],
   "source": [
    "def abc(a,b):##=====>poreee [parameter]\n",
    "    pass\n",
    "\n",
    "abc(10,20) #=========>Agee [argument]"
   ]
  },
  {
   "cell_type": "code",
   "execution_count": 22,
   "id": "c5657c8a-805f-408d-89b3-ddbd1f25cf53",
   "metadata": {},
   "outputs": [
    {
     "name": "stdout",
     "output_type": "stream",
     "text": [
      "[10, 20]\n",
      "[10, 20, [30, 40]]\n",
      "10\n",
      "20\n",
      "[30, 40]\n",
      "x[2][0]===> 30\n",
      "x[2][1]===> 40\n"
     ]
    }
   ],
   "source": [
    "x=[10,20]\n",
    "print(x)\n",
    "x.append([30,40]) ## as a list amra ake bare add korte parbo......\n",
    "print(x)\n",
    "print(x[0])\n",
    "print(x[1])\n",
    "print(x[2])\n",
    "print(\"x[2][0]===>\" ,x[2][0])\n",
    "print(\"x[2][1]===>\" ,x[2][1])"
   ]
  },
  {
   "cell_type": "code",
   "execution_count": 23,
   "id": "31d07245-53ec-46e8-a8d1-9f5306d59ec7",
   "metadata": {},
   "outputs": [
    {
     "name": "stdout",
     "output_type": "stream",
     "text": [
      "[10, 20]\n",
      "(30, 40) <class 'tuple'>\n",
      "[10, 20, (30, 40)]\n",
      "10\n",
      "20\n",
      "(30, 40)\n",
      "x[2][0]===> 30\n",
      "x[2][1]===> 40\n"
     ]
    }
   ],
   "source": [
    "x=[10,20]\n",
    "print(x)\n",
    "y=(30,40)\n",
    "print(y,type(y))\n",
    "x.append(y)## as a tuple amra ake bare add korte parbo......\n",
    "print(x)\n",
    "print(x[0])\n",
    "print(x[1])\n",
    "print(x[2])\n",
    "print(\"x[2][0]===>\" ,x[2][0])\n",
    "print(\"x[2][1]===>\" ,x[2][1])"
   ]
  },
  {
   "cell_type": "code",
   "execution_count": 26,
   "id": "a8ef6b6d-58ea-4c73-b3ad-fffe5967a743",
   "metadata": {},
   "outputs": [
    {
     "name": "stdout",
     "output_type": "stream",
     "text": [
      "[10, 20]\n",
      "{40, 30} <class 'set'>\n",
      "[10, 20, {40, 30}]\n",
      "10\n",
      "20\n",
      "{40, 30}\n"
     ]
    }
   ],
   "source": [
    "x=[10,20]\n",
    "print(x)\n",
    "y={30,40}\n",
    "print(y,type(y))\n",
    "x.append(y)## as a set amra ake bare add korte parbo......\n",
    "print(x)\n",
    "print(x[0])\n",
    "print(x[1])\n",
    "print(x[2])\n",
    "#print(\"x[2][0]===>\" ,x[2][0]) ----> set in not index it will throw error\n",
    "#print(\"x[2][1]===>\" ,x[2][1])"
   ]
  },
  {
   "cell_type": "code",
   "execution_count": 28,
   "id": "82307399-57ce-4bdf-9327-7024c12338c0",
   "metadata": {},
   "outputs": [
    {
     "name": "stdout",
     "output_type": "stream",
     "text": [
      "[10, 20]\n",
      "{'python': 10, 'java': 12} <class 'dict'>\n",
      "[10, 20, {'python': 10, 'java': 12}]\n",
      "10\n",
      "20\n",
      "{'python': 10, 'java': 12}\n"
     ]
    }
   ],
   "source": [
    "x=[10,20]\n",
    "print(x)\n",
    "y={'python':10,'java':12} ## Dictionary \n",
    "print(y,type(y))\n",
    "x.append(y)## as a dict amra ake bare add korte parbo......\n",
    "print(x)\n",
    "print(x[0])\n",
    "print(x[1])\n",
    "print(x[2])\n",
    "##print(\"x[2][0]===>\" ,x[2][0]) ---- is not indexed\n",
    "##print(\"x[2][1]===>\" ,x[2][1])"
   ]
  },
  {
   "cell_type": "code",
   "execution_count": 29,
   "id": "873d7663-d453-418d-8efe-7b2cddc54220",
   "metadata": {},
   "outputs": [],
   "source": [
    "## Observation:-----------------\n",
    "#-------------------------------------\n",
    " #append():--- it can append an element ,list ,set,tuple,dict"
   ]
  },
  {
   "cell_type": "code",
   "execution_count": 30,
   "id": "204b95e4-0e51-4ed7-9414-ac57025c4f09",
   "metadata": {},
   "outputs": [],
   "source": [
    "### user input:-- \n",
    "#5\n",
    "#10\n",
    "#20\n",
    "#30\n",
    "#40\n",
    "#50"
   ]
  },
  {
   "cell_type": "code",
   "execution_count": 34,
   "id": "e846401e-2748-4024-ac0b-c5f813d46deb",
   "metadata": {},
   "outputs": [
    {
     "name": "stdin",
     "output_type": "stream",
     "text": [
      " 5\n",
      " 10\n",
      " 20\n",
      " 30\n",
      " 40\n",
      " 50\n"
     ]
    },
    {
     "name": "stdout",
     "output_type": "stream",
     "text": [
      "[10, 20, 30, 40, 50]\n"
     ]
    }
   ],
   "source": [
    "x=[]  ## defining a blank list\n",
    "n=int(input())  ## take range\n",
    "for i in range(n):\n",
    "    val=int(input())\n",
    "    x.append(val)\n",
    "print(x)    \n"
   ]
  },
  {
   "cell_type": "code",
   "execution_count": 35,
   "id": "7b40c567-0e45-422a-8d59-b3c450b2c5a1",
   "metadata": {},
   "outputs": [
    {
     "name": "stdout",
     "output_type": "stream",
     "text": [
      "[10, 20, 30, 40, 50]\n",
      "[]\n"
     ]
    }
   ],
   "source": [
    "## Clear: It will remove all the elements form a list.It wiill not remove partially--------------------------------\n",
    "##-----------------------------------------\n",
    "x=[10,20,30,40,50]\n",
    "print(x)\n",
    "x.clear()\n",
    "print(x)"
   ]
  },
  {
   "cell_type": "code",
   "execution_count": 36,
   "id": "67ca6aba-28c0-4c92-8755-5bba47536509",
   "metadata": {},
   "outputs": [
    {
     "name": "stdout",
     "output_type": "stream",
     "text": [
      "[10, 20, 30, 40, 50, [10, 20]]\n",
      "[]\n"
     ]
    }
   ],
   "source": [
    "x=[10,20,30,40,50,[10,20]]\n",
    "print(x)\n",
    "x.clear()\n",
    "print(x)"
   ]
  },
  {
   "cell_type": "code",
   "execution_count": 37,
   "id": "63234ad1-9f78-4b64-be8b-7e027075d496",
   "metadata": {},
   "outputs": [
    {
     "name": "stdout",
     "output_type": "stream",
     "text": [
      "[10]\n",
      "None\n",
      "[]\n"
     ]
    }
   ],
   "source": [
    "x=[10]\n",
    "print(x)\n",
    "print(x.clear()) ## It refers that it will not return anything\n",
    "print(x)"
   ]
  },
  {
   "cell_type": "code",
   "execution_count": 38,
   "id": "df5549b9-6709-4ea7-9d8a-7287bfaa8a0c",
   "metadata": {},
   "outputs": [],
   "source": [
    "## print(x.clear()) ::: Ans:- None \n",
    "## Bcz:-- x.clear() it returns nothing\n",
    "# so if we write within print, like :---\n",
    "## print(x.clear()):::-- it will print(None):: None"
   ]
  },
  {
   "cell_type": "code",
   "execution_count": 43,
   "id": "93b97b80-0a7d-4ca7-930b-163dcf19f43b",
   "metadata": {},
   "outputs": [
    {
     "name": "stdout",
     "output_type": "stream",
     "text": [
      "[10, 20, 30, 40, 50]\n",
      "[10, 20, 30, 40, 50]\n",
      "1754460056320\n",
      "1754460079360\n",
      "[10, 20, 56, 40, 50]\n",
      "[10, 20, 30, 40, 50]\n"
     ]
    }
   ],
   "source": [
    "# Copy:-----------------------------\n",
    "#-----------------------------------------\n",
    "x=[10,20,30,40,50]\n",
    "print(x)\n",
    "y=x.copy()\n",
    "print(y)\n",
    "\n",
    "#id-------- different :---- deep copy\n",
    "print(id(x))\n",
    "print(id(y))\n",
    "\n",
    "x[2]=56\n",
    "print(x)\n",
    "print(y)\n"
   ]
  },
  {
   "cell_type": "code",
   "execution_count": null,
   "id": "7173b2b6-82be-4355-a68f-697e4ec5046a",
   "metadata": {},
   "outputs": [],
   "source": [
    "#deep copy:----------\n",
    "#here when we are using :--------\n",
    "#y=x.copy()\n",
    "#here y and x will be different entitie\n",
    "#and their address will be different.\n",
    "\n",
    "#if we modify on x\n",
    "## that will not be reflected on y."
   ]
  },
  {
   "cell_type": "code",
   "execution_count": 42,
   "id": "80b3916f-05d6-4d4b-b018-4aba625d368d",
   "metadata": {},
   "outputs": [
    {
     "name": "stdout",
     "output_type": "stream",
     "text": [
      "[10, 20, 30, 40, 50]\n",
      "[10, 20, 30, 40, 50]\n",
      "1754460276352\n",
      "1754460276352\n",
      "[10, 20, 56, 40, 50]\n",
      "[10, 20, 56, 40, 50]\n"
     ]
    }
   ],
   "source": [
    "x=[10,20,30,40,50]\n",
    "print(x)\n",
    "y=x\n",
    "print(y)\n",
    "# id:---------- same:------shallow copy\n",
    "#create a alice\n",
    "print(id(x))\n",
    "print(id(y))\n",
    "\n",
    "x[2]=56\n",
    "print(x)\n",
    "print(y)"
   ]
  },
  {
   "cell_type": "code",
   "execution_count": 44,
   "id": "e304da7e-f477-4b93-93fc-f85fddffbe3c",
   "metadata": {},
   "outputs": [],
   "source": [
    "#shallow copy:---------------\n",
    "#here when we are using :--------\n",
    "#y=x\n",
    "#here y and x will be same entities, same memory locations with different names.\n",
    "#and their address will be different.\n",
    "\n",
    "#if we modify on x\n",
    "## that will be reflected on y"
   ]
  },
  {
   "cell_type": "code",
   "execution_count": 49,
   "id": "402c3b64-8b30-419d-a93d-78c32f734104",
   "metadata": {},
   "outputs": [
    {
     "name": "stdout",
     "output_type": "stream",
     "text": [
      "[10, 20, 30, 40, 50, 20, 20]\n",
      "3\n",
      "0\n"
     ]
    }
   ],
   "source": [
    "## Count():It will return back thhe total number of element occurence with in a list\n",
    "#--------------------------\n",
    "#If the element is not present in the list it will return 0\n",
    "#------------------------------------\n",
    "x=[10,20,30,40,50,20,20]\n",
    "print(x)\n",
    "y=x.count(20)\n",
    "print(y)\n",
    "y=x.count(88)\n",
    "print(y)"
   ]
  },
  {
   "cell_type": "code",
   "execution_count": 54,
   "id": "6116c997-d635-442a-a6b1-205ac8257998",
   "metadata": {},
   "outputs": [
    {
     "name": "stdout",
     "output_type": "stream",
     "text": [
      "[10, 20, 30, 40]\n",
      "70\n",
      "[10, 20, 30, 40, 70, 90]\n"
     ]
    }
   ],
   "source": [
    "## extend():is used to merge two list\n",
    "#so,here\n",
    "#List1:[10,20,30,40,50]\n",
    "#List2:[70,90] ## merging list1 and list2 we are getting,---\n",
    "#[10,20,30,40,50]+[70,90]===[10,20,30,40,50,70,90]\n",
    "#-------------------------------\n",
    "#-----------------------------------------------\n",
    "x=[10,20,30,40]\n",
    "print(x)\n",
    "y=[70,90]\n",
    "x.extend(y) ## if we wanna merge two list\n",
    "print(x[4])\n",
    "print(x)"
   ]
  },
  {
   "cell_type": "code",
   "execution_count": 55,
   "id": "ee93d58b-c05a-47f5-b7ab-db28cf7b263b",
   "metadata": {},
   "outputs": [
    {
     "name": "stdout",
     "output_type": "stream",
     "text": [
      "[10, 20, 30, 40]\n",
      "[70, 90]\n",
      "[10, 20, 30, 40, [70, 90]]\n"
     ]
    }
   ],
   "source": [
    "## if we run it through append():--------\n",
    "##append() is used to add one list as element in another list.\n",
    "#so here\n",
    "  ## list1=[10,20,30,40,50]\n",
    "  ## list2=[70,90]\n",
    "#appending list2 in list1 we are getting:----\n",
    "#[10,20,30,40,50] append [70,90]=[10,20,30,40,50,[70,90]]\n",
    "x=[10,20,30,40]\n",
    "print(x)\n",
    "y=[70,90]\n",
    "x.append(y)\n",
    "print(x[4])\n",
    "print(x)"
   ]
  },
  {
   "cell_type": "code",
   "execution_count": 56,
   "id": "b2da6573-839a-4381-aef7-afa57c289fed",
   "metadata": {},
   "outputs": [
    {
     "name": "stdout",
     "output_type": "stream",
     "text": [
      "[10, 20, 30, 40, 50]\n",
      "[10, 20, 30, 40, 50, 70, 90, [22, 44], 77]\n"
     ]
    }
   ],
   "source": [
    "x=[10,20,30,40,50]\n",
    "print(x)\n",
    "y=[70,90,[22,44],77]\n",
    "x.extend(y)\n",
    "print(x)"
   ]
  },
  {
   "cell_type": "code",
   "execution_count": 59,
   "id": "91909af8-490f-4d9f-9058-93d39e696f51",
   "metadata": {},
   "outputs": [
    {
     "name": "stdout",
     "output_type": "stream",
     "text": [
      "[10, 20, 30, 40, 50, 10, 20]\n",
      "3\n"
     ]
    },
    {
     "ename": "ValueError",
     "evalue": "140 is not in list",
     "output_type": "error",
     "traceback": [
      "\u001b[1;31m---------------------------------------------------------------------------\u001b[0m",
      "\u001b[1;31mValueError\u001b[0m                                Traceback (most recent call last)",
      "Cell \u001b[1;32mIn[59], line 12\u001b[0m\n\u001b[0;32m     10\u001b[0m y\u001b[38;5;241m=\u001b[39mx\u001b[38;5;241m.\u001b[39mindex(\u001b[38;5;241m40\u001b[39m)\n\u001b[0;32m     11\u001b[0m \u001b[38;5;28mprint\u001b[39m(y)\n\u001b[1;32m---> 12\u001b[0m y\u001b[38;5;241m=\u001b[39m\u001b[43mx\u001b[49m\u001b[38;5;241;43m.\u001b[39;49m\u001b[43mindex\u001b[49m\u001b[43m(\u001b[49m\u001b[38;5;241;43m140\u001b[39;49m\u001b[43m)\u001b[49m\n\u001b[0;32m     13\u001b[0m \u001b[38;5;28mprint\u001b[39m(y)\n",
      "\u001b[1;31mValueError\u001b[0m: 140 is not in list"
     ]
    }
   ],
   "source": [
    "## Index(): this method in python will help you to find the index of the element.\n",
    "#if the element is present, it will return back the index of 1st element.\n",
    "## if the element is not found , it will throw value error.\n",
    "\n",
    "## If the element is present more than 1 time,then by index() we will get to know\n",
    "# the index of 1st presence of that element.\n",
    "##-----------------------------------------\n",
    "x=[10,20,30,40,50,10,20]\n",
    "print(x)\n",
    "y=x.index(40)\n",
    "print(y)\n",
    "y=x.index(140)\n",
    "print(y)"
   ]
  },
  {
   "cell_type": "code",
   "execution_count": 61,
   "id": "7fc2cc31-4f3e-4309-a5df-7036eeb8c708",
   "metadata": {},
   "outputs": [
    {
     "name": "stdout",
     "output_type": "stream",
     "text": [
      "[10, 20, 30, 40, 50, 10, 20]\n",
      "Element is not in the list\n"
     ]
    }
   ],
   "source": [
    "x=[10,20,30,40,50,10,20]\n",
    "print(x)\n",
    "try:\n",
    "    y=x.index(140)\n",
    "    print(y)\n",
    "    ## jodi code jhar khaii thaholeii except execute hobe\n",
    "    ## jodi code jhar na khaiii then except execute hobee naaa\n",
    "except:\n",
    "    print('Element is not in the list')\n"
   ]
  },
  {
   "cell_type": "code",
   "execution_count": 62,
   "id": "c6152354-6a12-45ab-b680-85db807c8ea1",
   "metadata": {},
   "outputs": [
    {
     "name": "stdout",
     "output_type": "stream",
     "text": [
      "[10, 20, 30, 40, 50, 10, 20]\n",
      "line1\n",
      "line2\n",
      "line3\n",
      "line4\n",
      "exline1\n",
      "exline2\n",
      "Element is not the list\n",
      "exline3\n",
      "exline4\n"
     ]
    }
   ],
   "source": [
    "x=[10,20,30,40,50,10,20]\n",
    "print(x)\n",
    "try:\n",
    "    print(\"line1\")\n",
    "    print(\"line2\")\n",
    "    print(\"line3\")\n",
    "    print(\"line4\")\n",
    "    y=x.index(140)\n",
    "    print(\"line5\")\n",
    "    print(\"line6\")\n",
    "except:\n",
    "    print(\"exline1\")\n",
    "    print(\"exline2\")\n",
    "    print(\"Element is not the list\")\n",
    "    print(\"exline3\")\n",
    "    print(\"exline4\")\n",
    "    \n",
    "    \n",
    "    "
   ]
  },
  {
   "cell_type": "code",
   "execution_count": 66,
   "id": "296fdd49-c762-4ce8-8587-77136cd88e82",
   "metadata": {},
   "outputs": [
    {
     "name": "stdout",
     "output_type": "stream",
     "text": [
      "[10, 20, 30, 40, 50, 10, 20]\n",
      "line1\n",
      "line2\n",
      "line3\n",
      "line4\n",
      "3\n",
      "line5\n",
      "line6\n"
     ]
    }
   ],
   "source": [
    "x=[10,20,30,40,50,10,20]\n",
    "print(x)\n",
    "try:\n",
    "    print(\"line1\")\n",
    "    print(\"line2\")\n",
    "    print(\"line3\")\n",
    "    print(\"line4\")\n",
    "    y=x.index(40)\n",
    "    print(y)\n",
    "    print(\"line5\")\n",
    "    print(\"line6\")\n",
    "except:\n",
    "    print(\"exline1\")\n",
    "    print(\"exline2\")\n",
    "    print(\"Element is not the list\")\n",
    "    print(\"exline3\")\n",
    "    print(\"exline4\")\n",
    "    "
   ]
  },
  {
   "cell_type": "code",
   "execution_count": 67,
   "id": "ddd0070b-596f-4528-a161-8cce5f407253",
   "metadata": {},
   "outputs": [],
   "source": [
    "# Here:-----\n",
    "    #In the try block,\n",
    "    # We will execute the code untill we are getting error.\n",
    "## if we are geting any error,------\n",
    "#from that point of code,the action will be moved to except block.\n",
    "\n",
    "#if we are not getting any error,---------\n",
    "#then except block will not be executed."
   ]
  },
  {
   "cell_type": "code",
   "execution_count": 68,
   "id": "fe9b3321-6487-482a-842a-b7d001c2f689",
   "metadata": {},
   "outputs": [
    {
     "name": "stdout",
     "output_type": "stream",
     "text": [
      "[10, 20, 30, 40]\n"
     ]
    },
    {
     "name": "stdin",
     "output_type": "stream",
     "text": [
      " 17 20 87 30 67\n"
     ]
    },
    {
     "name": "stdout",
     "output_type": "stream",
     "text": [
      "17 is not in the list\n",
      "1\n",
      "87 is not in the list\n",
      "2\n",
      "67 is not in the list\n"
     ]
    }
   ],
   "source": [
    "x=[10,20,30,40]\n",
    "print(x)\n",
    "y=list(map(int,input().split()))\n",
    "z=0\n",
    "for i in y:\n",
    "    z=i\n",
    "    try:\n",
    "        y=x.index(z)\n",
    "        print(y)\n",
    "    except:\n",
    "        print(z,'is not in the list')"
   ]
  },
  {
   "cell_type": "code",
   "execution_count": null,
   "id": "7081e493-8e22-4291-95f2-3a1f5f90b51d",
   "metadata": {},
   "outputs": [],
   "source": [
    "x=[10,20,39,40,50]\n",
    "print(x)\n",
    "y=list(map(int,input().split()))\n",
    "z=0\n",
    "for i in y:\n",
    "    z=i\n",
    "    try:\n",
    "        y=x.index(z)\n",
    "        \n",
    "        "
   ]
  },
  {
   "cell_type": "code",
   "execution_count": 4,
   "id": "c9ddf328-fe95-453f-bc5a-7307b6c83d69",
   "metadata": {},
   "outputs": [
    {
     "name": "stdout",
     "output_type": "stream",
     "text": [
      "[10, 20, 39, 40, 50, 10, 20]\n"
     ]
    },
    {
     "name": "stdin",
     "output_type": "stream",
     "text": [
      " 10 80 50 70 150 20\n"
     ]
    },
    {
     "name": "stdout",
     "output_type": "stream",
     "text": [
      "101001\n"
     ]
    }
   ],
   "source": [
    "************************************\n",
    "x=[10,20,39,40,50,10,20]\n",
    "print(x)\n",
    "y=list(map(int,input().split()))\n",
    "z=0\n",
    "ans=\"\"\n",
    "for i in y:\n",
    "    z=i\n",
    "    try:\n",
    "        y=x.index(z)\n",
    "        ans=ans+'1'\n",
    "    except:\n",
    "        ans=ans+'0'\n",
    "print(ans)     \n",
    "        "
   ]
  },
  {
   "cell_type": "code",
   "execution_count": 6,
   "id": "e362072c-18c3-4060-8638-edf03655a6ba",
   "metadata": {},
   "outputs": [
    {
     "name": "stdout",
     "output_type": "stream",
     "text": [
      "[10, 20, 30, 40, 50, 10, 20]\n"
     ]
    },
    {
     "name": "stdin",
     "output_type": "stream",
     "text": [
      " 30\n"
     ]
    },
    {
     "name": "stdout",
     "output_type": "stream",
     "text": [
      "30 is present at 2\n"
     ]
    }
   ],
   "source": [
    "x=[10,20,30,40,50,10,20]\n",
    "print(x)\n",
    "val=int(input())\n",
    "y=x.index(val)\n",
    "print(val,\"is present at\",y)\n"
   ]
  },
  {
   "cell_type": "code",
   "execution_count": 7,
   "id": "7d975221-68db-4f23-932c-5f7427ac8f90",
   "metadata": {},
   "outputs": [
    {
     "name": "stdout",
     "output_type": "stream",
     "text": [
      "[10, 20, 25, 30, 40, 50]\n"
     ]
    }
   ],
   "source": [
    "## insert():------------------------\n",
    "##--------------------------------------\n",
    "x=[10,20,30,40,50]\n",
    "y=25\n",
    "\n",
    "x.insert(2,y) ## koto number index aa ghapla korbo mathay rakhte hobe\n",
    "print(x)\n"
   ]
  },
  {
   "cell_type": "code",
   "execution_count": 8,
   "id": "a5d131bf-0278-4f85-8052-d6e64ae34d9a",
   "metadata": {},
   "outputs": [
    {
     "name": "stdout",
     "output_type": "stream",
     "text": [
      "[10, 20, 30, 40, 50, 25]\n"
     ]
    }
   ],
   "source": [
    "x=[10,20,30,40,50]\n",
    "y=25\n",
    "\n",
    "x.insert(12,y) ## index=12\n",
    "print(x)"
   ]
  },
  {
   "cell_type": "code",
   "execution_count": 10,
   "id": "9b496974-2ce4-41f9-8fda-891475dd2516",
   "metadata": {},
   "outputs": [
    {
     "name": "stdout",
     "output_type": "stream",
     "text": [
      "[25, 10, 20, 30, 40, 50]\n"
     ]
    }
   ],
   "source": [
    "x=[10,20,30,40,50]\n",
    "y=25\n",
    "\n",
    "x.insert(-12,y) \n",
    "print(x)"
   ]
  },
  {
   "cell_type": "code",
   "execution_count": 11,
   "id": "fa375194-00c9-4247-bd3e-e50860805a50",
   "metadata": {},
   "outputs": [
    {
     "name": "stdout",
     "output_type": "stream",
     "text": [
      "[10, 20, 30, 25, 40, 50]\n"
     ]
    }
   ],
   "source": [
    "x=[10,20,30,40,50]\n",
    "y=25\n",
    "\n",
    "x.insert(-2,y)\n",
    "print(x)"
   ]
  },
  {
   "cell_type": "code",
   "execution_count": 13,
   "id": "a48af11e-9e63-4fe2-961c-88e474f09098",
   "metadata": {},
   "outputs": [
    {
     "name": "stdout",
     "output_type": "stream",
     "text": [
      "[10, 20, 30, 40, 50]\n",
      "50\n",
      "[10, 20, 30, 40]\n"
     ]
    }
   ],
   "source": [
    "## pop:By default it will remove the last element---------------------\n",
    "##----------------------------------\n",
    "x=[10,20,30,40,50]\n",
    "print(x)\n",
    "print(x.pop())\n",
    "print(x)"
   ]
  },
  {
   "cell_type": "code",
   "execution_count": 15,
   "id": "6600eb93-6560-459f-8994-82351eb96891",
   "metadata": {},
   "outputs": [
    {
     "name": "stdout",
     "output_type": "stream",
     "text": [
      "[]\n"
     ]
    },
    {
     "ename": "IndexError",
     "evalue": "pop from empty list",
     "output_type": "error",
     "traceback": [
      "\u001b[1;31m---------------------------------------------------------------------------\u001b[0m",
      "\u001b[1;31mIndexError\u001b[0m                                Traceback (most recent call last)",
      "Cell \u001b[1;32mIn[15], line 3\u001b[0m\n\u001b[0;32m      1\u001b[0m x\u001b[38;5;241m=\u001b[39m[]\n\u001b[0;32m      2\u001b[0m \u001b[38;5;28mprint\u001b[39m(x)\n\u001b[1;32m----> 3\u001b[0m \u001b[38;5;28mprint\u001b[39m(\u001b[43mx\u001b[49m\u001b[38;5;241;43m.\u001b[39;49m\u001b[43mpop\u001b[49m\u001b[43m(\u001b[49m\u001b[43m)\u001b[49m)\n\u001b[0;32m      4\u001b[0m \u001b[38;5;28mprint\u001b[39m(x)\n",
      "\u001b[1;31mIndexError\u001b[0m: pop from empty list"
     ]
    }
   ],
   "source": [
    " x=[]   ##index error\n",
    "print(x)\n",
    "print(x.pop())\n",
    "print(x)"
   ]
  },
  {
   "cell_type": "code",
   "execution_count": 16,
   "id": "5be8c045-90d8-4383-84bf-2555b3a1cfea",
   "metadata": {},
   "outputs": [
    {
     "ename": "NameError",
     "evalue": "name 'I' is not defined",
     "output_type": "error",
     "traceback": [
      "\u001b[1;31m---------------------------------------------------------------------------\u001b[0m",
      "\u001b[1;31mNameError\u001b[0m                                 Traceback (most recent call last)",
      "Cell \u001b[1;32mIn[16], line 2\u001b[0m\n\u001b[0;32m      1\u001b[0m \u001b[38;5;66;03m## If the value is not present in a list and we interested to delete an element by pop(),\u001b[39;00m\n\u001b[1;32m----> 2\u001b[0m \u001b[43mI\u001b[49m\u001b[38;5;66;03m## It will throw idexerror\u001b[39;00m\n",
      "\u001b[1;31mNameError\u001b[0m: name 'I' is not defined"
     ]
    }
   ],
   "source": [
    "## If the value is not present in a list and we interested to delete an element by pop(),\n",
    "## It will throw idexerror"
   ]
  },
  {
   "cell_type": "code",
   "execution_count": 18,
   "id": "ca14bb66-8282-461b-9032-294c25fd5ef5",
   "metadata": {},
   "outputs": [
    {
     "name": "stdout",
     "output_type": "stream",
     "text": [
      "List is empty\n"
     ]
    }
   ],
   "source": [
    "## solution:----\n",
    "x=[]\n",
    "try:\n",
    "    print(x.pop())\n",
    "    print(x)\n",
    "except:\n",
    "    print(\"List is empty\")"
   ]
  },
  {
   "cell_type": "code",
   "execution_count": 19,
   "id": "96c37b71-79d6-4153-9e89-085751bb8360",
   "metadata": {},
   "outputs": [
    {
     "name": "stdout",
     "output_type": "stream",
     "text": [
      "[10, 20, 30, 40, 50]\n",
      "40\n",
      "[10, 20, 30, 50]\n"
     ]
    }
   ],
   "source": [
    "x=[10,20,30,40,50]\n",
    "print(x)\n",
    "print(x.pop(3)) ## by giving index value\n",
    "print(x)"
   ]
  },
  {
   "cell_type": "code",
   "execution_count": 20,
   "id": "d953cbae-db7e-486a-994d-9767e7485c69",
   "metadata": {},
   "outputs": [
    {
     "name": "stdout",
     "output_type": "stream",
     "text": [
      "[10, 20, 30, 40, 50]\n",
      "30\n",
      "[10, 20, 40, 50]\n"
     ]
    }
   ],
   "source": [
    "x=[10,20,30,40,50]\n",
    "print(x)\n",
    "print(x.pop(-3))\n",
    "print(x)"
   ]
  },
  {
   "cell_type": "code",
   "execution_count": 21,
   "id": "9df7fd7f-c5f4-4ce9-8b72-47adff47e3d0",
   "metadata": {},
   "outputs": [
    {
     "name": "stdout",
     "output_type": "stream",
     "text": [
      "[10, 20, 30, 40, 50]\n",
      "30\n",
      "[10, 20, 40, 50]\n",
      "40\n",
      "[10, 20, 50]\n"
     ]
    }
   ],
   "source": [
    "x=[10,20,30,40,50]\n",
    "print(x)\n",
    "print(x.pop(2))\n",
    "print(x)\n",
    "print(x.pop(-2))\n",
    "print(x)"
   ]
  },
  {
   "cell_type": "code",
   "execution_count": 23,
   "id": "58c095b2-5c99-4591-ad21-04819d3f1381",
   "metadata": {},
   "outputs": [
    {
     "name": "stdout",
     "output_type": "stream",
     "text": [
      "[10, 20, 30, 40, 50]\n",
      "None\n",
      "[10, 20, 40, 50]\n"
     ]
    },
    {
     "ename": "ValueError",
     "evalue": "list.remove(x): x not in list",
     "output_type": "error",
     "traceback": [
      "\u001b[1;31m---------------------------------------------------------------------------\u001b[0m",
      "\u001b[1;31mValueError\u001b[0m                                Traceback (most recent call last)",
      "Cell \u001b[1;32mIn[23], line 8\u001b[0m\n\u001b[0;32m      6\u001b[0m \u001b[38;5;28mprint\u001b[39m(y)\n\u001b[0;32m      7\u001b[0m \u001b[38;5;28mprint\u001b[39m(x)\n\u001b[1;32m----> 8\u001b[0m y\u001b[38;5;241m=\u001b[39m\u001b[43mx\u001b[49m\u001b[38;5;241;43m.\u001b[39;49m\u001b[43mremove\u001b[49m\u001b[43m(\u001b[49m\u001b[38;5;241;43m90\u001b[39;49m\u001b[43m)\u001b[49m\n\u001b[0;32m      9\u001b[0m \u001b[38;5;28mprint\u001b[39m(y)\n",
      "\u001b[1;31mValueError\u001b[0m: list.remove(x): x not in list"
     ]
    }
   ],
   "source": [
    "## remove:-------------------------------\n",
    "##----------------------------------------------\n",
    "x=[10,20,30,40,50]\n",
    "print(x)\n",
    "y=x.remove(30)  ### value dite hobeeee for remove\n",
    "print(y)\n",
    "print(x)\n",
    "y=x.remove(90)\n",
    "print(y)"
   ]
  },
  {
   "cell_type": "code",
   "execution_count": 24,
   "id": "2eccc613-f71f-432e-b40b-757cb3994682",
   "metadata": {},
   "outputs": [],
   "source": [
    "## if the value is present in the list, it will delete only the 1st occurance\n",
    "##If the value is not present in the list,it will throw value error"
   ]
  },
  {
   "cell_type": "code",
   "execution_count": 26,
   "id": "39cb7254-865d-4cf6-9412-08ce8a8e464e",
   "metadata": {},
   "outputs": [
    {
     "name": "stdout",
     "output_type": "stream",
     "text": [
      "[10, 20, 30, 90, 10, 20]\n",
      "[20, 30, 90, 10, 20]\n"
     ]
    }
   ],
   "source": [
    "x=[10,20,30,90,10,20]\n",
    "print(x)\n",
    "y=x.remove(10)\n",
    "print(x)"
   ]
  },
  {
   "cell_type": "code",
   "execution_count": 28,
   "id": "444e6ac9-5c82-4b9d-b527-43381ce9f463",
   "metadata": {},
   "outputs": [
    {
     "name": "stdout",
     "output_type": "stream",
     "text": [
      "[10, 20, 30, 40, 50, 30, 30, 60]\n",
      "3\n",
      "[10, 20, 40, 50, 60]\n"
     ]
    }
   ],
   "source": [
    "## sobar presence k delete korte hobe::---\n",
    "x=[10,20,30,40,50,30,30,60]\n",
    "print(x)\n",
    "print(x.count(30))\n",
    "for i in range(x.count(30)):\n",
    "    x.remove(30)\n",
    "print(x)    "
   ]
  },
  {
   "cell_type": "code",
   "execution_count": 30,
   "id": "113f6ec3-dcd5-439e-b795-2aef00a7f8bd",
   "metadata": {},
   "outputs": [
    {
     "name": "stdout",
     "output_type": "stream",
     "text": [
      "[10, 20, 30, 40, 50, 30, 30, 60]\n",
      "0\n"
     ]
    },
    {
     "ename": "ValueError",
     "evalue": "list.remove(x): x not in list",
     "output_type": "error",
     "traceback": [
      "\u001b[1;31m---------------------------------------------------------------------------\u001b[0m",
      "\u001b[1;31mValueError\u001b[0m                                Traceback (most recent call last)",
      "Cell \u001b[1;32mIn[30], line 5\u001b[0m\n\u001b[0;32m      3\u001b[0m \u001b[38;5;28mprint\u001b[39m(x\u001b[38;5;241m.\u001b[39mcount(\u001b[38;5;241m90\u001b[39m))\n\u001b[0;32m      4\u001b[0m \u001b[38;5;28;01mfor\u001b[39;00m i \u001b[38;5;129;01min\u001b[39;00m \u001b[38;5;28mrange\u001b[39m(x\u001b[38;5;241m.\u001b[39mcount(\u001b[38;5;241m30\u001b[39m)):\n\u001b[1;32m----> 5\u001b[0m     \u001b[43mx\u001b[49m\u001b[38;5;241;43m.\u001b[39;49m\u001b[43mremove\u001b[49m\u001b[43m(\u001b[49m\u001b[38;5;241;43m90\u001b[39;49m\u001b[43m)\u001b[49m\n\u001b[0;32m      6\u001b[0m \u001b[38;5;28mprint\u001b[39m(x)    \n",
      "\u001b[1;31mValueError\u001b[0m: list.remove(x): x not in list"
     ]
    }
   ],
   "source": [
    "x=[10,20,30,40,50,30,30,60]\n",
    "print(x)\n",
    "print(x.count(90))\n",
    "for i in range(x.count(30)):\n",
    "    x.remove(90)\n",
    "print(x)    "
   ]
  },
  {
   "cell_type": "code",
   "execution_count": 35,
   "id": "b1897c4f-3bc1-4203-9df1-38088aa2c34d",
   "metadata": {},
   "outputs": [
    {
     "name": "stdout",
     "output_type": "stream",
     "text": [
      "[10, 20, 30, 40, [100, 200, [300, 400]], 11]\n",
      "300\n"
     ]
    }
   ],
   "source": [
    "x=[10,20,30,40]\n",
    "y=[[100,200,[300,400]],11]\n",
    "x.extend(y)\n",
    "print(x)\n",
    "## now we want to acess 300\n",
    "print(x[4][2][0])"
   ]
  },
  {
   "cell_type": "code",
   "execution_count": 45,
   "id": "255713dc-ab8b-40a0-a542-00157d9c74e4",
   "metadata": {},
   "outputs": [
    {
     "name": "stdout",
     "output_type": "stream",
     "text": [
      "[10, 20, 30, 40, 50]\n",
      "[50, 40, 30, 20, 10]\n"
     ]
    }
   ],
   "source": [
    "## reverse: here we can reverse the list using reverse method\n",
    "# it will reverse the original list------------------------------\n",
    "#-----------------------------------------\n",
    "x=[10,20,30,40,50]\n",
    "print(x)\n",
    "x.reverse()\n",
    "print(x)"
   ]
  },
  {
   "cell_type": "code",
   "execution_count": 46,
   "id": "544d93b6-a319-4bc2-9f7f-fcf2985a0193",
   "metadata": {},
   "outputs": [
    {
     "data": {
      "text/plain": [
       "[10, 20, 10]"
      ]
     },
     "execution_count": 46,
     "metadata": {},
     "output_type": "execute_result"
    }
   ],
   "source": [
    "[10,20,30]\n",
    "[30,20,10]\n",
    "\n",
    "[10,20,10]\n",
    "[10,20,10]\n"
   ]
  },
  {
   "cell_type": "code",
   "execution_count": 47,
   "id": "9c2ee617-7f58-4464-a979-9044e8f3038f",
   "metadata": {},
   "outputs": [],
   "source": [
    "## check the list is palindromic or not::-----------------\n",
    "#----------------------------------\n",
    "# we have two options:------------\n",
    "#-----------------------------------\n",
    "# 1) using copy\n",
    "#2) using third element to stoe the value in it\n",
    "## "
   ]
  },
  {
   "cell_type": "code",
   "execution_count": 48,
   "id": "5e2dac1d-18a7-4adb-a869-3a8120b270c9",
   "metadata": {},
   "outputs": [],
   "source": [
    "## Approch 1:---------\n",
    "## take the 1st list as a input(x)\n",
    "## make a copy of it (y)\n",
    "## now x.reverse()\n",
    "##compare x with y."
   ]
  },
  {
   "cell_type": "code",
   "execution_count": 58,
   "id": "3d2695bd-c9a9-4ad3-96f3-6d2a1c174145",
   "metadata": {},
   "outputs": [
    {
     "name": "stdin",
     "output_type": "stream",
     "text": [
      " 10 20 10\n"
     ]
    },
    {
     "name": "stdout",
     "output_type": "stream",
     "text": [
      "[10, 20, 10]\n",
      "[10, 20, 10]\n",
      "[10, 20, 10]\n",
      "True\n"
     ]
    }
   ],
   "source": [
    "x=list(map(int,input().split()))\n",
    "print(x)\n",
    "y=x.copy() ## deep copy\n",
    "x.reverse()\n",
    "print(x)\n",
    "print(y)\n",
    "print(x==y)"
   ]
  },
  {
   "cell_type": "code",
   "execution_count": 49,
   "id": "cf43544e-c157-497f-877f-5e676deb86c1",
   "metadata": {},
   "outputs": [],
   "source": [
    "## Approach 2:-----------\n",
    "## now reverse the string and store with in y.\n",
    "# compare x with y"
   ]
  },
  {
   "cell_type": "code",
   "execution_count": 59,
   "id": "555c8de8-9b57-44d6-a50e-c1dbfafb544d",
   "metadata": {},
   "outputs": [
    {
     "name": "stdin",
     "output_type": "stream",
     "text": [
      " 10 20 10\n"
     ]
    },
    {
     "name": "stdout",
     "output_type": "stream",
     "text": [
      "True\n"
     ]
    }
   ],
   "source": [
    "x=list(map(int,input().split()))\n",
    "y=list(reversed(x))\n",
    "print(x==y)"
   ]
  },
  {
   "cell_type": "code",
   "execution_count": 61,
   "id": "ed6adb1e-d225-4394-9f6f-649638744167",
   "metadata": {},
   "outputs": [
    {
     "name": "stdin",
     "output_type": "stream",
     "text": [
      " 20 30 40\n"
     ]
    },
    {
     "name": "stdout",
     "output_type": "stream",
     "text": [
      "False\n"
     ]
    }
   ],
   "source": [
    "x=list(map(int,input().split()))\n",
    "y=list(reversed(x))\n",
    "print(x==y)"
   ]
  },
  {
   "cell_type": "code",
   "execution_count": null,
   "id": "5cca11f1-dcd3-4126-bc79-df0c3d6cff33",
   "metadata": {},
   "outputs": [],
   "source": [
    "y=x.reverse() ## it will return none + reverse the original list and it will return none"
   ]
  },
  {
   "cell_type": "code",
   "execution_count": null,
   "id": "ca9a1bd7-1406-4663-8e26-928104cc3762",
   "metadata": {},
   "outputs": [],
   "source": [
    "reversed(x) ## it will return bacj the reversed list that is stored here within y"
   ]
  },
  {
   "cell_type": "code",
   "execution_count": 64,
   "id": "7a932e98-181f-4ae4-8fc4-cd5875e25928",
   "metadata": {},
   "outputs": [
    {
     "name": "stdout",
     "output_type": "stream",
     "text": [
      "[10, 20, 30, 4, 7, 1]\n",
      "[1, 4, 7, 10, 20, 30]\n"
     ]
    }
   ],
   "source": [
    "## sort():-------------------------------\n",
    "##--------------------------------------\n",
    "x=[10,20,30,4,7,1]\n",
    "print(x)\n",
    "x.sort()  ## only interger # asscending order\n",
    "print(x)\n",
    "## here also the orginal list will be sorted"
   ]
  },
  {
   "cell_type": "code",
   "execution_count": 65,
   "id": "3dc15588-ad96-4d05-a08d-aa0c5f82c36a",
   "metadata": {},
   "outputs": [],
   "source": [
    "## descending order:------"
   ]
  },
  {
   "cell_type": "code",
   "execution_count": 66,
   "id": "e5f08393-9208-4e3d-a34d-53462f298468",
   "metadata": {},
   "outputs": [
    {
     "name": "stdout",
     "output_type": "stream",
     "text": [
      "[10, 20, 30, 4, 7, 1]\n",
      "[30, 20, 10, 7, 4, 1]\n"
     ]
    }
   ],
   "source": [
    "x=[10,20,30,4,7,1]\n",
    "print(x)\n",
    "x.sort(reverse=True)  ## only interger # asscending order\n",
    "print(x)"
   ]
  },
  {
   "cell_type": "code",
   "execution_count": 67,
   "id": "15b7c51f-e620-4854-9797-51d3663cd011",
   "metadata": {},
   "outputs": [
    {
     "name": "stdout",
     "output_type": "stream",
     "text": [
      "[10, 20, 30, 4, 7, 1]\n",
      "[1, 4, 7, 10, 20, 30]\n"
     ]
    }
   ],
   "source": [
    "x=[10,20,30,4,7,1]\n",
    "print(x)\n",
    "x.sort(reverse=False)  ## only interger # asscending order\n",
    "print(x)"
   ]
  },
  {
   "cell_type": "code",
   "execution_count": 68,
   "id": "8bb60b92-7572-4a4b-8cbc-4319ab808abb",
   "metadata": {},
   "outputs": [
    {
     "name": "stdout",
     "output_type": "stream",
     "text": [
      "[10, 20, 30, 4, 7, 1]\n",
      "[30, 20, 10, 7, 4, 1]\n"
     ]
    }
   ],
   "source": [
    "x=[10,20,30,4,7,1]\n",
    "print(x)\n",
    "x=list(reversed(sorted(x))) \n",
    "print(x)\n",
    "## sorted(x):----- [1,4,7,10,20,30]\n",
    "## reversed([1,4,7,10,20,30]:----> iterator\n",
    "## list(iterator)=[30,20,10,7,4,1]\n"
   ]
  },
  {
   "cell_type": "code",
   "execution_count": 69,
   "id": "6901f0ff-0991-4826-a6af-e2990dbe6e3f",
   "metadata": {},
   "outputs": [
    {
     "name": "stdout",
     "output_type": "stream",
     "text": [
      "['Ranu', 'Tanu', 'Manu', 'Diya']\n",
      "['Diya', 'Manu', 'Ranu', 'Tanu']\n"
     ]
    }
   ],
   "source": [
    "x=['Ranu','Tanu','Manu','Diya']\n",
    "print(x)\n",
    "x.sort()\n",
    "print(x)"
   ]
  },
  {
   "cell_type": "code",
   "execution_count": 70,
   "id": "b831cb90-94f4-4fe9-b96c-fb822582252e",
   "metadata": {},
   "outputs": [],
   "source": [
    "## For String sorting:--- all the elements should be string.\n",
    "## number and string mixed up will result error."
   ]
  },
  {
   "cell_type": "code",
   "execution_count": 71,
   "id": "e60b5b81-35b0-4fb5-b86b-6c9b7e6175a1",
   "metadata": {},
   "outputs": [],
   "source": [
    "## ASCII RANGE:----------------\n",
    "##-----------------------------\n",
    "   #A:-- 65---- Z:- 90\n",
    "   #a:-97 ......z:122\n",
    "   #0:48.......9:-57"
   ]
  },
  {
   "cell_type": "code",
   "execution_count": 73,
   "id": "39871ea6-a192-4fa7-a27b-7713609af0b3",
   "metadata": {},
   "outputs": [
    {
     "name": "stdout",
     "output_type": "stream",
     "text": [
      "['b', 'b1', 'b3', 'b0']\n",
      "['b', 'b0', 'b1', 'b3']\n"
     ]
    }
   ],
   "source": [
    "x=['b','b1','b3','b0']\n",
    "print(x)\n",
    "x.sort()\n",
    "print(x)"
   ]
  },
  {
   "cell_type": "code",
   "execution_count": 74,
   "id": "43e573b7-4e16-4456-ba81-77babf8213f3",
   "metadata": {},
   "outputs": [
    {
     "name": "stdout",
     "output_type": "stream",
     "text": [
      "['b', 'b1', 'b3', 'b0', 'c1']\n",
      "['b', 'b0', 'b1', 'b3', 'c1']\n"
     ]
    }
   ],
   "source": [
    "x=['b','b1','b3','b0','c1']\n",
    "print(x)\n",
    "x.sort()\n",
    "print(x)"
   ]
  },
  {
   "cell_type": "code",
   "execution_count": 76,
   "id": "69067b22-d9d1-4dd3-b0b7-26f4833bea48",
   "metadata": {},
   "outputs": [
    {
     "name": "stdout",
     "output_type": "stream",
     "text": [
      "['Shub', 'Tamal', 'Sristi', 'Asmitttt']\n"
     ]
    }
   ],
   "source": [
    "## sort name based onb length:--\n",
    "x=[\"Shub\",\"Sristi\",\"Tamal\",\"Asmitttt\"]\n",
    "y=sorted(x,key=len)\n",
    "print(y)"
   ]
  },
  {
   "cell_type": "code",
   "execution_count": 77,
   "id": "013411af-a177-4eb0-8908-727be471247a",
   "metadata": {},
   "outputs": [
    {
     "name": "stdout",
     "output_type": "stream",
     "text": [
      "['Asmitttt', 'Sristi', 'Tamal', 'Shub']\n"
     ]
    }
   ],
   "source": [
    "## sort name based onb length:--\n",
    "x=[\"Shub\",\"Sristi\",\"Tamal\",\"Asmitttt\"]\n",
    "y=sorted(x,key=len,reverse=True)\n",
    "print(y)"
   ]
  },
  {
   "cell_type": "code",
   "execution_count": 80,
   "id": "ac954d4b-4e49-498c-85b6-ca205d54a5f1",
   "metadata": {},
   "outputs": [
    {
     "name": "stdout",
     "output_type": "stream",
     "text": [
      "['Shub', 'Asmit', 'Tamal', 'Sristi']\n"
     ]
    }
   ],
   "source": [
    "# If length of strings are same,then sort Alphabetically in Ascending Order\n",
    "x=[\"Shub\",\"Sristi\",\"Tamal\",\"Asmit\"]\n",
    "y=sorted(x,key=lambda element:(len(element),element))\n",
    "print(y)\n",
    "## x:--- Target list :kk ake sort korbo\n",
    "## key:-- Rules for sorting :-- ki diye hobe\n",
    "## lamda:- helps to define the rules :-- lambda diye rules likhbo\n",
    "## element:-- each element  ## each element sort in which basis\n",
    "## len(element):-- bt length  ## jodi same hoye jayy then\n",
    "## element:-- ascii wise sorting korbo"
   ]
  },
  {
   "cell_type": "code",
   "execution_count": 81,
   "id": "8f7f1ab8-fb08-47fe-9b70-1351186e1739",
   "metadata": {},
   "outputs": [],
   "source": [
    "## Firstly it will sort based on length \n",
    "# IF for multiple element,we are getting same length value then,\n",
    "#next sorting will ber based on ascii for those similar length element.\n"
   ]
  },
  {
   "cell_type": "code",
   "execution_count": 87,
   "id": "6bd28c94-c1c4-440c-8584-c449e54f10ab",
   "metadata": {},
   "outputs": [
    {
     "name": "stdout",
     "output_type": "stream",
     "text": [
      "['Sristi', 'Tamal', 'Asmit', 'Shub']\n"
     ]
    }
   ],
   "source": [
    "## If we want to do reverse:--\n",
    "x=[\"Shub\",\"Sristi\",\"Tamal\",\"Asmit\"]\n",
    "y=sorted(x,key=lambda element:(len(element),element),reverse=True)\n",
    "print(y)\n",
    "## Sort based on length and if for multiple elements length is same then sort them based on ascii and reverse the content"
   ]
  },
  {
   "cell_type": "code",
   "execution_count": 90,
   "id": "c35e7770-53a3-4a82-a5e9-c43b075cec25",
   "metadata": {},
   "outputs": [],
   "source": [
    "## Sort by length in Descending order \n",
    "## Sort by Ascii in Ascending order \n"
   ]
  },
  {
   "cell_type": "code",
   "execution_count": 93,
   "id": "54fe6185-afee-41b4-9725-00500f8995a4",
   "metadata": {},
   "outputs": [
    {
     "name": "stdout",
     "output_type": "stream",
     "text": [
      "['Sristi', 'Asmit', 'Tamal', 'Shub']\n"
     ]
    }
   ],
   "source": [
    "## Sort by length in Descending order + ## Sort by length in Descending order :----\n",
    "x=[\"Shub\",\"Sristi\",\"Tamal\",\"Asmit\"]\n",
    "y=sorted(x,key=lambda element:(-len(element),element))\n",
    "print(y)"
   ]
  },
  {
   "cell_type": "code",
   "execution_count": 97,
   "id": "42b01121-1093-4904-b755-861ab761eb08",
   "metadata": {},
   "outputs": [
    {
     "name": "stdout",
     "output_type": "stream",
     "text": [
      "[['India', 12], ['Spain', 12], ['Australia', 45], ['England', 10]]\n",
      "[['Australia', 45], ['England', 10], ['India', 12], ['Spain', 12]]\n"
     ]
    }
   ],
   "source": [
    "## Now sort Based on Country in Ascending Oder:----\n",
    "##******************************************\n",
    "x=[['India',12],['Spain',12],['Australia',45],['England',10]]\n",
    "print(x)\n",
    "x.sort(key=lambda item:item[0])\n",
    "print(x)"
   ]
  },
  {
   "cell_type": "code",
   "execution_count": 98,
   "id": "35992d6f-a6a1-4964-b665-54b1868dd4ee",
   "metadata": {},
   "outputs": [
    {
     "name": "stdin",
     "output_type": "stream",
     "text": [
      " Shubhra Asmit Sristhi Tamal Prantik\n"
     ]
    },
    {
     "name": "stdout",
     "output_type": "stream",
     "text": [
      "['Prantik', 'Shubhra', 'Sristhi', 'Asmit', 'Tamal']\n"
     ]
    }
   ],
   "source": [
    "x=input().split()\n",
    "y=sorted(x,key=lambda element:(-len(element),element))\n",
    "print(y)"
   ]
  },
  {
   "cell_type": "code",
   "execution_count": 99,
   "id": "4615bad2-216b-40a3-9a2f-0b4e53a5197b",
   "metadata": {},
   "outputs": [
    {
     "name": "stdout",
     "output_type": "stream",
     "text": [
      "[['India', 12], ['Spain', 12], ['Australia', 45], ['England', 10]]\n",
      "[['Spain', 12], ['India', 12], ['England', 10], ['Australia', 45]]\n"
     ]
    }
   ],
   "source": [
    "x=[['India',12],['Spain',12],['Australia',45],['England',10]]\n",
    "print(x)\n",
    "x.sort(key=lambda item:item[0],reverse=True)\n",
    "print(x)"
   ]
  },
  {
   "cell_type": "code",
   "execution_count": 100,
   "id": "8a9e91a3-1501-44b7-acd7-b509408602fb",
   "metadata": {},
   "outputs": [
    {
     "name": "stdout",
     "output_type": "stream",
     "text": [
      "[['India', 12], ['Spain', 12], ['Australia', 45], ['England', 10]]\n",
      "[['England', 10], ['India', 12], ['Spain', 12], ['Australia', 45]]\n"
     ]
    }
   ],
   "source": [
    "x=[['India',12],['Spain',12],['Australia',45],['England',10]]\n",
    "print(x)\n",
    "x.sort(key=lambda item:item[1])\n",
    "print(x)"
   ]
  },
  {
   "cell_type": "code",
   "execution_count": 101,
   "id": "eaa66426-4ceb-4865-9642-9de6046c7bc2",
   "metadata": {},
   "outputs": [
    {
     "name": "stdout",
     "output_type": "stream",
     "text": [
      "[['India', 12], ['Spain', 12], ['Australia', 45], ['England', 10]]\n",
      "[['Australia', 45], ['India', 12], ['Spain', 12], ['England', 10]]\n"
     ]
    }
   ],
   "source": [
    "x=[['India',12],['Spain',12],['Australia',45],['England',10]]\n",
    "print(x)\n",
    "x.sort(key=lambda item:item[1],reverse=True)\n",
    "print(x)"
   ]
  },
  {
   "cell_type": "code",
   "execution_count": null,
   "id": "9cd8fdb2-f207-4d34-a9f4-db767eb08f31",
   "metadata": {},
   "outputs": [],
   "source": []
  }
 ],
 "metadata": {
  "kernelspec": {
   "display_name": "Python 3 (ipykernel)",
   "language": "python",
   "name": "python3"
  },
  "language_info": {
   "codemirror_mode": {
    "name": "ipython",
    "version": 3
   },
   "file_extension": ".py",
   "mimetype": "text/x-python",
   "name": "python",
   "nbconvert_exporter": "python",
   "pygments_lexer": "ipython3",
   "version": "3.11.4"
  }
 },
 "nbformat": 4,
 "nbformat_minor": 5
}
