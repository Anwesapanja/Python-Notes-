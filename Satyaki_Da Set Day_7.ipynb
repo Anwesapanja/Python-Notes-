{
 "cells": [
  {
   "cell_type": "code",
   "execution_count": 1,
   "id": "f821878f-99c7-4069-b95a-201c9045edf4",
   "metadata": {},
   "outputs": [
    {
     "name": "stdout",
     "output_type": "stream",
     "text": [
      "set()\n",
      "<class 'set'>\n"
     ]
    }
   ],
   "source": [
    "x=set()\n",
    "print(x)\n",
    "print(type(x))"
   ]
  },
  {
   "cell_type": "code",
   "execution_count": 3,
   "id": "bc861ab8-f023-4be1-ab50-52b3aed732ff",
   "metadata": {},
   "outputs": [
    {
     "name": "stdout",
     "output_type": "stream",
     "text": [
      "{40, 10, 20, 30}\n",
      "<class 'set'>\n"
     ]
    }
   ],
   "source": [
    "x={10,20,30,40,10,30}\n",
    "print(x)\n",
    "print(type(x))\n",
    "### not consider duplicate element\n",
    "## only consider unique element"
   ]
  },
  {
   "cell_type": "code",
   "execution_count": 5,
   "id": "856e3000-fb21-43b1-bcc5-0811baeb7ab2",
   "metadata": {},
   "outputs": [],
   "source": [
    "## A set is a collection in python that has many features:--\n",
    "## :----------------------\n",
    "#1. set contains unique elenment\n",
    "## 2. set is unordered\n",
    "## 3. set is unindexed"
   ]
  },
  {
   "cell_type": "code",
   "execution_count": 6,
   "id": "22ae6106-29b8-4860-9739-9101127c8a3d",
   "metadata": {},
   "outputs": [
    {
     "name": "stdout",
     "output_type": "stream",
     "text": [
      "{10, 20.3, 20}\n",
      "<class 'set'>\n"
     ]
    }
   ],
   "source": [
    "## set contains unique element:--------------\n",
    "##------------------------------\n",
    "x={10,20.30,10,20}\n",
    "print(x)\n",
    "print(type(x))"
   ]
  },
  {
   "cell_type": "code",
   "execution_count": 8,
   "id": "505bc290-1883-41da-aec3-e0389efcf52a",
   "metadata": {},
   "outputs": [
    {
     "name": "stdout",
     "output_type": "stream",
     "text": [
      "{67, 132, 10, 45, 20, 9044, 567, 30}\n",
      "<class 'set'>\n"
     ]
    }
   ],
   "source": [
    "## set is unordered:---------------\n",
    "#---------------------------\n",
    "x={10,20,30,567,9044,132,45,67}\n",
    "print(x)\n",
    "print(type(x))\n",
    "## order will come randomly"
   ]
  },
  {
   "cell_type": "code",
   "execution_count": 9,
   "id": "4dee4048-721c-4f22-848e-011aceeacd2e",
   "metadata": {},
   "outputs": [
    {
     "name": "stdout",
     "output_type": "stream",
     "text": [
      "{2, 4, 5, 20, 7, 10, 30}\n"
     ]
    },
    {
     "ename": "TypeError",
     "evalue": "'set' object is not subscriptable",
     "output_type": "error",
     "traceback": [
      "\u001b[1;31m---------------------------------------------------------------------------\u001b[0m",
      "\u001b[1;31mTypeError\u001b[0m                                 Traceback (most recent call last)",
      "Cell \u001b[1;32mIn[9], line 5\u001b[0m\n\u001b[0;32m      3\u001b[0m x\u001b[38;5;241m=\u001b[39m{\u001b[38;5;241m10\u001b[39m,\u001b[38;5;241m20\u001b[39m,\u001b[38;5;241m30\u001b[39m,\u001b[38;5;241m10\u001b[39m,\u001b[38;5;241m4\u001b[39m,\u001b[38;5;241m5\u001b[39m,\u001b[38;5;241m2\u001b[39m,\u001b[38;5;241m7\u001b[39m}\n\u001b[0;32m      4\u001b[0m \u001b[38;5;28mprint\u001b[39m(x)\n\u001b[1;32m----> 5\u001b[0m \u001b[38;5;28mprint\u001b[39m(\u001b[43mx\u001b[49m\u001b[43m[\u001b[49m\u001b[38;5;241;43m3\u001b[39;49m\u001b[43m]\u001b[49m)\n",
      "\u001b[1;31mTypeError\u001b[0m: 'set' object is not subscriptable"
     ]
    }
   ],
   "source": [
    "## set is unindexed:------------\n",
    "##------------------\n",
    "x={10,20,30,10,4,5,2,7}\n",
    "print(x)\n",
    "print(x[3])"
   ]
  },
  {
   "cell_type": "code",
   "execution_count": 10,
   "id": "19474aed-bb9d-4f9a-bda8-a9ecee968471",
   "metadata": {},
   "outputs": [
    {
     "data": {
      "text/plain": [
       "['__and__',\n",
       " '__class__',\n",
       " '__class_getitem__',\n",
       " '__contains__',\n",
       " '__delattr__',\n",
       " '__dir__',\n",
       " '__doc__',\n",
       " '__eq__',\n",
       " '__format__',\n",
       " '__ge__',\n",
       " '__getattribute__',\n",
       " '__getstate__',\n",
       " '__gt__',\n",
       " '__hash__',\n",
       " '__iand__',\n",
       " '__init__',\n",
       " '__init_subclass__',\n",
       " '__ior__',\n",
       " '__isub__',\n",
       " '__iter__',\n",
       " '__ixor__',\n",
       " '__le__',\n",
       " '__len__',\n",
       " '__lt__',\n",
       " '__ne__',\n",
       " '__new__',\n",
       " '__or__',\n",
       " '__rand__',\n",
       " '__reduce__',\n",
       " '__reduce_ex__',\n",
       " '__repr__',\n",
       " '__ror__',\n",
       " '__rsub__',\n",
       " '__rxor__',\n",
       " '__setattr__',\n",
       " '__sizeof__',\n",
       " '__str__',\n",
       " '__sub__',\n",
       " '__subclasshook__',\n",
       " '__xor__',\n",
       " 'add',\n",
       " 'clear',\n",
       " 'copy',\n",
       " 'difference',\n",
       " 'difference_update',\n",
       " 'discard',\n",
       " 'intersection',\n",
       " 'intersection_update',\n",
       " 'isdisjoint',\n",
       " 'issubset',\n",
       " 'issuperset',\n",
       " 'pop',\n",
       " 'remove',\n",
       " 'symmetric_difference',\n",
       " 'symmetric_difference_update',\n",
       " 'union',\n",
       " 'update']"
      ]
     },
     "execution_count": 10,
     "metadata": {},
     "output_type": "execute_result"
    }
   ],
   "source": [
    "dir(set)"
   ]
  },
  {
   "cell_type": "code",
   "execution_count": 12,
   "id": "25765c91-c67d-4980-8aac-e8f463f7b3c6",
   "metadata": {},
   "outputs": [
    {
     "name": "stdout",
     "output_type": "stream",
     "text": [
      "{40, 10, 20, 30}\n",
      "{40, 90, 80, 30}\n",
      "{40, 10, 80, 20, 90, 30}\n"
     ]
    }
   ],
   "source": [
    "## Union:--------------------\n",
    "##------------------------\n",
    "x={10,20,30,40}\n",
    "y={30,40,80,90}\n",
    "print(x)\n",
    "print(y)\n",
    "res=x.union(y)\n",
    "print(res)"
   ]
  },
  {
   "cell_type": "code",
   "execution_count": 13,
   "id": "6300a3de-fa88-4fbc-9754-f09c29139545",
   "metadata": {},
   "outputs": [
    {
     "name": "stdout",
     "output_type": "stream",
     "text": [
      "{40, 10, 20, 30}\n",
      "{40, 90, 80, 30}\n",
      "{40, 10, 80, 20, 90, 30}\n"
     ]
    }
   ],
   "source": [
    "## union without function:-----------\n",
    "##----------------------------------\n",
    "x={10,20,30,40}\n",
    "y={30,40,80,90}\n",
    "print(x)\n",
    "print(y)\n",
    "res=x|y ## union sign:--- '|'\n",
    "print(res)"
   ]
  },
  {
   "cell_type": "code",
   "execution_count": 14,
   "id": "047733e4-75e0-4e3b-9915-8eeca2bfe2c8",
   "metadata": {},
   "outputs": [
    {
     "name": "stdout",
     "output_type": "stream",
     "text": [
      "{40, 10, 20, 30}\n",
      "{40, 90, 80, 30}\n",
      "{40, 30}\n"
     ]
    }
   ],
   "source": [
    "## intersection part:-----------\n",
    "#------------------------------\n",
    "x={10,20,30,40}\n",
    "y={30,40,80,90}\n",
    "print(x)\n",
    "print(y)\n",
    "res=x.intersection(y)\n",
    "print(res)"
   ]
  },
  {
   "cell_type": "code",
   "execution_count": 16,
   "id": "70f6c4dd-7413-42ad-9c8d-451c6423148d",
   "metadata": {},
   "outputs": [
    {
     "name": "stdout",
     "output_type": "stream",
     "text": [
      "{40, 10, 20, 30}\n",
      "{40, 90, 80, 30}\n",
      "{40, 30}\n"
     ]
    }
   ],
   "source": [
    "## intersection using operator:-----------\n",
    "#---------------------------\n",
    "x={10,20,30,40}\n",
    "y={30,40,80,90}\n",
    "print(x)\n",
    "print(y)\n",
    "res=x&y   ## intersection sign:--- '&'\n",
    "print(res)"
   ]
  },
  {
   "cell_type": "code",
   "execution_count": 18,
   "id": "5cabb16d-0b56-4db2-a9ad-121072ae992e",
   "metadata": {},
   "outputs": [
    {
     "name": "stdout",
     "output_type": "stream",
     "text": [
      "{40, 10, 20, 30}\n",
      "{40, 90, 80, 30}\n",
      "{10, 20}\n",
      "{80, 90}\n"
     ]
    }
   ],
   "source": [
    "## difference:------------\n",
    "##----------------------------\n",
    "x={10,20,30,40}\n",
    "y={30,40,80,90}\n",
    "print(x)\n",
    "print(y)\n",
    "res=x-y\n",
    "res1=y-x\n",
    "print(res)\n",
    "print(res1)\n"
   ]
  },
  {
   "cell_type": "code",
   "execution_count": 19,
   "id": "bc0229cb-f773-4795-86fe-73d03d86131a",
   "metadata": {},
   "outputs": [
    {
     "name": "stdout",
     "output_type": "stream",
     "text": [
      "{10, 20}\n",
      "{80, 90}\n",
      "set()\n",
      "set()\n"
     ]
    }
   ],
   "source": [
    "x={10,20,30,40}\n",
    "y={30,40,80,90}\n",
    "print(x.difference(y))\n",
    "print(y.difference(x))\n",
    "print(x.difference(x))\n",
    "print(y.difference(y))"
   ]
  },
  {
   "cell_type": "code",
   "execution_count": 28,
   "id": "c34fe3e6-b7eb-452f-bfdd-1df5843dac06",
   "metadata": {},
   "outputs": [
    {
     "name": "stdout",
     "output_type": "stream",
     "text": [
      "{10, 80, 20, 90}\n",
      "\n",
      "{40, 10, 20, 30}\n",
      "{40, 90, 80, 30}\n"
     ]
    }
   ],
   "source": [
    "## Symmetric Difference:--------------\n",
    "##------------------------------------\n",
    "x={10,20,30,40}\n",
    "y={30,40,80,90}  ## common part ta thakbe naa\n",
    "print(x.symmetric_difference(y))\n",
    "print()\n",
    "print(x)  ## x and y change holo naaaa same ee thakbe\n",
    "print(y)"
   ]
  },
  {
   "cell_type": "code",
   "execution_count": 21,
   "id": "9968b721-30f7-49f2-b955-23453d0cb755",
   "metadata": {},
   "outputs": [
    {
     "name": "stdout",
     "output_type": "stream",
     "text": [
      "{10, 80, 20, 90}\n"
     ]
    }
   ],
   "source": [
    "## using operator:------------\n",
    "x={10,20,30,40}\n",
    "y={30,40,80,90}\n",
    "res=x^y  ## jokhon res bole kono variable ar modhe rakhe then ata sudhu symmetric difference\n",
    "print(res)"
   ]
  },
  {
   "cell_type": "code",
   "execution_count": 30,
   "id": "4dc8086e-f974-492e-8e4f-43e903775459",
   "metadata": {},
   "outputs": [
    {
     "name": "stdout",
     "output_type": "stream",
     "text": [
      "{40, 10, 20, 30}\n",
      "{40, 90, 80, 30}\n",
      "\n",
      "{10, 80, 20, 90}\n",
      "{40, 90, 80, 30}\n"
     ]
    }
   ],
   "source": [
    "## symmetric_difference_update\n",
    "x={10,20,30,40}\n",
    "y={30,40,80,90}\n",
    "print(x)\n",
    "print(y)\n",
    "print()\n",
    "x.symmetric_difference_update(y)\n",
    "print(x) ## x value updated \n",
    "print(y)\n",
    "## Here the result of(x symmetric difference y)is stored within x\n",
    "## So,after execution,x value will be updated. y will remain same..."
   ]
  },
  {
   "cell_type": "code",
   "execution_count": 35,
   "id": "70db39a7-2362-4087-bb1d-1b5d331dedea",
   "metadata": {
    "scrolled": true
   },
   "outputs": [
    {
     "name": "stdout",
     "output_type": "stream",
     "text": [
      "{40, 10, 20, 30}\n",
      "{40, 90, 80, 30}\n",
      "\n",
      "{40, 10, 20, 30}\n",
      "{10, 80, 20, 90}\n"
     ]
    }
   ],
   "source": [
    "x={10,20,30,40}\n",
    "y={30,40,80,90}\n",
    "print(x)\n",
    "print(y)\n",
    "print()\n",
    "y.symmetric_difference_update(x)\n",
    "print(x)\n",
    "print(y)\n",
    "## Here the result of(y symmetric difference x)is stored within y.\n",
    "## So,after execution,y value will be updated. x  will remain same..."
   ]
  },
  {
   "cell_type": "code",
   "execution_count": 26,
   "id": "01e67221-0f45-46ad-acd2-3b279dd82eef",
   "metadata": {},
   "outputs": [
    {
     "name": "stdout",
     "output_type": "stream",
     "text": [
      "{40, 10, 20, 30}\n",
      "{40, 90, 80, 30}\n",
      "\n",
      "{10, 80, 20, 90}\n",
      "{40, 90, 80, 30}\n"
     ]
    }
   ],
   "source": [
    "x={10,20,30,40}\n",
    "y={30,40,80,90}\n",
    "print(x)\n",
    "print(y)\n",
    "print()\n",
    "x=x^y\n",
    "print(x)\n",
    "print(y)"
   ]
  },
  {
   "cell_type": "code",
   "execution_count": 36,
   "id": "7d47297e-b0dd-47ec-b52b-ff97981d6f2e",
   "metadata": {},
   "outputs": [],
   "source": [
    " ## union update:-- x=x|y\n",
    "## intersection update:-- x=x&y\n",
    "## set difference update:-- x=x-y\n",
    "## symmetric difference update:-- x=x^y\n"
   ]
  },
  {
   "cell_type": "code",
   "execution_count": 37,
   "id": "6d88c42b-56bd-4be9-ab10-1b85ace49935",
   "metadata": {},
   "outputs": [
    {
     "name": "stdout",
     "output_type": "stream",
     "text": [
      "{50, 20, 40, 10, 30}\n",
      "{40, 50, 30}\n",
      "{20, 10}\n"
     ]
    }
   ],
   "source": [
    "x={10,20,30,40,50}\n",
    "y={30,40,50}\n",
    "print(x)\n",
    "print(y)\n",
    "x.difference_update(y) ## x=x-y\n",
    "print(x)"
   ]
  },
  {
   "cell_type": "code",
   "execution_count": 38,
   "id": "c1367260-1894-44e3-a960-201b134f4472",
   "metadata": {},
   "outputs": [],
   "source": [
    "# c=a+b :--- not update\n",
    "## a=a+b :--- update"
   ]
  },
  {
   "cell_type": "code",
   "execution_count": 42,
   "id": "0166c2bb-1de4-4f54-a7ae-68fbe1d86eb0",
   "metadata": {},
   "outputs": [
    {
     "name": "stdout",
     "output_type": "stream",
     "text": [
      "False\n",
      "True\n",
      "\n",
      "True\n",
      "False\n"
     ]
    }
   ],
   "source": [
    "## issubset:---------------------\n",
    "##- issuperset:-- ---------------------------\n",
    "x={10,20,30,40,50,60}\n",
    "y={30,40}\n",
    "\n",
    "print(x.issubset(y)) # is x subset of y?--> No\n",
    "print(y.issubset(x))  # is y is suset of x?:--> yes\n",
    "print()\n",
    "print(x.issuperset(y))  ## is x superset of y:---> yes\n",
    "print(y.issuperset(x))   ## is y is superset of x:--> No"
   ]
  },
  {
   "cell_type": "code",
   "execution_count": 49,
   "id": "4210e4e6-ee3c-4c0d-ac2f-9634fcd54f69",
   "metadata": {},
   "outputs": [
    {
     "name": "stdout",
     "output_type": "stream",
     "text": [
      "{50, 20, 40, 10, 60, 30}\n",
      "210\n",
      "\n",
      "60\n",
      "10\n",
      "[10, 20, 30, 40, 50, 60]\n"
     ]
    }
   ],
   "source": [
    "## sum:---\n",
    "## MAX:---\n",
    "##  Sorted:--\n",
    "## MIN:---\n",
    "s={10,20,30,40,50,60}\n",
    "print(s)\n",
    "res_sum=sum(s)\n",
    "print(res_sum)\n",
    "print()\n",
    "res_Max=max(s)\n",
    "print(res_Max)\n",
    "res_Min=min(s)\n",
    "print(res_Min)\n",
    "res_Sorted=sorted(s)\n",
    "print(res_Sorted)"
   ]
  },
  {
   "cell_type": "code",
   "execution_count": null,
   "id": "97747fa3-d844-435b-858a-daa81a748406",
   "metadata": {},
   "outputs": [],
   "source": []
  }
 ],
 "metadata": {
  "kernelspec": {
   "display_name": "Python 3 (ipykernel)",
   "language": "python",
   "name": "python3"
  },
  "language_info": {
   "codemirror_mode": {
    "name": "ipython",
    "version": 3
   },
   "file_extension": ".py",
   "mimetype": "text/x-python",
   "name": "python",
   "nbconvert_exporter": "python",
   "pygments_lexer": "ipython3",
   "version": "3.11.4"
  }
 },
 "nbformat": 4,
 "nbformat_minor": 5
}
