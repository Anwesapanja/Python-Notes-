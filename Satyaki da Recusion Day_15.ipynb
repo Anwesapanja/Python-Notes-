{
 "cells": [
  {
   "cell_type": "code",
   "execution_count": 4,
   "id": "100767f3-eb3c-434c-b850-4bc6d66173ce",
   "metadata": {},
   "outputs": [
    {
     "name": "stdout",
     "output_type": "stream",
     "text": [
      "120\n"
     ]
    }
   ],
   "source": [
    "## Factorial Using Recursion:----------\n",
    "def fact(n):\n",
    "    if n<=1:\n",
    "        return n\n",
    "    return n*fact(n-1)\n",
    "print(fact(5))"
   ]
  },
  {
   "cell_type": "code",
   "execution_count": 5,
   "id": "df8070e6-b0f5-4098-9581-e411dc660c0a",
   "metadata": {},
   "outputs": [],
   "source": [
    "## it follos stack :-- Last in first out"
   ]
  },
  {
   "cell_type": "code",
   "execution_count": 9,
   "id": "2956f9eb-d9cf-413a-a3b6-05dcf348f2ed",
   "metadata": {},
   "outputs": [
    {
     "name": "stdout",
     "output_type": "stream",
     "text": [
      "Factorial for Negative number not allowed\n"
     ]
    }
   ],
   "source": [
    "def fact(n):\n",
    "    if(n==1 or n==0):\n",
    "        return 1\n",
    "    elif(n>1):\n",
    "        return n*fact(n-1)\n",
    "    else:\n",
    "        return \"Factorial for Negative number not allowed\"\n",
    "print(fact(-2))     "
   ]
  },
  {
   "cell_type": "code",
   "execution_count": 12,
   "id": "435bc9bc-15a5-4d42-9e4c-b3aeef969b0c",
   "metadata": {},
   "outputs": [
    {
     "name": "stdout",
     "output_type": "stream",
     "text": [
      "6\n",
      "12\n",
      "7\n"
     ]
    }
   ],
   "source": [
    "## GCD using::-----------------------\n",
    "def gcd(a,b):\n",
    "    if b==0:\n",
    "        return a\n",
    "    return gcd(b,a%b)\n",
    "print(gcd(12,30))\n",
    "print(gcd(36,24))\n",
    "print(gcd(7,21))\n",
    "## greated common divisor"
   ]
  },
  {
   "cell_type": "code",
   "execution_count": 13,
   "id": "9d3e0d7f-007f-4e6c-9599-390e0fefed59",
   "metadata": {},
   "outputs": [
    {
     "name": "stdout",
     "output_type": "stream",
     "text": [
      "3\n"
     ]
    }
   ],
   "source": [
    "## Fibonacci using recursion:----------------\n",
    "def fib(n):\n",
    "    if n<=1:\n",
    "        return n\n",
    "    else:\n",
    "        return fib(n-1)+fib(n-2)\n",
    "\n",
    "print(fib(3))"
   ]
  },
  {
   "cell_type": "code",
   "execution_count": 14,
   "id": "6f04b9cc-2e30-4ac9-bf35-c23d051a9c5f",
   "metadata": {},
   "outputs": [],
   "source": [
    "## Calculate Exponent uging Recursion:---\n",
    "## 2^5 "
   ]
  },
  {
   "cell_type": "code",
   "execution_count": 16,
   "id": "7469a0f3-86f0-430d-829d-d617f0f4fb35",
   "metadata": {},
   "outputs": [
    {
     "name": "stdout",
     "output_type": "stream",
     "text": [
      "32\n"
     ]
    }
   ],
   "source": [
    "def power(base,exp):\n",
    "    if exp==0:\n",
    "        return 1\n",
    "    return base*power(base,exp-1)\n",
    "base=2\n",
    "exponent=5\n",
    "res=power(base,exponent)\n",
    "print(res)"
   ]
  },
  {
   "cell_type": "code",
   "execution_count": 20,
   "id": "21386c91-4759-45d2-9e5a-d5372d3c332b",
   "metadata": {},
   "outputs": [
    {
     "name": "stdout",
     "output_type": "stream",
     "text": [
      "2 *power( 2 , 4 )\n",
      "2 *power( 2 , 3 )\n",
      "2 *power( 2 , 2 )\n",
      "2 *power( 2 , 1 )\n",
      "2 *power( 2 , 0 )\n",
      "32\n"
     ]
    }
   ],
   "source": [
    "def power(base,exp):\n",
    "    if exp==0:\n",
    "        return 1\n",
    "    print(base, '*power(',base,',',exp-1,')')    \n",
    "    return base*power(base,exp-1)\n",
    "base=2\n",
    "exponent=5\n",
    "res=power(base,exponent)\n",
    "print(res)"
   ]
  },
  {
   "cell_type": "code",
   "execution_count": null,
   "id": "9183a99d-aeb3-474f-b205-16dfa62b5ef3",
   "metadata": {},
   "outputs": [],
   "source": []
  }
 ],
 "metadata": {
  "kernelspec": {
   "display_name": "Python 3 (ipykernel)",
   "language": "python",
   "name": "python3"
  },
  "language_info": {
   "codemirror_mode": {
    "name": "ipython",
    "version": 3
   },
   "file_extension": ".py",
   "mimetype": "text/x-python",
   "name": "python",
   "nbconvert_exporter": "python",
   "pygments_lexer": "ipython3",
   "version": "3.11.4"
  }
 },
 "nbformat": 4,
 "nbformat_minor": 5
}
