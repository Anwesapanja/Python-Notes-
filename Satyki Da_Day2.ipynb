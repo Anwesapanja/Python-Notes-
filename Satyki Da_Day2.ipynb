{
 "cells": [
  {
   "cell_type": "markdown",
   "id": "feb6d780-7869-4ff8-a75d-2e7f34c2bc83",
   "metadata": {},
   "source": [
    "# 👁️user Input"
   ]
  },
  {
   "cell_type": "code",
   "execution_count": 7,
   "id": "223caa52-f596-4388-a108-4e9700a3949d",
   "metadata": {},
   "outputs": [
    {
     "name": "stdin",
     "output_type": "stream",
     "text": [
      " 10\n"
     ]
    },
    {
     "name": "stdout",
     "output_type": "stream",
     "text": [
      "10\n",
      "<class 'str'>\n"
     ]
    }
   ],
   "source": [
    "x=input()\n",
    "print(x)\n",
    "print(type(x))"
   ]
  },
  {
   "cell_type": "code",
   "execution_count": 2,
   "id": "02c9767e-7eaf-4df6-b897-2a061ca1fac4",
   "metadata": {},
   "outputs": [
    {
     "name": "stdin",
     "output_type": "stream",
     "text": [
      " 12\n"
     ]
    },
    {
     "name": "stdout",
     "output_type": "stream",
     "text": [
      "12\n",
      "<class 'str'>\n"
     ]
    }
   ],
   "source": [
    "x=input()\n",
    "print(x)\n",
    "print(type(x))"
   ]
  },
  {
   "cell_type": "markdown",
   "id": "e91e1ccc-0bda-4f92-b680-64456cf5d050",
   "metadata": {},
   "source": [
    "x=input().split()\n",
    "print(x)"
   ]
  },
  {
   "cell_type": "markdown",
   "id": "fc8cb927-8d89-42ea-83b3-5a252f094485",
   "metadata": {},
   "source": [
    "here Split() works for spliting\n",
    "here the user input will be splited by space (By Default):---"
   ]
  },
  {
   "cell_type": "markdown",
   "id": "ff904aeb-aede-45ed-bf54-ab9ccee9cccb",
   "metadata": {},
   "source": [
    "# Split a sentence by '-'"
   ]
  },
  {
   "cell_type": "markdown",
   "id": "b11add4c-8cb7-424a-9c9c-9324c8bb3b19",
   "metadata": {},
   "source": []
  },
  {
   "cell_type": "code",
   "execution_count": 6,
   "id": "3e7067c0-4fbe-4582-890b-a638bd1554bd",
   "metadata": {},
   "outputs": [
    {
     "name": "stdin",
     "output_type": "stream",
     "text": [
      " Anwesa-panja\n"
     ]
    },
    {
     "name": "stdout",
     "output_type": "stream",
     "text": [
      "['Anwesa', 'panja']\n"
     ]
    }
   ],
   "source": [
    "x=input().split('-')\n",
    "print(x)"
   ]
  },
  {
   "cell_type": "code",
   "execution_count": 4,
   "id": "7b79a12d-2792-49f9-891b-e2d961cea180",
   "metadata": {},
   "outputs": [
    {
     "name": "stdin",
     "output_type": "stream",
     "text": [
      " anwesepwer\n"
     ]
    },
    {
     "name": "stdout",
     "output_type": "stream",
     "text": [
      "['anwe', 'wer']\n"
     ]
    }
   ],
   "source": [
    "x=input().split('sep')\n",
    "print(x)"
   ]
  },
  {
   "cell_type": "markdown",
   "id": "2fb806b8-ea27-43b9-8b17-04f55d51ce64",
   "metadata": {},
   "source": [
    "Split doesnot work on list\n",
    "Split only works on string"
   ]
  },
  {
   "cell_type": "code",
   "execution_count": null,
   "id": "179ed99e-aea7-4351-8a97-b0deb294bf2d",
   "metadata": {},
   "outputs": [],
   "source": [
    "##Example:---\n",
    "print(type(input()))\n",
    "print(type(input().split()))"
   ]
  },
  {
   "cell_type": "markdown",
   "id": "14d712bc-0fe6-4a55-b9c3-f23adfea6356",
   "metadata": {},
   "source": [
    "How to take Multiple User input in string:---"
   ]
  },
  {
   "cell_type": "markdown",
   "id": "e05a1692-3958-4b05-927a-9127b954f230",
   "metadata": {},
   "source": [
    "x=input().split('abc')\n",
    "print(x)"
   ]
  },
  {
   "cell_type": "markdown",
   "id": "8af4b436-8a83-4fe0-95d4-ed3cbbae2db1",
   "metadata": {},
   "source": [
    "How to take Multiple integer input:---"
   ]
  },
  {
   "cell_type": "code",
   "execution_count": null,
   "id": "84858be4-e846-4a83-a012-35e6565cd9de",
   "metadata": {},
   "outputs": [],
   "source": [
    "x=list(map(int,input().split()))\n",
    "print(x)"
   ]
  },
  {
   "cell_type": "markdown",
   "id": "99c5275f-bfd3-47ad-809d-7bb382a2345a",
   "metadata": {},
   "source": [
    "int(string):--- Output will be int [Correct]\n",
    "int(input().split()) means:-- int(list) but list ar opor int kaj kore naa....Error\n",
    "\n",
    "\n",
    "👁️So it is not applicable for list\n",
    "it is only applicable for String/float to convert in int\n",
    "\n",
    "To convert the list element in Int we need to typecast the all the list element.\n",
    "to typecase (String---> int) we need to implement Map\n"
   ]
  },
  {
   "cell_type": "code",
   "execution_count": 2,
   "id": "27ad3b11-ad07-49e5-a545-a935a1486398",
   "metadata": {},
   "outputs": [
    {
     "name": "stdout",
     "output_type": "stream",
     "text": [
      "10\n"
     ]
    },
    {
     "ename": "ValueError",
     "evalue": "invalid literal for int() with base 10: 'kuntal'",
     "output_type": "error",
     "traceback": [
      "\u001b[1;31m---------------------------------------------------------------------------\u001b[0m",
      "\u001b[1;31mValueError\u001b[0m                                Traceback (most recent call last)",
      "Cell \u001b[1;32mIn[2], line 2\u001b[0m\n\u001b[0;32m      1\u001b[0m \u001b[38;5;28mprint\u001b[39m(\u001b[38;5;28mint\u001b[39m(\u001b[38;5;241m10\u001b[39m))\n\u001b[1;32m----> 2\u001b[0m \u001b[38;5;28mprint\u001b[39m(\u001b[38;5;28;43mint\u001b[39;49m\u001b[43m(\u001b[49m\u001b[38;5;124;43m'\u001b[39;49m\u001b[38;5;124;43mkuntal\u001b[39;49m\u001b[38;5;124;43m'\u001b[39;49m\u001b[43m)\u001b[49m)\n",
      "\u001b[1;31mValueError\u001b[0m: invalid literal for int() with base 10: 'kuntal'"
     ]
    }
   ],
   "source": [
    "print(int(10))\n",
    "print(int('kuntal'))\n",
    "      "
   ]
  },
  {
   "cell_type": "code",
   "execution_count": 6,
   "id": "997d753d-0b6b-4935-bf90-87b149be8fca",
   "metadata": {},
   "outputs": [
    {
     "name": "stdin",
     "output_type": "stream",
     "text": [
      " ram bhanu sanu\n"
     ]
    },
    {
     "name": "stdout",
     "output_type": "stream",
     "text": [
      "['ram', 'bhanu', 'sanu']\n",
      "<class 'list'>\n"
     ]
    },
    {
     "name": "stdin",
     "output_type": "stream",
     "text": [
      " ram jam kol\n"
     ]
    },
    {
     "name": "stdout",
     "output_type": "stream",
     "text": [
      "ram jam kol\n",
      "<class 'str'>\n"
     ]
    }
   ],
   "source": [
    "x=input().split()\n",
    "print(x)\n",
    "print(type(x))\n",
    "y=input()\n",
    "print(y)\n",
    "print(type(y))\n",
    "\n",
    "# Here we get the out in terms of string "
   ]
  },
  {
   "cell_type": "code",
   "execution_count": null,
   "id": "57c60e1d-7fde-4577-b616-dc2ed0cf7404",
   "metadata": {},
   "outputs": [],
   "source": [
    "# for converting this input string to int we use map function\n",
    "x=list(map(int,input().split()))\n",
    "print(x)"
   ]
  },
  {
   "cell_type": "code",
   "execution_count": 1,
   "id": "eb8804f2-ad42-4bda-90f4-a8ee9b538ac0",
   "metadata": {},
   "outputs": [
    {
     "name": "stdin",
     "output_type": "stream",
     "text": [
      " 10 20 30 40\n"
     ]
    },
    {
     "name": "stdout",
     "output_type": "stream",
     "text": [
      "10 20 30 40\n",
      "['10', '20', '30', '40']\n",
      "<map object at 0x000001D9854C4C40>\n",
      "[10, 20, 30, 40]\n"
     ]
    }
   ],
   "source": [
    "x=input()\n",
    "print(x)\n",
    "y=x.split()\n",
    "print(y)\n",
    "z=map(int,y)\n",
    "print(z)\n",
    "t=list(z)\n",
    "print(t)"
   ]
  },
  {
   "cell_type": "markdown",
   "id": "99488c35-4f88-4d88-8377-5e881b911602",
   "metadata": {},
   "source": [
    "How to take Multiple Float Input:---"
   ]
  },
  {
   "cell_type": "code",
   "execution_count": 1,
   "id": "463faad6-3f68-4fc8-9d56-ddb3c5d2a471",
   "metadata": {},
   "outputs": [
    {
     "name": "stdin",
     "output_type": "stream",
     "text": [
      " 10.2 11.2 13.2\n"
     ]
    },
    {
     "name": "stdout",
     "output_type": "stream",
     "text": [
      "[10.2, 11.2, 13.2]\n"
     ]
    }
   ],
   "source": [
    "x=list(map(float,input().split()))\n",
    "print(x)"
   ]
  },
  {
   "cell_type": "markdown",
   "id": "cf958f9d-b836-47cc-8a02-8ded20b3c802",
   "metadata": {},
   "source": [
    "Multiple Integer Input separated by Comma\n"
   ]
  },
  {
   "cell_type": "markdown",
   "id": "68e2cae6-36c3-4f14-a6d4-8b49e2ee2e15",
   "metadata": {},
   "source": [
    "x=list(map(int,input().split(',')))\n",
    "print(x)"
   ]
  },
  {
   "cell_type": "markdown",
   "id": "ece4b9bc-034a-49e9-9ead-ddd811f1afba",
   "metadata": {},
   "source": [
    "single line integer input........................\n",
    "single line float input..................................\n",
    "single line String input..................\n",
    "Multiline string input............\n",
    "Multiline Float input.........................\n",
    "Multiline String Input separated By comma..........................\n",
    "Multiline Float Input separated by comma....................\n",
    "Multiline String Input separated by comma.................\n"
   ]
  },
  {
   "cell_type": "markdown",
   "id": "4af981e3-5d4f-4867-b617-0d9fbb3cc89f",
   "metadata": {},
   "source": [
    "# 👁️Python Swap 2 numbers"
   ]
  },
  {
   "cell_type": "markdown",
   "id": "d88e0d41-80d0-411d-874b-c9a4b39cc9c8",
   "metadata": {},
   "source": [
    "#How to take 2 integer input"
   ]
  },
  {
   "cell_type": "code",
   "execution_count": 8,
   "id": "d412c6ca-be54-40aa-b44f-5f2dd0a4b317",
   "metadata": {},
   "outputs": [
    {
     "name": "stdin",
     "output_type": "stream",
     "text": [
      " 10 20\n"
     ]
    },
    {
     "name": "stdout",
     "output_type": "stream",
     "text": [
      "10\n",
      "20\n"
     ]
    }
   ],
   "source": [
    "a,b=list(map(int,input().split()))\n",
    "print(a) \n",
    "print(b)"
   ]
  },
  {
   "cell_type": "code",
   "execution_count": 9,
   "id": "2669b480-9d05-4992-ae8f-26b371be6914",
   "metadata": {},
   "outputs": [
    {
     "name": "stdin",
     "output_type": "stream",
     "text": [
      " 10 20\n"
     ]
    },
    {
     "name": "stdout",
     "output_type": "stream",
     "text": [
      "[10, 20]\n"
     ]
    }
   ],
   "source": [
    "x=list(map(int,input().split()))\n",
    "print(x)\n"
   ]
  },
  {
   "cell_type": "code",
   "execution_count": 10,
   "id": "01316ed4-b432-41fd-aa5d-cf3d3574370d",
   "metadata": {},
   "outputs": [
    {
     "name": "stdout",
     "output_type": "stream",
     "text": [
      "10\n",
      "20\n"
     ]
    }
   ],
   "source": [
    "a,b=[10,20]\n",
    "print(a)\n",
    "print(b)"
   ]
  },
  {
   "cell_type": "code",
   "execution_count": null,
   "id": "11212e6c-7947-413f-8097-d26c7bf114fa",
   "metadata": {},
   "outputs": [],
   "source": [
    "a,b,c,d=list(map(int,input().split()))\n",
    "print(a)\n",
    "print(b)\n",
    "print(c)\n",
    "print(d)"
   ]
  },
  {
   "cell_type": "code",
   "execution_count": null,
   "id": "d35e9696-70b2-4775-98b9-7c4d4d957a52",
   "metadata": {},
   "outputs": [],
   "source": [
    "#joto gulo integer toto gulo value..."
   ]
  },
  {
   "cell_type": "code",
   "execution_count": null,
   "id": "00990d87-6eda-4811-8b4d-7ba5568495d5",
   "metadata": {},
   "outputs": [],
   "source": [
    "a,b=10,20\n",
    "print(a,b)\n",
    "a,b=b,a\n",
    "print(a,b)"
   ]
  },
  {
   "cell_type": "code",
   "execution_count": null,
   "id": "6e30986d-7035-4c0f-aa07-6402b32d6a46",
   "metadata": {},
   "outputs": [],
   "source": [
    "a,b=list(map(int,input().split()))\n",
    "print(a,b)\n",
    "a,b=b,a\n",
    "print(a,b)"
   ]
  },
  {
   "cell_type": "code",
   "execution_count": null,
   "id": "f5303459-1c17-43fe-b687-29829171e3a0",
   "metadata": {},
   "outputs": [],
   "source": []
  }
 ],
 "metadata": {
  "kernelspec": {
   "display_name": "Python 3 (ipykernel)",
   "language": "python",
   "name": "python3"
  },
  "language_info": {
   "codemirror_mode": {
    "name": "ipython",
    "version": 3
   },
   "file_extension": ".py",
   "mimetype": "text/x-python",
   "name": "python",
   "nbconvert_exporter": "python",
   "pygments_lexer": "ipython3",
   "version": "3.11.4"
  }
 },
 "nbformat": 4,
 "nbformat_minor": 5
}
