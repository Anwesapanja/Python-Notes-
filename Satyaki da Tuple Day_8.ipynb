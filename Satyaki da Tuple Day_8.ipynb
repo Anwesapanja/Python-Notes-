{
 "cells": [
  {
   "cell_type": "code",
   "execution_count": 1,
   "id": "a91d1386-cbec-4237-88b7-caad716144e0",
   "metadata": {},
   "outputs": [
    {
     "name": "stdout",
     "output_type": "stream",
     "text": [
      "(10, 20, 30, 40, 50)\n",
      "<class 'tuple'>\n"
     ]
    }
   ],
   "source": [
    "t=(10,20,30,40,50)\n",
    "print(t)\n",
    "print(type(t))"
   ]
  },
  {
   "cell_type": "code",
   "execution_count": 2,
   "id": "45fcb79f-ca72-4705-9580-b904a4cc0bd4",
   "metadata": {},
   "outputs": [],
   "source": [
    "## Features:----------------\n",
    "##---------------------------------\n",
    "## 1) Tuple is immutable\n",
    "## 2) tuple is indexed\n",
    "## #)Tuple is constructed using firsr backet()"
   ]
  },
  {
   "cell_type": "code",
   "execution_count": 3,
   "id": "6518762c-d638-4fa5-9451-1b7af5d2a5ad",
   "metadata": {},
   "outputs": [
    {
     "name": "stdout",
     "output_type": "stream",
     "text": [
      "30\n"
     ]
    },
    {
     "ename": "TypeError",
     "evalue": "'tuple' object does not support item assignment",
     "output_type": "error",
     "traceback": [
      "\u001b[1;31m---------------------------------------------------------------------------\u001b[0m",
      "\u001b[1;31mTypeError\u001b[0m                                 Traceback (most recent call last)",
      "Cell \u001b[1;32mIn[3], line 5\u001b[0m\n\u001b[0;32m      3\u001b[0m t\u001b[38;5;241m=\u001b[39m(\u001b[38;5;241m10\u001b[39m,\u001b[38;5;241m20\u001b[39m,\u001b[38;5;241m30\u001b[39m,\u001b[38;5;241m40\u001b[39m,\u001b[38;5;241m50\u001b[39m)\n\u001b[0;32m      4\u001b[0m \u001b[38;5;28mprint\u001b[39m(t[\u001b[38;5;241m2\u001b[39m])\n\u001b[1;32m----> 5\u001b[0m \u001b[43mt\u001b[49m\u001b[43m[\u001b[49m\u001b[38;5;241;43m2\u001b[39;49m\u001b[43m]\u001b[49m\u001b[38;5;241m=\u001b[39m\u001b[38;5;241m56\u001b[39m\n",
      "\u001b[1;31mTypeError\u001b[0m: 'tuple' object does not support item assignment"
     ]
    }
   ],
   "source": [
    "## 1) Tuple is immutable:---------------\n",
    "#----------------------------------\n",
    "t=(10,20,30,40,50)\n",
    "print(t[2])\n",
    "t[2]=56"
   ]
  },
  {
   "cell_type": "code",
   "execution_count": 5,
   "id": "56bc4d45-8346-4993-b041-e11ee29d3fdb",
   "metadata": {},
   "outputs": [],
   "source": [
    "## Means:-- We cannot update the value of certain index.\n",
    "## Bcz the tuple is immutable"
   ]
  },
  {
   "cell_type": "code",
   "execution_count": 9,
   "id": "fd4623ef-ff8f-4f32-aa51-95f5f91fba04",
   "metadata": {},
   "outputs": [
    {
     "name": "stdout",
     "output_type": "stream",
     "text": [
      "10\n",
      "40\n",
      "50\n"
     ]
    }
   ],
   "source": [
    "## 2) tuple is indexed:-----------------\n",
    "##-------------------------\n",
    "## we can access index value in tuple\n",
    "t=(10,20,30,40,50)\n",
    "print(t[0])\n",
    "print(t[3])\n",
    "print(t[-1])"
   ]
  },
  {
   "cell_type": "code",
   "execution_count": 10,
   "id": "bed8c22d-061b-409b-9b9c-2f7daec47e78",
   "metadata": {},
   "outputs": [
    {
     "data": {
      "text/plain": [
       "['__add__',\n",
       " '__class__',\n",
       " '__class_getitem__',\n",
       " '__contains__',\n",
       " '__delattr__',\n",
       " '__dir__',\n",
       " '__doc__',\n",
       " '__eq__',\n",
       " '__format__',\n",
       " '__ge__',\n",
       " '__getattribute__',\n",
       " '__getitem__',\n",
       " '__getnewargs__',\n",
       " '__getstate__',\n",
       " '__gt__',\n",
       " '__hash__',\n",
       " '__init__',\n",
       " '__init_subclass__',\n",
       " '__iter__',\n",
       " '__le__',\n",
       " '__len__',\n",
       " '__lt__',\n",
       " '__mul__',\n",
       " '__ne__',\n",
       " '__new__',\n",
       " '__reduce__',\n",
       " '__reduce_ex__',\n",
       " '__repr__',\n",
       " '__rmul__',\n",
       " '__setattr__',\n",
       " '__sizeof__',\n",
       " '__str__',\n",
       " '__subclasshook__',\n",
       " 'count',\n",
       " 'index']"
      ]
     },
     "execution_count": 10,
     "metadata": {},
     "output_type": "execute_result"
    }
   ],
   "source": [
    "dir(tuple)"
   ]
  },
  {
   "cell_type": "code",
   "execution_count": 13,
   "id": "aaf23041-57c6-4093-bf57-77b527eae323",
   "metadata": {},
   "outputs": [
    {
     "name": "stdout",
     "output_type": "stream",
     "text": [
      "(10, 20, 30, 40, 50, 30)\n",
      "2\n",
      "1\n",
      "0\n"
     ]
    }
   ],
   "source": [
    "##count():-----------------\n",
    "## ----------------------------\n",
    "t=(10,20,30,40,50,30)\n",
    "print(t)\n",
    "print(t.count(30))\n",
    "print(t.count(20))\n",
    "print(t.count(70))"
   ]
  },
  {
   "cell_type": "code",
   "execution_count": 15,
   "id": "ecfc6e8c-8c30-4981-8688-c7e1055d4045",
   "metadata": {},
   "outputs": [
    {
     "name": "stdout",
     "output_type": "stream",
     "text": [
      "(10, 20, 30, 40, 50)\n",
      "2\n"
     ]
    },
    {
     "ename": "ValueError",
     "evalue": "tuple.index(x): x not in tuple",
     "output_type": "error",
     "traceback": [
      "\u001b[1;31m---------------------------------------------------------------------------\u001b[0m",
      "\u001b[1;31mValueError\u001b[0m                                Traceback (most recent call last)",
      "Cell \u001b[1;32mIn[15], line 5\u001b[0m\n\u001b[0;32m      3\u001b[0m \u001b[38;5;28mprint\u001b[39m(t)\n\u001b[0;32m      4\u001b[0m \u001b[38;5;28mprint\u001b[39m(t\u001b[38;5;241m.\u001b[39mindex(\u001b[38;5;241m30\u001b[39m))\n\u001b[1;32m----> 5\u001b[0m \u001b[38;5;28mprint\u001b[39m(\u001b[43mt\u001b[49m\u001b[38;5;241;43m.\u001b[39;49m\u001b[43mindex\u001b[49m\u001b[43m(\u001b[49m\u001b[38;5;241;43m90\u001b[39;49m\u001b[43m)\u001b[49m)\n",
      "\u001b[1;31mValueError\u001b[0m: tuple.index(x): x not in tuple"
     ]
    }
   ],
   "source": [
    "## index():-----------------\n",
    "t=(10,20,30,40,50)\n",
    "print(t)\n",
    "print(t.index(30))\n",
    "print(t.index(90))"
   ]
  },
  {
   "cell_type": "code",
   "execution_count": 16,
   "id": "116542c8-629c-4898-9c13-2e9afb955981",
   "metadata": {},
   "outputs": [],
   "source": [
    " ## By method index(),we can find out the values is present in a index or not .\n",
    "## If the value is present for multiple times, then the index of first element will be the answer."
   ]
  },
  {
   "cell_type": "code",
   "execution_count": 17,
   "id": "246f95dd-4805-403f-b69e-584f0faa10df",
   "metadata": {},
   "outputs": [
    {
     "name": "stdout",
     "output_type": "stream",
     "text": [
      "2\n"
     ]
    }
   ],
   "source": [
    "t=(10,20,30,40,50,30)\n",
    "print(t.index(30))"
   ]
  },
  {
   "cell_type": "code",
   "execution_count": 18,
   "id": "b01a0ae6-3222-4142-931b-dfe01b6c1c38",
   "metadata": {},
   "outputs": [
    {
     "name": "stdout",
     "output_type": "stream",
     "text": [
      "(10, 20, 30, 40, 50, 60)\n",
      "210\n",
      "\n",
      "60\n",
      "10\n",
      "[10, 20, 30, 40, 50, 60]\n"
     ]
    }
   ],
   "source": [
    "## sum:---\n",
    "## MAX:---\n",
    "##  Sorted:--\n",
    "## MIN:---\n",
    "s=(10,20,30,40,50,60)\n",
    "print(s)\n",
    "res_sum=sum(s)\n",
    "print(res_sum)\n",
    "print()\n",
    "res_Max=max(s)\n",
    "print(res_Max)\n",
    "res_Min=min(s)\n",
    "print(res_Min)\n",
    "res_Sorted=sorted(s)\n",
    "print(res_Sorted)"
   ]
  },
  {
   "cell_type": "code",
   "execution_count": null,
   "id": "addee180-18db-445a-a46a-9f3a308591c9",
   "metadata": {},
   "outputs": [],
   "source": []
  }
 ],
 "metadata": {
  "kernelspec": {
   "display_name": "Python 3 (ipykernel)",
   "language": "python",
   "name": "python3"
  },
  "language_info": {
   "codemirror_mode": {
    "name": "ipython",
    "version": 3
   },
   "file_extension": ".py",
   "mimetype": "text/x-python",
   "name": "python",
   "nbconvert_exporter": "python",
   "pygments_lexer": "ipython3",
   "version": "3.11.4"
  }
 },
 "nbformat": 4,
 "nbformat_minor": 5
}
