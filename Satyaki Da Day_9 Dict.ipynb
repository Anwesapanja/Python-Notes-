{
 "cells": [
  {
   "cell_type": "code",
   "execution_count": 1,
   "id": "d8ef4870-9cbe-4a86-9ad8-4f6e339d8507",
   "metadata": {},
   "outputs": [
    {
     "name": "stdout",
     "output_type": "stream",
     "text": [
      "{}\n"
     ]
    }
   ],
   "source": [
    "a=dict()\n",
    "print(a)\n"
   ]
  },
  {
   "cell_type": "code",
   "execution_count": 2,
   "id": "0c146b75-eb79-48f2-a76f-f64a3be73a11",
   "metadata": {},
   "outputs": [
    {
     "data": {
      "text/plain": [
       "['__class__',\n",
       " '__class_getitem__',\n",
       " '__contains__',\n",
       " '__delattr__',\n",
       " '__delitem__',\n",
       " '__dir__',\n",
       " '__doc__',\n",
       " '__eq__',\n",
       " '__format__',\n",
       " '__ge__',\n",
       " '__getattribute__',\n",
       " '__getitem__',\n",
       " '__getstate__',\n",
       " '__gt__',\n",
       " '__hash__',\n",
       " '__init__',\n",
       " '__init_subclass__',\n",
       " '__ior__',\n",
       " '__iter__',\n",
       " '__le__',\n",
       " '__len__',\n",
       " '__lt__',\n",
       " '__ne__',\n",
       " '__new__',\n",
       " '__or__',\n",
       " '__reduce__',\n",
       " '__reduce_ex__',\n",
       " '__repr__',\n",
       " '__reversed__',\n",
       " '__ror__',\n",
       " '__setattr__',\n",
       " '__setitem__',\n",
       " '__sizeof__',\n",
       " '__str__',\n",
       " '__subclasshook__',\n",
       " 'clear',\n",
       " 'copy',\n",
       " 'fromkeys',\n",
       " 'get',\n",
       " 'items',\n",
       " 'keys',\n",
       " 'pop',\n",
       " 'popitem',\n",
       " 'setdefault',\n",
       " 'update',\n",
       " 'values']"
      ]
     },
     "execution_count": 2,
     "metadata": {},
     "output_type": "execute_result"
    }
   ],
   "source": [
    "dir(a)"
   ]
  },
  {
   "cell_type": "code",
   "execution_count": 7,
   "id": "2c2d1b3a-b04f-423c-9b84-67836ed2de09",
   "metadata": {},
   "outputs": [
    {
     "name": "stdout",
     "output_type": "stream",
     "text": [
      "{'Ankit': 80, 'Ayushree': 89, 'Payel': 85}\n",
      "dict_keys(['Ankit', 'Ayushree', 'Payel'])\n",
      "dict_values([80, 89, 85])\n",
      "80\n",
      "85\n"
     ]
    }
   ],
   "source": [
    "a={'Ankit':80,'Ayushree':89,'Payel':85}\n",
    "print(a)\n",
    "print(a.keys())\n",
    "print(a.values())\n",
    "print(a['Ankit']) ## key debo value pabo\n",
    "print(a['Payel'])"
   ]
  },
  {
   "cell_type": "code",
   "execution_count": 5,
   "id": "6bd6f7cc-1cc6-46b0-a5ae-32f41f86cdd6",
   "metadata": {},
   "outputs": [],
   "source": [
    "## General Syntax:------------------\n",
    "##-------------------------\n",
    "#a={'key1':value1,'key2':value2,'key3':value3,..........}\n",
    "#keys:=== ['key1','key2','key3']\n",
    "##values:== ['value1','value2','value3']\n"
   ]
  },
  {
   "cell_type": "code",
   "execution_count": 10,
   "id": "8748a548-c69b-4c85-aa92-c2ef200d646b",
   "metadata": {},
   "outputs": [
    {
     "name": "stdout",
     "output_type": "stream",
     "text": [
      "{'Ankit': 80, 'Ayushree': 89, 'Payel': 85}\n",
      "{}\n"
     ]
    }
   ],
   "source": [
    "## clear():----------------\n",
    "##---------------------------\n",
    "a={'Ankit':80,'Ayushree':89,'Payel':85}\n",
    "print(a)\n",
    "a.clear()\n",
    "print(a)"
   ]
  },
  {
   "cell_type": "code",
   "execution_count": 12,
   "id": "b20ff348-8eef-4720-92ed-c58988d9e48d",
   "metadata": {},
   "outputs": [
    {
     "name": "stdout",
     "output_type": "stream",
     "text": [
      "{'Ankit': 80, 'Ayushree': 89, 'Payel': 85}\n",
      "{'Ankit': 80, 'Ayushree': 89, 'Payel': 85}\n",
      "2432153528896\n",
      "2432153715584\n"
     ]
    }
   ],
   "source": [
    "## copy:---------------\n",
    "##----------------------\n",
    "a={'Ankit':80,'Ayushree':89,'Payel':85}\n",
    "print(a)\n",
    "b=a.copy()\n",
    "print(b)\n",
    "print(id(a))\n",
    "print(id(b))"
   ]
  },
  {
   "cell_type": "code",
   "execution_count": 13,
   "id": "759a99fd-da81-47bf-9df4-21f709283d78",
   "metadata": {},
   "outputs": [
    {
     "name": "stdout",
     "output_type": "stream",
     "text": [
      "{'Ankit': 80, 'Ayushree': 89, 'Payel': 85}\n",
      "{'Ankit': 80, 'Ayushree': 89, 'Payel': 90}\n"
     ]
    }
   ],
   "source": [
    "## How to update a value of a key:----------\n",
    "##-------------------\n",
    "a={'Ankit':80,'Ayushree':89,'Payel':85}\n",
    "print(a)\n",
    "a['Payel']=90\n",
    "print(a)"
   ]
  },
  {
   "cell_type": "code",
   "execution_count": 16,
   "id": "7a8098a0-54ce-48f1-88c1-5bc3559256d4",
   "metadata": {},
   "outputs": [
    {
     "name": "stdout",
     "output_type": "stream",
     "text": [
      "{'Ankit': 80, 'Ayushree': 89, 'Payel': 85}\n",
      "{'Ankit': 100, 'Ayushree': 100, 'Payel': 100}\n"
     ]
    }
   ],
   "source": [
    "## fromkeys: we want to every value will same of each and every key at the same time at the same function then we can use--------------\n",
    "#------------------\n",
    "## dict.fromkeys(dictionaryName,Value)\n",
    "a=a={'Ankit':80,'Ayushree':89,'Payel':85}\n",
    "print(a)\n",
    "print(dict.fromkeys(a,100))\n",
    "\n"
   ]
  },
  {
   "cell_type": "code",
   "execution_count": 19,
   "id": "b4ab17d1-3850-478d-8b47-ad4224a0db23",
   "metadata": {},
   "outputs": [
    {
     "name": "stdout",
     "output_type": "stream",
     "text": [
      "{'Ankit': 80, 'Ayushree': 89, 'Payel': 85}\n",
      "80\n",
      "80\n"
     ]
    }
   ],
   "source": [
    "## get(): using get we can find out the value of certain key--------------\n",
    "##------------------------\n",
    "a={'Ankit':80,'Ayushree':89,'Payel':85}\n",
    "print(a)\n",
    "print(a.get('Ankit'))\n",
    "print(a['Ankit'])"
   ]
  },
  {
   "cell_type": "code",
   "execution_count": 21,
   "id": "a10d90ad-d0b1-44e0-95f7-762d884fd9a6",
   "metadata": {},
   "outputs": [
    {
     "name": "stdout",
     "output_type": "stream",
     "text": [
      "{'Ankit': 80, 'Ayushree': 89, 'Payel': 85}\n",
      "dict_items([('Ankit', 80), ('Ayushree', 89), ('Payel', 85)])\n"
     ]
    }
   ],
   "source": [
    "## Items: by using items, we can find out the keys and values as pair---------------\n",
    "##------------------------------\n",
    "a={'Ankit':80,'Ayushree':89,'Payel':85}\n",
    "print(a)\n",
    "print(a.items())"
   ]
  },
  {
   "cell_type": "code",
   "execution_count": 24,
   "id": "4c0068ec-ea82-4ffd-bfcb-f90cb0d87575",
   "metadata": {},
   "outputs": [
    {
     "name": "stdout",
     "output_type": "stream",
     "text": [
      "{'Ankit': 80, 'Ayushree': 89, 'Payel': 85}\n",
      "dict_keys(['Ankit', 'Ayushree', 'Payel'])\n"
     ]
    }
   ],
   "source": [
    "a={'Ankit':80,'Ayushree':89,'Payel':85}\n",
    "print(a)\n",
    "b=a.keys()\n",
    "print(b)"
   ]
  },
  {
   "cell_type": "code",
   "execution_count": 26,
   "id": "560f8e0c-49b7-4512-ae02-ccc2914f4910",
   "metadata": {},
   "outputs": [
    {
     "name": "stdout",
     "output_type": "stream",
     "text": [
      "{'Ankit': 80, 'Ayushree': 89, 'Payel': 85}\n",
      "{'Ankit': 80, 'Ayushree': 89}\n"
     ]
    }
   ],
   "source": [
    "## pop() we can pop a particular key with their value using pop------------------\n",
    "a={'Ankit':80,'Ayushree':89,'Payel':85}\n",
    "print(a)\n",
    "a.pop('Payel')\n",
    "print(a)"
   ]
  },
  {
   "cell_type": "code",
   "execution_count": 28,
   "id": "84f804f7-fac8-4792-8deb-f15d86dc0421",
   "metadata": {},
   "outputs": [
    {
     "name": "stdout",
     "output_type": "stream",
     "text": [
      "{'Ankit': 80, 'Ayushree': 89, 'Payel': 85}\n",
      "('Payel', 85)\n",
      "{'Ankit': 80, 'Ayushree': 89}\n"
     ]
    }
   ],
   "source": [
    "## popitem(): using popitem(),we are removing a pair of key and value----------------------\n",
    "##----------------------------\n",
    "a={'Ankit':80,'Ayushree':89,'Payel':85}\n",
    "print(a)\n",
    "print(a.popitem())\n",
    "print(a)"
   ]
  },
  {
   "cell_type": "code",
   "execution_count": 30,
   "id": "f3febc55-8725-4b9f-bd6f-6caeafc00973",
   "metadata": {},
   "outputs": [
    {
     "name": "stdout",
     "output_type": "stream",
     "text": [
      "{'Ankit': 80, 'Ayushree': 89, 'Payel': 85}\n",
      "85\n",
      "{'Ankit': 80, 'Ayushree': 89, 'Payel': 85}\n"
     ]
    }
   ],
   "source": [
    "## Setdefault:---------------------------\n",
    "##--------------------------------\n",
    "a={'Ankit':80,'Ayushree':89,'Payel':85}\n",
    "print(a)\n",
    "y=a.setdefault('Payel')\n",
    "print(y)\n",
    "print(a)"
   ]
  },
  {
   "cell_type": "code",
   "execution_count": 34,
   "id": "f2e1f615-6901-41f7-9d71-51ba513b1e0e",
   "metadata": {},
   "outputs": [
    {
     "name": "stdout",
     "output_type": "stream",
     "text": [
      "{'Ankit': 80, 'Ayushree': 89, 'Payel': 85}\n",
      "{'Ankit': 90, 'Ayushree': 89, 'Payel': 85}\n",
      "{'Ankit': 90, 'Ayushree': 89, 'Payel': 85, 'Ranu': 99}\n"
     ]
    }
   ],
   "source": [
    "### update():-- to do modify\n",
    "## If key is already present,then the value will be updated\n",
    "# If the key is absent, then new pair will be updated\n",
    "a={'Ankit':80,'Ayushree':89,'Payel':85}\n",
    "print(a)\n",
    "a.update({'Ankit':90})\n",
    "print(a)\n",
    "a.update({'Ranu':99})\n",
    "print(a)"
   ]
  },
  {
   "cell_type": "code",
   "execution_count": 37,
   "id": "86aba090-d1a1-4819-ba78-c94da44f303b",
   "metadata": {},
   "outputs": [
    {
     "name": "stdout",
     "output_type": "stream",
     "text": [
      "{'Ankit': 80, 'Ayushree': 89, 'Payel': 85}\n",
      "{'Ankit': 90, 'Ayushree': 89, 'Payel': 85}\n",
      "{'Ankit': 90, 'Ayushree': 89, 'Payel': 85, 'Ranu': 99}\n"
     ]
    }
   ],
   "source": [
    " ## we can do same previous things without method\n",
    "\n",
    "a={'Ankit':80,'Ayushree':89,'Payel':85}\n",
    "print(a)\n",
    "a['Ankit']=90 ## purano key thakle update hobe\n",
    "print(a)\n",
    "a['Ranu']=99 ## notun thakle do"
   ]
  },
  {
   "cell_type": "code",
   "execution_count": null,
   "id": "12bac0bd-5393-4391-8018-c3de6321665e",
   "metadata": {},
   "outputs": [],
   "source": []
  }
 ],
 "metadata": {
  "kernelspec": {
   "display_name": "Python 3 (ipykernel)",
   "language": "python",
   "name": "python3"
  },
  "language_info": {
   "codemirror_mode": {
    "name": "ipython",
    "version": 3
   },
   "file_extension": ".py",
   "mimetype": "text/x-python",
   "name": "python",
   "nbconvert_exporter": "python",
   "pygments_lexer": "ipython3",
   "version": "3.11.4"
  }
 },
 "nbformat": 4,
 "nbformat_minor": 5
}
