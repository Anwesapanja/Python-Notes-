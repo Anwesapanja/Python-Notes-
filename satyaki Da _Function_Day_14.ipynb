{
 "cells": [
  {
   "cell_type": "code",
   "execution_count": 1,
   "id": "9c2ce049-920f-4763-a483-070298e4eaf5",
   "metadata": {},
   "outputs": [],
   "source": [
    "## Function:------------------------\n",
    "##---------------------------------------\n",
    "# in python,a funcyion is a block of reusuable code that is designed\n",
    "## to perform a specific task.\n",
    "## Function allows user to break the program into smaller units"
   ]
  },
  {
   "cell_type": "code",
   "execution_count": 3,
   "id": "0185fac1-2d1a-43ca-bb31-6e66979296a5",
   "metadata": {},
   "outputs": [],
   "source": [
    "## key features of functions in python:--\n",
    "## 1)Code reusability:-- Write the code once and use it multiple times\n",
    "## 2)Modilarity:--- Break the program into smaller units\n",
    "## Readability:--- functions make the code more readable and much organized"
   ]
  },
  {
   "cell_type": "code",
   "execution_count": 4,
   "id": "87c38342-5740-449d-be57-336416396813",
   "metadata": {},
   "outputs": [],
   "source": [
    "## Types of Functions in Python:---\n",
    "# Built-in Functions:-- Provide by python:-- Print(),sum(),eval() etc.....\n",
    "## user define functions:-- functios those are developed by user to perform task.\n"
   ]
  },
  {
   "cell_type": "code",
   "execution_count": 6,
   "id": "e88c2c34-79c9-419e-9cbf-a5e4dd4c4625",
   "metadata": {},
   "outputs": [],
   "source": [
    "## user-defined functions in python:---\n",
    "## 1. with Returntype with parameter\n",
    "## 2.with Returntype without parameter\n",
    "##3. without Returntype with parameter\n",
    "## 4. without Returntype without parameter"
   ]
  },
  {
   "cell_type": "code",
   "execution_count": 7,
   "id": "1080289b-9c4e-4a34-9f7e-0224df965d04",
   "metadata": {},
   "outputs": [],
   "source": [
    "## 1. with Returntype with parameter:---------------\n",
    "#General Syntax:---\n",
    "#def functionname(Parameterlist):\n",
    "        #return value\n",
    "#result=functionname(parameterlist)\n",
    "#------------\n",
    "#-----------------\n",
    "#---------------"
   ]
  },
  {
   "cell_type": "code",
   "execution_count": 9,
   "id": "00cd73ff-aa67-43ab-a19c-b7730eb01d1f",
   "metadata": {},
   "outputs": [
    {
     "name": "stdout",
     "output_type": "stream",
     "text": [
      "30\n"
     ]
    }
   ],
   "source": [
    "def funsum(a,b):\n",
    "    c=a+b\n",
    "    return c\n",
    "a=10\n",
    "b=20\n",
    "x=funsum(a,b)\n",
    "print(x)"
   ]
  },
  {
   "cell_type": "code",
   "execution_count": 10,
   "id": "92d5ee9b-06cd-4192-827b-4ea3fcece35f",
   "metadata": {},
   "outputs": [],
   "source": [
    "##2..without parameter with Returntype:---------\n",
    "##---------------------------------------\n",
    "##General Syntax:---\n",
    "#def functionname():\n",
    "        ##perform operation\n",
    "        #return value\n",
    "#result=functionname()\n",
    "#------------\n",
    "#-----------------"
   ]
  },
  {
   "cell_type": "code",
   "execution_count": 12,
   "id": "81521eff-8843-4945-b1ec-0c26750ba7d2",
   "metadata": {},
   "outputs": [
    {
     "name": "stdout",
     "output_type": "stream",
     "text": [
      "30\n"
     ]
    }
   ],
   "source": [
    "def summ():\n",
    "    a=10\n",
    "    b=20\n",
    "    c=a+b\n",
    "    return c\n",
    "x=summ()\n",
    "print(x)\n"
   ]
  },
  {
   "cell_type": "code",
   "execution_count": 13,
   "id": "5186ff9a-8016-4bf3-a0e1-89f671cd034b",
   "metadata": {},
   "outputs": [
    {
     "name": "stdin",
     "output_type": "stream",
     "text": [
      " 12\n",
      " 20\n"
     ]
    },
    {
     "name": "stdout",
     "output_type": "stream",
     "text": [
      "32\n"
     ]
    }
   ],
   "source": [
    "def summ():\n",
    "    a=int(input())\n",
    "    b=int(input())\n",
    "    c=a+b\n",
    "    return c\n",
    "x=summ()\n",
    "print(x)\n"
   ]
  },
  {
   "cell_type": "code",
   "execution_count": 14,
   "id": "915dc762-79e3-477f-9bae-733dcf06b8be",
   "metadata": {},
   "outputs": [],
   "source": [
    "## with parameter without Returntype:----------------\n",
    "##-----------------------------------\n",
    "##general Syntax:--\n",
    "##def functionname(parameterlist):\n",
    "        ##perform opration\n",
    "##take parameters\n",
    "##functionname(parameterlist)"
   ]
  },
  {
   "cell_type": "code",
   "execution_count": 15,
   "id": "58f68fb4-616a-4b86-a74e-c7f93c7a8bf8",
   "metadata": {},
   "outputs": [
    {
     "name": "stdin",
     "output_type": "stream",
     "text": [
      " 10\n",
      " 20\n"
     ]
    },
    {
     "name": "stdout",
     "output_type": "stream",
     "text": [
      "30\n"
     ]
    }
   ],
   "source": [
    "def summ(a,b):\n",
    "    c=a+b\n",
    "    print(c)\n",
    "x=int(input())\n",
    "y=int(input())\n",
    "summ(x,y)"
   ]
  },
  {
   "cell_type": "code",
   "execution_count": 16,
   "id": "3d1e1595-8449-47b1-8953-685e46061407",
   "metadata": {},
   "outputs": [],
   "source": [
    "##  without parameter without Returntype:--\n",
    "####def functionname():\n",
    "        ##perform opration\n",
    "##functionname()"
   ]
  },
  {
   "cell_type": "code",
   "execution_count": 17,
   "id": "517f5dca-9c6c-4cf8-8955-40ce309ce6d4",
   "metadata": {},
   "outputs": [
    {
     "name": "stdin",
     "output_type": "stream",
     "text": [
      " 10\n",
      " 20\n"
     ]
    },
    {
     "name": "stdout",
     "output_type": "stream",
     "text": [
      "30\n"
     ]
    }
   ],
   "source": [
    "def summ():\n",
    "    a=int(input())\n",
    "    b=int(input())\n",
    "    c=a+b\n",
    "    print(c)\n",
    "summ()        "
   ]
  },
  {
   "cell_type": "code",
   "execution_count": 19,
   "id": "f066a1aa-c0dd-45ac-b076-6678c80a5a5f",
   "metadata": {},
   "outputs": [
    {
     "name": "stdin",
     "output_type": "stream",
     "text": [
      " 20\n",
      " 30\n"
     ]
    },
    {
     "name": "stdout",
     "output_type": "stream",
     "text": [
      "50\n"
     ]
    }
   ],
   "source": [
    "def total():\n",
    "    a=int(input())\n",
    "    b=int(input())\n",
    "    c=a+b\n",
    "    print(c)\n",
    "total()    "
   ]
  },
  {
   "cell_type": "code",
   "execution_count": 20,
   "id": "1b3bc547-3b97-40ed-935b-84b3eb5be137",
   "metadata": {},
   "outputs": [
    {
     "name": "stdin",
     "output_type": "stream",
     "text": [
      " 20\n",
      " 20\n"
     ]
    },
    {
     "data": {
      "text/plain": [
       "40"
      ]
     },
     "execution_count": 20,
     "metadata": {},
     "output_type": "execute_result"
    }
   ],
   "source": [
    "# with parameter with return type:---\n",
    "def summ(a,b):\n",
    "    c=a+b\n",
    "    return c\n",
    "x=int(input())\n",
    "y=int(input())\n",
    "summ(x,y)"
   ]
  },
  {
   "cell_type": "code",
   "execution_count": 21,
   "id": "d34fac54-ac6c-42f9-81b1-8a623cf47936",
   "metadata": {},
   "outputs": [
    {
     "name": "stdin",
     "output_type": "stream",
     "text": [
      " 20\n",
      " 20\n"
     ]
    },
    {
     "name": "stdout",
     "output_type": "stream",
     "text": [
      "0\n"
     ]
    }
   ],
   "source": [
    "##with parameter without return type:-- sub\n",
    "def subb(a,b):\n",
    "    c=a-b\n",
    "    print(c)\n",
    "x=int(input())\n",
    "y=int(input())\n",
    "subb(x,y)"
   ]
  },
  {
   "cell_type": "code",
   "execution_count": 23,
   "id": "5078136f-0f58-4ac5-b1e9-0d568ab59d3f",
   "metadata": {},
   "outputs": [
    {
     "name": "stdin",
     "output_type": "stream",
     "text": [
      " 20\n",
      " 20\n"
     ]
    },
    {
     "name": "stdout",
     "output_type": "stream",
     "text": [
      "400\n"
     ]
    }
   ],
   "source": [
    "# without parameter with return type:---mul\n",
    "def mul():\n",
    "    a=int(input())\n",
    "    b=int(input())\n",
    "    c=a*b\n",
    "    return c\n",
    "x=mul()\n",
    "print(x)"
   ]
  },
  {
   "cell_type": "code",
   "execution_count": 25,
   "id": "98df5e53-0ad5-4094-9284-b4bafedbe0f3",
   "metadata": {},
   "outputs": [
    {
     "name": "stdin",
     "output_type": "stream",
     "text": [
      " 200\n",
      " 50\n"
     ]
    },
    {
     "name": "stdout",
     "output_type": "stream",
     "text": [
      "4\n"
     ]
    }
   ],
   "source": [
    "##without parameter without return type:--Div\n",
    "def Divv():\n",
    "    a=int(input())\n",
    "    b=int(input())\n",
    "    c=(a//b)\n",
    "    print(c)\n",
    "Divv()"
   ]
  },
  {
   "cell_type": "code",
   "execution_count": 28,
   "id": "38a511b2-b87f-40bc-91dd-2002ddce81df",
   "metadata": {},
   "outputs": [
    {
     "name": "stdout",
     "output_type": "stream",
     "text": [
      "30\n",
      "0\n"
     ]
    },
    {
     "name": "stdin",
     "output_type": "stream",
     "text": [
      " 20\n",
      " 20\n"
     ]
    },
    {
     "name": "stdout",
     "output_type": "stream",
     "text": [
      "400\n"
     ]
    },
    {
     "name": "stdin",
     "output_type": "stream",
     "text": [
      " 200\n",
      " 50\n"
     ]
    },
    {
     "name": "stdout",
     "output_type": "stream",
     "text": [
      "4\n"
     ]
    }
   ],
   "source": [
    "def summ(a,b):\n",
    "    c=a+b\n",
    "    return c\n",
    "def subb(a,b):\n",
    "    c=a-b\n",
    "    print(c)\n",
    "def mul():\n",
    "    a=int(input())\n",
    "    b=int(input())\n",
    "    c=a*b\n",
    "    return c\n",
    "def Divv():\n",
    "    a=int(input())\n",
    "    b=int(input())\n",
    "    c=(a//b)\n",
    "    print(c)\n",
    "x=summ(10,20)\n",
    "print(x)\n",
    "subb(20,20)\n",
    "x=mul()\n",
    "print(x)\n",
    "Divv()\n",
    "    "
   ]
  },
  {
   "cell_type": "code",
   "execution_count": null,
   "id": "e3cbd555-2660-4298-b355-98291d3f0aa3",
   "metadata": {},
   "outputs": [],
   "source": []
  }
 ],
 "metadata": {
  "kernelspec": {
   "display_name": "Python 3 (ipykernel)",
   "language": "python",
   "name": "python3"
  },
  "language_info": {
   "codemirror_mode": {
    "name": "ipython",
    "version": 3
   },
   "file_extension": ".py",
   "mimetype": "text/x-python",
   "name": "python",
   "nbconvert_exporter": "python",
   "pygments_lexer": "ipython3",
   "version": "3.11.4"
  }
 },
 "nbformat": 4,
 "nbformat_minor": 5
}
