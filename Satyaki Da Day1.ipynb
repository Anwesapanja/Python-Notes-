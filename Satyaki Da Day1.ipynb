{
 "cells": [
  {
   "cell_type": "code",
   "execution_count": 1,
   "id": "58f28ad5-e1e3-4faf-af9d-334637bdee29",
   "metadata": {},
   "outputs": [
    {
     "name": "stdout",
     "output_type": "stream",
     "text": [
      "Ranu\n"
     ]
    }
   ],
   "source": [
    "print(\"Ranu\")"
   ]
  },
  {
   "cell_type": "markdown",
   "id": "75511f69-420b-4ae5-95ec-5c95b4a66752",
   "metadata": {},
   "source": [
    "this is our first program"
   ]
  },
  {
   "cell_type": "code",
   "execution_count": 2,
   "id": "b39f3b3c-c5ad-4d05-b74f-f89142b85f10",
   "metadata": {},
   "outputs": [],
   "source": [
    "#For creating Headline:--- "
   ]
  },
  {
   "cell_type": "markdown",
   "id": "c1e22f21-821d-4765-b1fc-0d17b576c3dc",
   "metadata": {},
   "source": [
    "# select the cell and press 1"
   ]
  },
  {
   "cell_type": "markdown",
   "id": "8f7606c8-4890-426d-8b9b-5be36f649a19",
   "metadata": {},
   "source": [
    "## select the cell and press 2"
   ]
  },
  {
   "cell_type": "markdown",
   "id": "06f3457d-da86-46a5-9233-0e68bda65a42",
   "metadata": {},
   "source": [
    "**Classroom**"
   ]
  },
  {
   "cell_type": "markdown",
   "id": "2188af41-36a5-4164-976e-3e3e03a4fc2f",
   "metadata": {},
   "source": [
    "**First Programming**"
   ]
  },
  {
   "cell_type": "code",
   "execution_count": 3,
   "id": "36098c20-7b0b-4a78-9da6-0cd457c98f04",
   "metadata": {},
   "outputs": [
    {
     "name": "stdout",
     "output_type": "stream",
     "text": [
      "classroom\n",
      "classroom\n"
     ]
    }
   ],
   "source": [
    "print(\"classroom\")\n",
    "print('classroom')"
   ]
  },
  {
   "cell_type": "markdown",
   "id": "e487b29b-10a3-495b-8c1a-1736df98519f",
   "metadata": {},
   "source": [
    "**In python there is no problem regarding Datatype**"
   ]
  },
  {
   "cell_type": "code",
   "execution_count": 4,
   "id": "814c936b-aeef-4658-b474-e75bc37cc741",
   "metadata": {},
   "outputs": [
    {
     "name": "stdout",
     "output_type": "stream",
     "text": [
      "<class 'int'>\n",
      "<class 'float'>\n"
     ]
    }
   ],
   "source": [
    "a=12\n",
    "print(type(a))\n",
    "b=11.55\n",
    "print(type(b))"
   ]
  },
  {
   "cell_type": "code",
   "execution_count": 5,
   "id": "45aead4c-5e04-46e0-9f3a-5504a95dc589",
   "metadata": {},
   "outputs": [
    {
     "name": "stdout",
     "output_type": "stream",
     "text": [
      "(3+4j)\n",
      "<class 'complex'>\n"
     ]
    }
   ],
   "source": [
    "x=3+4j\n",
    "print(x)\n",
    "print(type(x))"
   ]
  },
  {
   "cell_type": "code",
   "execution_count": 2,
   "id": "1db52c26-2221-42dc-a8b5-a06310efcb94",
   "metadata": {},
   "outputs": [
    {
     "name": "stdin",
     "output_type": "stream",
     "text": [
      " Piti\n"
     ]
    },
    {
     "name": "stdout",
     "output_type": "stream",
     "text": [
      "Piti\n"
     ]
    }
   ],
   "source": [
    "x=input()\n",
    "print(x)"
   ]
  },
  {
   "cell_type": "code",
   "execution_count": 3,
   "id": "92346ba3-5583-4d8c-9afe-84114c809d70",
   "metadata": {},
   "outputs": [
    {
     "name": "stdin",
     "output_type": "stream",
     "text": [
      " Titli\n"
     ]
    },
    {
     "name": "stdout",
     "output_type": "stream",
     "text": [
      "Titli\n"
     ]
    }
   ],
   "source": [
    "y=input()\n",
    "print(y)"
   ]
  },
  {
   "cell_type": "markdown",
   "id": "a958d828-ad2f-44e9-a7ae-0981010d8b4c",
   "metadata": {},
   "source": [
    " input(): here user input as a string"
   ]
  },
  {
   "cell_type": "markdown",
   "id": "33f5b40f-0c99-440a-abe5-04a757b8aeac",
   "metadata": {},
   "source": [
    "now getting input :--- as int"
   ]
  },
  {
   "cell_type": "code",
   "execution_count": 5,
   "id": "ee1067ab-b0e0-411a-b2be-efaf2bdb8d62",
   "metadata": {},
   "outputs": [
    {
     "name": "stdin",
     "output_type": "stream",
     "text": [
      " 10\n"
     ]
    },
    {
     "name": "stdout",
     "output_type": "stream",
     "text": [
      "10\n",
      "<class 'int'>\n"
     ]
    }
   ],
   "source": [
    "num=int(input())\n",
    "print(num)\n",
    "print(type(num))"
   ]
  },
  {
   "cell_type": "code",
   "execution_count": 6,
   "id": "800eba46-ea17-4fec-871c-8281a5296e47",
   "metadata": {},
   "outputs": [
    {
     "name": "stdin",
     "output_type": "stream",
     "text": [
      " 11\n"
     ]
    },
    {
     "name": "stdout",
     "output_type": "stream",
     "text": [
      "11.0\n",
      "<class 'float'>\n"
     ]
    }
   ],
   "source": [
    "num=float(input())\n",
    "print(num)\n",
    "print(type(num))"
   ]
  },
  {
   "cell_type": "code",
   "execution_count": 8,
   "id": "85ffcf8f-b0ad-45fc-a70c-986576a46592",
   "metadata": {},
   "outputs": [
    {
     "name": "stdin",
     "output_type": "stream",
     "text": [
      " 2.5\n"
     ]
    },
    {
     "name": "stdout",
     "output_type": "stream",
     "text": [
      "2.5\n",
      "<class 'float'>\n"
     ]
    }
   ],
   "source": [
    "num=eval(input())\n",
    "print(num)\n",
    "print(type(num))"
   ]
  },
  {
   "cell_type": "code",
   "execution_count": 9,
   "id": "a5f0e50a-a172-4d8f-8dd1-0a6dbe8adc8a",
   "metadata": {},
   "outputs": [
    {
     "name": "stdin",
     "output_type": "stream",
     "text": [
      " 2.444\n"
     ]
    },
    {
     "name": "stdout",
     "output_type": "stream",
     "text": [
      "2.444\n",
      "<class 'float'>\n"
     ]
    }
   ],
   "source": [
    "num=eval(input())\n",
    "print(num)\n",
    "print(type(num))"
   ]
  },
  {
   "cell_type": "markdown",
   "id": "e99e643d-6013-4449-bb18-875d55ce7fad",
   "metadata": {},
   "source": [
    "eval means:--- Evaluation"
   ]
  },
  {
   "cell_type": "markdown",
   "id": "d8b59f65-8bac-4e41-a9fd-9049fb0192c4",
   "metadata": {},
   "source": [
    "It evaluates the expression"
   ]
  },
  {
   "cell_type": "code",
   "execution_count": 12,
   "id": "65f07e5c-dd08-4840-938f-58241b8c173a",
   "metadata": {},
   "outputs": [
    {
     "name": "stdout",
     "output_type": "stream",
     "text": [
      "8.0\n"
     ]
    }
   ],
   "source": [
    "exp=\"2*(6/3)+4\"\n",
    "print (eval(exp))"
   ]
  },
  {
   "cell_type": "code",
   "execution_count": 14,
   "id": "d917c961-d5aa-4c60-a189-bd6e4881a745",
   "metadata": {},
   "outputs": [
    {
     "name": "stdout",
     "output_type": "stream",
     "text": [
      "10.666666666666666\n"
     ]
    }
   ],
   "source": [
    "exp1=\"2+(8/3)+6\"\n",
    "print (eval(exp1))"
   ]
  },
  {
   "cell_type": "code",
   "execution_count": 15,
   "id": "e7b5f1d1-74d8-45da-8b18-ad56801a089e",
   "metadata": {},
   "outputs": [
    {
     "name": "stdin",
     "output_type": "stream",
     "text": [
      " \"Ranu\"\n"
     ]
    },
    {
     "name": "stdout",
     "output_type": "stream",
     "text": [
      "Ranu\n",
      "<class 'str'>\n"
     ]
    }
   ],
   "source": [
    "num=eval(input())\n",
    "print(num)\n",
    "print(type(num))"
   ]
  },
  {
   "cell_type": "code",
   "execution_count": 18,
   "id": "e6c14510-e5f7-4aa6-931d-5d6eea0f9d16",
   "metadata": {},
   "outputs": [
    {
     "name": "stdin",
     "output_type": "stream",
     "text": [
      " 2\n"
     ]
    },
    {
     "name": "stdout",
     "output_type": "stream",
     "text": [
      "2\n",
      "<class 'int'>\n"
     ]
    }
   ],
   "source": [
    "num=eval(input())\n",
    "print(num)\n",
    "print(type(num))"
   ]
  },
  {
   "cell_type": "code",
   "execution_count": null,
   "id": "643c8e7e-9d56-4f57-9724-4ab0b01f3361",
   "metadata": {},
   "outputs": [],
   "source": []
  }
 ],
 "metadata": {
  "kernelspec": {
   "display_name": "Python 3 (ipykernel)",
   "language": "python",
   "name": "python3"
  },
  "language_info": {
   "codemirror_mode": {
    "name": "ipython",
    "version": 3
   },
   "file_extension": ".py",
   "mimetype": "text/x-python",
   "name": "python",
   "nbconvert_exporter": "python",
   "pygments_lexer": "ipython3",
   "version": "3.11.4"
  }
 },
 "nbformat": 4,
 "nbformat_minor": 5
}
