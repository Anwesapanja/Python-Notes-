{
 "cells": [
  {
   "cell_type": "code",
   "execution_count": 1,
   "id": "279bf2c1-b0b5-410a-bc1c-38a99f1de286",
   "metadata": {},
   "outputs": [
    {
     "name": "stdout",
     "output_type": "stream",
     "text": [
      "He said I'm in school\n"
     ]
    }
   ],
   "source": [
    "x=\"He said I\\'m in school\"\n",
    "print(x)"
   ]
  },
  {
   "cell_type": "code",
   "execution_count": 2,
   "id": "9edcf84c-7bba-4da8-9a1c-94ba9b5b1de2",
   "metadata": {},
   "outputs": [
    {
     "name": "stdout",
     "output_type": "stream",
     "text": [
      "He said \"I am in school\"\n"
     ]
    }
   ],
   "source": [
    "X=\"He said \\\"I am in school\\\"\"\n",
    "print(X)"
   ]
  },
  {
   "cell_type": "markdown",
   "id": "86c00833-8e3c-4c67-a23f-d05a3c5e38fd",
   "metadata": {},
   "source": [
    "\"He said \"I am in School\"\"\n",
    "         ^ It will be considered as end statement tp Python.\n",
    "         Solution:--- We have to make it printable charater. [Solution: \\\"]"
   ]
  },
  {
   "cell_type": "code",
   "execution_count": 3,
   "id": "9de343c4-23a1-4454-ba96-071a995e7814",
   "metadata": {},
   "outputs": [
    {
     "name": "stdout",
     "output_type": "stream",
     "text": [
      "a \\ t\n",
      "a\\\\t\n"
     ]
    }
   ],
   "source": [
    "x=\"a \\\\ t\"\n",
    "print(x)\n",
    "x=\"a\\\\\\\\t\"\n",
    "print(x)"
   ]
  },
  {
   "cell_type": "code",
   "execution_count": 4,
   "id": "f51314ea-f40a-4cae-9110-03dbc3928e65",
   "metadata": {},
   "outputs": [
    {
     "ename": "SyntaxError",
     "evalue": "unterminated string literal (detected at line 1) (386570942.py, line 1)",
     "output_type": "error",
     "traceback": [
      "\u001b[1;36m  Cell \u001b[1;32mIn[4], line 1\u001b[1;36m\u001b[0m\n\u001b[1;33m    x=\"ab gh\\\"\u001b[0m\n\u001b[1;37m      ^\u001b[0m\n\u001b[1;31mSyntaxError\u001b[0m\u001b[1;31m:\u001b[0m unterminated string literal (detected at line 1)\n"
     ]
    }
   ],
   "source": [
    "x=\"ab gh\\\"\n",
    "print(x)"
   ]
  },
  {
   "cell_type": "code",
   "execution_count": 5,
   "id": "464e36d1-7c58-468b-a9d9-c40ad8ebf9c8",
   "metadata": {},
   "outputs": [],
   "source": [
    "# Here,\n",
    "#x=\"ab gh\\\"\n",
    "          #^ here \\\" ==>> It stands for printable \", Not ending quotation \n",
    "\n",
    "#print(x)"
   ]
  },
  {
   "cell_type": "code",
   "execution_count": 6,
   "id": "20d2cbf4-edf2-4b4e-9f38-8605476a8c16",
   "metadata": {},
   "outputs": [
    {
     "name": "stdout",
     "output_type": "stream",
     "text": [
      "ab gh\\\n"
     ]
    }
   ],
   "source": [
    "x=\"ab gh\\\\\"\n",
    "print(x)\n",
    "## jodi chaii last aa '\\' dite chai...\n",
    "#we need to give '\\\\' double quotation "
   ]
  },
  {
   "cell_type": "code",
   "execution_count": 7,
   "id": "c08d7412-cba8-4bce-828a-0e27bdb03309",
   "metadata": {},
   "outputs": [
    {
     "name": "stdout",
     "output_type": "stream",
     "text": [
      "a\t\n"
     ]
    }
   ],
   "source": [
    "x=\"a\\t\"\n",
    "print(x)"
   ]
  },
  {
   "cell_type": "code",
   "execution_count": 8,
   "id": "9d0fd0e5-1a62-4d7f-a85e-5b43e9799a79",
   "metadata": {},
   "outputs": [],
   "source": [
    "### Here \\t represent tab"
   ]
  },
  {
   "cell_type": "code",
   "execution_count": 9,
   "id": "0639a188-5626-4703-ae9e-bb0a3c98e94b",
   "metadata": {},
   "outputs": [
    {
     "name": "stdout",
     "output_type": "stream",
     "text": [
      "a\n",
      "b\n"
     ]
    }
   ],
   "source": [
    "x=\"a\\nb\"\n",
    "print(x)"
   ]
  },
  {
   "cell_type": "code",
   "execution_count": 10,
   "id": "edb77b76-0325-4d5c-b6fd-b4411b1a74b2",
   "metadata": {},
   "outputs": [],
   "source": [
    "## \\n ===> newline\n",
    "#\\\\ ===> \\\n",
    "# \\\\\\\\==>\\\\\n",
    "#\\ ====> \\\n",
    "# \\\\==>\\\n",
    "#\\\\\\==>\\\\\n",
    "#\\\" ==> printable\n",
    "#\\'===>printable"
   ]
  },
  {
   "cell_type": "code",
   "execution_count": 11,
   "id": "29e02d4f-f4e2-44bc-8a77-54c7d999bac8",
   "metadata": {},
   "outputs": [
    {
     "name": "stdout",
     "output_type": "stream",
     "text": [
      "he said 'He was good human'\n"
     ]
    }
   ],
   "source": [
    "x= \"he said 'He was good human'\"\n",
    "print(x)"
   ]
  },
  {
   "cell_type": "code",
   "execution_count": 12,
   "id": "4780e68f-a0f0-40b6-8834-9067e7d43ba1",
   "metadata": {},
   "outputs": [
    {
     "name": "stdout",
     "output_type": "stream",
     "text": [
      "he saod \"he wads good human\" \n"
     ]
    }
   ],
   "source": [
    "x='he said \"he wads good human\" '\n",
    "print(x)"
   ]
  },
  {
   "cell_type": "code",
   "execution_count": 13,
   "id": "e81ff8de-3cb3-4eed-baab-de981ad8f38c",
   "metadata": {},
   "outputs": [
    {
     "name": "stdout",
     "output_type": "stream",
     "text": [
      "a\n",
      "b\n",
      "c\n"
     ]
    }
   ],
   "source": [
    "x='a\\nb\\nc'\n",
    "print(x)"
   ]
  },
  {
   "cell_type": "markdown",
   "id": "04180dba-5b31-41d8-9d08-19a677e5df8b",
   "metadata": {},
   "source": [
    "# 👁️Bit Manipulation"
   ]
  },
  {
   "cell_type": "markdown",
   "id": "32442efd-8514-412e-80a4-82d023451880",
   "metadata": {},
   "source": [
    "## Operators in Python"
   ]
  },
  {
   "cell_type": "code",
   "execution_count": 14,
   "id": "0bad835f-28bc-458b-98f7-330feded48c4",
   "metadata": {},
   "outputs": [],
   "source": [
    "#Arithmetic Operator :--- +, - ,*,/,//,**.%\n",
    "# Relational Operator:---- ==,!=,<,>,<=,>=\n",
    "#Logical Operator :---- and, or ,not\n",
    "#BItsiwe Operator: ---Bitwise And(&), Bitwise or(|),Bitwisr Xor(^),`Not,Left Shift(<<), \n",
    "                     #Right Shift(>>)\n",
    "#Assignment Operator: --- =+,=-,%=,*= \\\\\n",
    "#Identical opreaton: ---is, is not\n",
    "#Memership operator:--- in ,not in"
   ]
  },
  {
   "cell_type": "markdown",
   "id": "5ad5aed6-eab9-4e0f-8c09-5f9fade84a2c",
   "metadata": {},
   "source": [
    " Arithmatic Operator\n",
    " "
   ]
  },
  {
   "cell_type": "code",
   "execution_count": 15,
   "id": "fdddabc5-c531-4978-afe0-e880e336b406",
   "metadata": {},
   "outputs": [
    {
     "name": "stdout",
     "output_type": "stream",
     "text": [
      "31\n",
      "19\n",
      "150\n",
      "4.166666666666667\n",
      "4\n",
      "1\n"
     ]
    }
   ],
   "source": [
    "a=25 \n",
    "b=6\n",
    "print(a+b)\n",
    "print(a-b)\n",
    "print(a*b)\n",
    "print(a/b) ### Float Division\n",
    "print(a//b) ### Integer Division\n",
    "print(a%b)"
   ]
  },
  {
   "cell_type": "markdown",
   "id": "6b620ba1-9804-4048-89bc-f564b913986e",
   "metadata": {},
   "source": [
    "Relation Operator"
   ]
  },
  {
   "cell_type": "code",
   "execution_count": 17,
   "id": "7dc7a5ac-6809-4790-afea-1444bfd142a2",
   "metadata": {},
   "outputs": [
    {
     "name": "stdout",
     "output_type": "stream",
     "text": [
      "True\n",
      "False\n",
      "False\n",
      "True\n",
      "False\n",
      "True\n"
     ]
    }
   ],
   "source": [
    "a=20\n",
    "b=10\n",
    "c=20\n",
    "print(a>b)\n",
    "print(a<b)\n",
    "print(a<=b)\n",
    "print(a>=b)\n",
    "print(a==b)\n",
    "print(a!=b)\n",
    "### In python If we use relation operator the output will be True/False"
   ]
  },
  {
   "cell_type": "markdown",
   "id": "36175dd8-9ce0-4205-95b6-a511ac6eea84",
   "metadata": {},
   "source": [
    "Logical Operator"
   ]
  },
  {
   "cell_type": "code",
   "execution_count": 18,
   "id": "f9dee8a8-24ea-464d-9649-8b99400951f5",
   "metadata": {},
   "outputs": [],
   "source": [
    "#Bitwise And(&),\n",
    "#Bitwise Or(|)\n",
    "#Bitwise XOR(^)\n",
    "#~(Not)\n",
    "#Left Shift(<<)\n",
    "#Right Shift(>>)"
   ]
  },
  {
   "cell_type": "code",
   "execution_count": 19,
   "id": "0da5e616-5b06-43ec-af1d-b0a29973d005",
   "metadata": {},
   "outputs": [
    {
     "name": "stdout",
     "output_type": "stream",
     "text": [
      "5\n",
      "7\n",
      "2\n",
      "-6\n",
      "20\n",
      "1\n"
     ]
    }
   ],
   "source": [
    "x=5\n",
    "y=7\n",
    "print(x&y)\n",
    "print(x|y)\n",
    "print(x^y)\n",
    "print(~x)\n",
    "print(x<<2)\n",
    "print(x>>2)"
   ]
  },
  {
   "cell_type": "code",
   "execution_count": 20,
   "id": "d88ab46c-c92e-4ffe-bcda-0eb415e0afd3",
   "metadata": {},
   "outputs": [],
   "source": [
    "## Convert ur number decimal to Binary\n",
    "## Bitwise(&):---  If one is 0 the output will be 0\n",
    "## Bitwise(\\:---  If any one is 1 the output will be 1\n",
    "## Bitwise(XOR):-- Same input 0 and opposite input 1\n",
    "## Bitwise Not(~):--- y=(~x)\n",
    "                    #  y=(-x-1)=== (-5-1)=-6\n",
    "#-------------------------------------------\n",
    "## Shift Operator:--- 1) left Shift(<<) [Multiplying by 2]\n",
    "##                    2)Right Shift(>>) [Divided by 2]\n",
    "## x=7\n",
    "## x>>2 [2 bar bhag korte hobe]\n",
    "## 1.x=x//2=(7//2)=3\n",
    "## 2.x=x//2=(3//2)=1\n",
    "##   print(7>>2) =1\n",
    "# -------------------\n",
    "\n",
    "# 28>>4\n",
    "# 28//2^4== 1\n",
    "# 1. x=x//2=28//2=14\n",
    "# 2. x=x//2=14//2=7\n",
    "# 3. x=x//2=7//2=3\n",
    "# 4. x=x//2=3//2=1\n",
    "\n",
    "## left Shift:----\n",
    "##-------------------------\n",
    "# x=5\n",
    "#print(x<<3)\n",
    "## maneee 3 bar gun hobe\n",
    "# 1. x=x*2=5*2=10\n",
    "# 2. x=x*2=10*2=20\n",
    "# 3. x=x*2=2*2=40\n",
    "# means:--- 5*2^3=5x8=40\n",
    "\n",
    "#x=2\n",
    "#y=3\n",
    "##x>>y===== 2//2^3==2//8=0\n",
    "## x<<y===== 2*2^3=2*8=16\n"
   ]
  },
  {
   "cell_type": "markdown",
   "id": "5766b00e-c0fa-43f2-b0f8-85bde8135bd1",
   "metadata": {},
   "source": [
    "Assignment operator"
   ]
  },
  {
   "cell_type": "code",
   "execution_count": 1,
   "id": "4a1061d0-3a24-4ed5-8f44-b8ba20e61992",
   "metadata": {},
   "outputs": [
    {
     "name": "stdout",
     "output_type": "stream",
     "text": [
      "7\n",
      "3\n",
      "10\n",
      "2.5\n",
      "2\n",
      "1\n"
     ]
    }
   ],
   "source": [
    "x=5\n",
    "x+=2\n",
    "print(x)\n",
    "x=5\n",
    "x-=2\n",
    "print(x)\n",
    "x=5\n",
    "x*=2\n",
    "print(x)\n",
    "x=5\n",
    "x/=2\n",
    "print(x)\n",
    "x=5\n",
    "x//=2\n",
    "print(x)\n",
    "x=5\n",
    "x%=2\n",
    "print(x)\n",
    "#### x+=2\n",
    "## x=x+2\n",
    "## x=x%2\n",
    "## x=5%2=1\n",
    "\n"
   ]
  },
  {
   "cell_type": "markdown",
   "id": "9dd12a64-886b-45e0-861f-678cf228b2de",
   "metadata": {},
   "source": [
    "Identity Operator is, is not"
   ]
  },
  {
   "cell_type": "code",
   "execution_count": 3,
   "id": "ab5abfe6-e465-4add-8d95-eb7c8f280f61",
   "metadata": {},
   "outputs": [
    {
     "name": "stdout",
     "output_type": "stream",
     "text": [
      "12\n",
      "12\n",
      "True\n",
      "False\n",
      "True\n"
     ]
    }
   ],
   "source": [
    "x=12\n",
    "y=x\n",
    "z=13\n",
    "print(x)\n",
    "print(y)\n",
    "print(x is y)\n",
    "print(x is z)\n",
    "print(x is not z)\n"
   ]
  },
  {
   "cell_type": "markdown",
   "id": "1ef4b41a-32b9-46d2-94dd-c1b657d61da3",
   "metadata": {},
   "source": [
    " Membership Operator in,not in"
   ]
  },
  {
   "cell_type": "code",
   "execution_count": 5,
   "id": "0355a2fd-349f-4408-a1a4-e989e619b482",
   "metadata": {},
   "outputs": [
    {
     "name": "stdout",
     "output_type": "stream",
     "text": [
      "[10, 20]\n",
      "True\n",
      "False\n"
     ]
    }
   ],
   "source": [
    "x=[10,20]\n",
    "print(x)\n",
    "print(10 in x)\n",
    "print(90 in x)"
   ]
  },
  {
   "cell_type": "code",
   "execution_count": 6,
   "id": "da92e56e-5532-4b9a-a2b9-2fd9a8da1215",
   "metadata": {},
   "outputs": [
    {
     "ename": "ImportError",
     "evalue": "Traceback (most recent call last):\n  File \"C:\\Users\\Anwesa Panja\\AppData\\Local\\Programs\\Python\\Python311\\Lib\\site-packages\\tensorflow\\python\\pywrap_tensorflow.py\", line 73, in <module>\n    from tensorflow.python._pywrap_tensorflow_internal import *\nImportError: DLL load failed while importing _pywrap_tensorflow_internal: A dynamic link library (DLL) initialization routine failed.\n\n\nFailed to load the native TensorFlow runtime.\nSee https://www.tensorflow.org/install/errors for some common causes and solutions.\nIf you need help, create an issue at https://github.com/tensorflow/tensorflow/issues and include the entire stack trace above this error message.",
     "output_type": "error",
     "traceback": [
      "\u001b[1;31m---------------------------------------------------------------------------\u001b[0m",
      "\u001b[1;31mImportError\u001b[0m                               Traceback (most recent call last)",
      "File \u001b[1;32m~\\AppData\\Local\\Programs\\Python\\Python311\\Lib\\site-packages\\tensorflow\\python\\pywrap_tensorflow.py:73\u001b[0m\n\u001b[0;32m     72\u001b[0m \u001b[38;5;28;01mtry\u001b[39;00m:\n\u001b[1;32m---> 73\u001b[0m   \u001b[38;5;28;01mfrom\u001b[39;00m \u001b[38;5;21;01mtensorflow\u001b[39;00m\u001b[38;5;21;01m.\u001b[39;00m\u001b[38;5;21;01mpython\u001b[39;00m\u001b[38;5;21;01m.\u001b[39;00m\u001b[38;5;21;01m_pywrap_tensorflow_internal\u001b[39;00m \u001b[38;5;28;01mimport\u001b[39;00m \u001b[38;5;241m*\u001b[39m\n\u001b[0;32m     74\u001b[0m \u001b[38;5;66;03m# This try catch logic is because there is no bazel equivalent for py_extension.\u001b[39;00m\n\u001b[0;32m     75\u001b[0m \u001b[38;5;66;03m# Externally in opensource we must enable exceptions to load the shared object\u001b[39;00m\n\u001b[0;32m     76\u001b[0m \u001b[38;5;66;03m# by exposing the PyInit symbols with pybind. This error will only be\u001b[39;00m\n\u001b[0;32m     77\u001b[0m \u001b[38;5;66;03m# caught internally or if someone changes the name of the target _pywrap_tensorflow_internal.\u001b[39;00m\n\u001b[0;32m     78\u001b[0m \n\u001b[0;32m     79\u001b[0m \u001b[38;5;66;03m# This logic is used in other internal projects using py_extension.\u001b[39;00m\n",
      "\u001b[1;31mImportError\u001b[0m: DLL load failed while importing _pywrap_tensorflow_internal: A dynamic link library (DLL) initialization routine failed.",
      "\nDuring handling of the above exception, another exception occurred:\n",
      "\u001b[1;31mImportError\u001b[0m                               Traceback (most recent call last)",
      "Cell \u001b[1;32mIn[6], line 1\u001b[0m\n\u001b[1;32m----> 1\u001b[0m \u001b[38;5;28;01mimport\u001b[39;00m \u001b[38;5;21;01mtensorflow\u001b[39;00m \u001b[38;5;28;01mas\u001b[39;00m \u001b[38;5;21;01mtf\u001b[39;00m\n",
      "File \u001b[1;32m~\\AppData\\Local\\Programs\\Python\\Python311\\Lib\\site-packages\\tensorflow\\__init__.py:40\u001b[0m\n\u001b[0;32m     37\u001b[0m _os\u001b[38;5;241m.\u001b[39menviron\u001b[38;5;241m.\u001b[39msetdefault(\u001b[38;5;124m\"\u001b[39m\u001b[38;5;124mENABLE_RUNTIME_UPTIME_TELEMETRY\u001b[39m\u001b[38;5;124m\"\u001b[39m, \u001b[38;5;124m\"\u001b[39m\u001b[38;5;124m1\u001b[39m\u001b[38;5;124m\"\u001b[39m)\n\u001b[0;32m     39\u001b[0m \u001b[38;5;66;03m# Do not remove this line; See https://github.com/tensorflow/tensorflow/issues/42596\u001b[39;00m\n\u001b[1;32m---> 40\u001b[0m \u001b[38;5;28;01mfrom\u001b[39;00m \u001b[38;5;21;01mtensorflow\u001b[39;00m\u001b[38;5;21;01m.\u001b[39;00m\u001b[38;5;21;01mpython\u001b[39;00m \u001b[38;5;28;01mimport\u001b[39;00m pywrap_tensorflow \u001b[38;5;28;01mas\u001b[39;00m _pywrap_tensorflow  \u001b[38;5;66;03m# pylint: disable=unused-import\u001b[39;00m\n\u001b[0;32m     41\u001b[0m \u001b[38;5;28;01mfrom\u001b[39;00m \u001b[38;5;21;01mtensorflow\u001b[39;00m\u001b[38;5;21;01m.\u001b[39;00m\u001b[38;5;21;01mpython\u001b[39;00m\u001b[38;5;21;01m.\u001b[39;00m\u001b[38;5;21;01mtools\u001b[39;00m \u001b[38;5;28;01mimport\u001b[39;00m module_util \u001b[38;5;28;01mas\u001b[39;00m _module_util\n\u001b[0;32m     42\u001b[0m \u001b[38;5;28;01mfrom\u001b[39;00m \u001b[38;5;21;01mtensorflow\u001b[39;00m\u001b[38;5;21;01m.\u001b[39;00m\u001b[38;5;21;01mpython\u001b[39;00m\u001b[38;5;21;01m.\u001b[39;00m\u001b[38;5;21;01mutil\u001b[39;00m\u001b[38;5;21;01m.\u001b[39;00m\u001b[38;5;21;01mlazy_loader\u001b[39;00m \u001b[38;5;28;01mimport\u001b[39;00m KerasLazyLoader \u001b[38;5;28;01mas\u001b[39;00m _KerasLazyLoader\n",
      "File \u001b[1;32m~\\AppData\\Local\\Programs\\Python\\Python311\\Lib\\site-packages\\tensorflow\\python\\pywrap_tensorflow.py:88\u001b[0m\n\u001b[0;32m     86\u001b[0m     sys\u001b[38;5;241m.\u001b[39msetdlopenflags(_default_dlopen_flags)\n\u001b[0;32m     87\u001b[0m \u001b[38;5;28;01mexcept\u001b[39;00m \u001b[38;5;167;01mImportError\u001b[39;00m:\n\u001b[1;32m---> 88\u001b[0m   \u001b[38;5;28;01mraise\u001b[39;00m \u001b[38;5;167;01mImportError\u001b[39;00m(\n\u001b[0;32m     89\u001b[0m       \u001b[38;5;124mf\u001b[39m\u001b[38;5;124m'\u001b[39m\u001b[38;5;132;01m{\u001b[39;00mtraceback\u001b[38;5;241m.\u001b[39mformat_exc()\u001b[38;5;132;01m}\u001b[39;00m\u001b[38;5;124m'\u001b[39m\n\u001b[0;32m     90\u001b[0m       \u001b[38;5;124mf\u001b[39m\u001b[38;5;124m'\u001b[39m\u001b[38;5;130;01m\\n\u001b[39;00m\u001b[38;5;130;01m\\n\u001b[39;00m\u001b[38;5;124mFailed to load the native TensorFlow runtime.\u001b[39m\u001b[38;5;130;01m\\n\u001b[39;00m\u001b[38;5;124m'\u001b[39m\n\u001b[0;32m     91\u001b[0m       \u001b[38;5;124mf\u001b[39m\u001b[38;5;124m'\u001b[39m\u001b[38;5;124mSee https://www.tensorflow.org/install/errors \u001b[39m\u001b[38;5;124m'\u001b[39m\n\u001b[0;32m     92\u001b[0m       \u001b[38;5;124mf\u001b[39m\u001b[38;5;124m'\u001b[39m\u001b[38;5;124mfor some common causes and solutions.\u001b[39m\u001b[38;5;130;01m\\n\u001b[39;00m\u001b[38;5;124m'\u001b[39m\n\u001b[0;32m     93\u001b[0m       \u001b[38;5;124mf\u001b[39m\u001b[38;5;124m'\u001b[39m\u001b[38;5;124mIf you need help, create an issue \u001b[39m\u001b[38;5;124m'\u001b[39m\n\u001b[0;32m     94\u001b[0m       \u001b[38;5;124mf\u001b[39m\u001b[38;5;124m'\u001b[39m\u001b[38;5;124mat https://github.com/tensorflow/tensorflow/issues \u001b[39m\u001b[38;5;124m'\u001b[39m\n\u001b[0;32m     95\u001b[0m       \u001b[38;5;124mf\u001b[39m\u001b[38;5;124m'\u001b[39m\u001b[38;5;124mand include the entire stack trace above this error message.\u001b[39m\u001b[38;5;124m'\u001b[39m)\n\u001b[0;32m     97\u001b[0m \u001b[38;5;66;03m# pylint: enable=wildcard-import,g-import-not-at-top,unused-import,line-too-long\u001b[39;00m\n",
      "\u001b[1;31mImportError\u001b[0m: Traceback (most recent call last):\n  File \"C:\\Users\\Anwesa Panja\\AppData\\Local\\Programs\\Python\\Python311\\Lib\\site-packages\\tensorflow\\python\\pywrap_tensorflow.py\", line 73, in <module>\n    from tensorflow.python._pywrap_tensorflow_internal import *\nImportError: DLL load failed while importing _pywrap_tensorflow_internal: A dynamic link library (DLL) initialization routine failed.\n\n\nFailed to load the native TensorFlow runtime.\nSee https://www.tensorflow.org/install/errors for some common causes and solutions.\nIf you need help, create an issue at https://github.com/tensorflow/tensorflow/issues and include the entire stack trace above this error message."
     ]
    }
   ],
   "source": []
  },
  {
   "cell_type": "code",
   "execution_count": null,
   "id": "cfad88d4-9e86-4ac9-8724-d33bbb40a721",
   "metadata": {},
   "outputs": [],
   "source": []
  }
 ],
 "metadata": {
  "kernelspec": {
   "display_name": "Python 3 (ipykernel)",
   "language": "python",
   "name": "python3"
  },
  "language_info": {
   "codemirror_mode": {
    "name": "ipython",
    "version": 3
   },
   "file_extension": ".py",
   "mimetype": "text/x-python",
   "name": "python",
   "nbconvert_exporter": "python",
   "pygments_lexer": "ipython3",
   "version": "3.11.4"
  }
 },
 "nbformat": 4,
 "nbformat_minor": 5
}
