{
 "cells": [
  {
   "cell_type": "markdown",
   "id": "a7ce2583-ceae-494b-919b-fb2b8b7faed1",
   "metadata": {},
   "source": [
    "### Hacker_Rank question solve:-------------------------------------"
   ]
  },
  {
   "cell_type": "code",
   "execution_count": 1,
   "id": "9a2e4705-a0fe-47ff-943a-e804cecc3497",
   "metadata": {},
   "outputs": [],
   "source": [
    "# process:-----------------\n",
    "# rule 1:------\n",
    "    #read the question 1st Go\n",
    "#rule 2:-------\n",
    "    #Focus on user input\n",
    "#rule 3:-------\n",
    "    #focus on the output\n",
    "#rule 4:------\n",
    "    #read the explaination\n",
    "#rule 5:-------------\n",
    "    #focus on the constraints\n",
    "        #1. space constraints\n",
    "        #2. time constraints\n",
    "#rule 6:---------------\n",
    "    #focus public Test cases\n",
    "\n",
    "#upto step:---6 complete with in 2-4 mint\n",
    "\n",
    "#rule 7:--------------\n",
    "    #Now start coding\n",
    " "
   ]
  },
  {
   "cell_type": "code",
   "execution_count": 2,
   "id": "8a46f904-63b4-45c6-8ae5-fca31c3d47e5",
   "metadata": {},
   "outputs": [],
   "source": [
    "# strip ar kaj:------------------\n",
    "#it will remove leading and trailing spaces."
   ]
  },
  {
   "cell_type": "code",
   "execution_count": null,
   "id": "88051f1b-0b87-4947-9b90-83664d542f87",
   "metadata": {},
   "outputs": [],
   "source": []
  }
 ],
 "metadata": {
  "kernelspec": {
   "display_name": "Python 3 (ipykernel)",
   "language": "python",
   "name": "python3"
  },
  "language_info": {
   "codemirror_mode": {
    "name": "ipython",
    "version": 3
   },
   "file_extension": ".py",
   "mimetype": "text/x-python",
   "name": "python",
   "nbconvert_exporter": "python",
   "pygments_lexer": "ipython3",
   "version": "3.11.4"
  }
 },
 "nbformat": 4,
 "nbformat_minor": 5
}
