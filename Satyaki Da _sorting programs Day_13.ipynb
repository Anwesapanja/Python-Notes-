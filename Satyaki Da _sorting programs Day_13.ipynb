{
 "cells": [
  {
   "cell_type": "code",
   "execution_count": 1,
   "id": "27058692-a202-43dc-a546-0b74f446319f",
   "metadata": {},
   "outputs": [
    {
     "name": "stdout",
     "output_type": "stream",
     "text": [
      "[10, 5, 8, 9, 15]\n",
      "[5, 8, 9, 10, 15]\n"
     ]
    }
   ],
   "source": [
    "## 1...Sort one dimensional list in ascending order:--------------------------------\n",
    "x=[10,5,8,9,15]\n",
    "print(x)\n",
    "x.sort()\n",
    "print(x)"
   ]
  },
  {
   "cell_type": "code",
   "execution_count": 2,
   "id": "cfeed551-1aec-447a-b03b-3cbe94ae9299",
   "metadata": {},
   "outputs": [
    {
     "name": "stdout",
     "output_type": "stream",
     "text": [
      "[10, 5, 8, 9, 15]\n",
      "[15, 10, 9, 8, 5]\n"
     ]
    }
   ],
   "source": [
    "####2...Sort one dimensional list in descending order:--------------------------------\n",
    "x=[10,5,8,9,15]\n",
    "print(x)\n",
    "x.sort(reverse=True)\n",
    "print(x)"
   ]
  },
  {
   "cell_type": "code",
   "execution_count": 3,
   "id": "62e209a2-bcf6-4278-a2e0-20908cc175bf",
   "metadata": {},
   "outputs": [],
   "source": [
    "#Note:---\n",
    "#sort() vs ## sorted()\n"
   ]
  },
  {
   "cell_type": "code",
   "execution_count": 4,
   "id": "f89e0519-71c0-4217-ae73-43b91b2b0ebd",
   "metadata": {},
   "outputs": [
    {
     "name": "stdout",
     "output_type": "stream",
     "text": [
      "[10, 5, 8, 9, 15]\n",
      "[5, 8, 9, 10, 15]\n"
     ]
    }
   ],
   "source": [
    "x=[10,5,8,9,15]\n",
    "print(x)\n",
    "x.sort()\n",
    "print(x)"
   ]
  },
  {
   "cell_type": "code",
   "execution_count": 6,
   "id": "278a0b3d-bda5-4d3f-8a15-f71ab7f77e2f",
   "metadata": {},
   "outputs": [
    {
     "name": "stdout",
     "output_type": "stream",
     "text": [
      "[10, 5, 8, 9, 15]\n",
      "[10, 5, 8, 9, 15]\n",
      "[5, 8, 9, 10, 15]\n"
     ]
    }
   ],
   "source": [
    "x=[10,5,8,9,15]\n",
    "print(x)\n",
    "y=sorted(x)\n",
    "print(x)  ## x ar modhe kono modification hoche naa\n",
    "print(y)  ## y ar modhe modification hoche"
   ]
  },
  {
   "cell_type": "code",
   "execution_count": 7,
   "id": "85250743-7a83-4e50-bdc8-696ea8e190d3",
   "metadata": {},
   "outputs": [],
   "source": [
    "## In case of sort it will modify the original list\n",
    "## in case of sorted it doesnot modify the original list\n",
    "## It will return back the result."
   ]
  },
  {
   "cell_type": "code",
   "execution_count": 12,
   "id": "df5f6e5e-e6d7-4203-a7de-7c5d5aee63c9",
   "metadata": {},
   "outputs": [
    {
     "name": "stdout",
     "output_type": "stream",
     "text": [
      "['Niladri', 'Sristhi', 'Moumita', 'Rai', 'Ankita']\n",
      "['Rai', 'Ankita', 'Niladri', 'Sristhi', 'Moumita']\n"
     ]
    }
   ],
   "source": [
    "## length wise:------------------sorting\n",
    "##3.. ##sort a list of strings based on their length\n",
    "x=['Niladri','Sristhi','Moumita','Rai','Ankita']\n",
    "print(x)\n",
    "y=sorted(x,key=len)\n",
    "print(y)"
   ]
  },
  {
   "cell_type": "code",
   "execution_count": 13,
   "id": "03932965-b8bf-481b-a87f-1d007dae266c",
   "metadata": {},
   "outputs": [],
   "source": [
    "## key = len\n",
    "##that means we are sorting string elements based on their length\n",
    "##here if more than one string has same length,it follows the order as they are inserted"
   ]
  },
  {
   "cell_type": "code",
   "execution_count": null,
   "id": "4e02003f-449a-483a-86b5-878396dbc891",
   "metadata": {},
   "outputs": [],
   "source": []
  },
  {
   "cell_type": "code",
   "execution_count": 18,
   "id": "79a21f78-5d2a-469d-acce-4c025b1e237b",
   "metadata": {},
   "outputs": [
    {
     "name": "stdout",
     "output_type": "stream",
     "text": [
      "['Niladri', 'Sristhi', 'Moumita', 'Rai', 'Ankita']\n",
      "['Rai', 'Ankita', 'Moumita', 'Niladri', 'Sristhi']\n"
     ]
    }
   ],
   "source": [
    "### 4..Sort a list of string based on their length and alphabetical ascending order\n",
    "x=['Niladri','Sristhi','Moumita','Rai','Ankita']\n",
    "print(x)\n",
    "y=sorted(x,key=lambda item:(len(item),item))\n",
    "print(y)\n",
    "## jokhon length same hoye jai..then alphabetical order ta activate hoy"
   ]
  },
  {
   "cell_type": "code",
   "execution_count": 19,
   "id": "51bf2965-1b5d-464b-bd37-ed3819edfd37",
   "metadata": {},
   "outputs": [],
   "source": [
    "# key=lambda item:(len(item),item)\n",
    "## here:---\n",
    "##firstly sorting will be upon len(item),\n",
    "## if len(item) it returns multiple string of same length,\n",
    "## then it will take help from next one \"item\""
   ]
  },
  {
   "cell_type": "code",
   "execution_count": 21,
   "id": "8968dbc0-4cef-40f8-b41e-163544cd6181",
   "metadata": {},
   "outputs": [
    {
     "name": "stdout",
     "output_type": "stream",
     "text": [
      "['Niladri', 'Sristhi', 'Moumita', 'Rai', 'Ankita']\n",
      "['Sristhi', 'Niladri', 'Moumita', 'Ankita', 'Rai']\n"
     ]
    }
   ],
   "source": [
    "### 5..Sort a list of string based on their length and alphabetical both in decending order\n",
    "x=['Niladri','Sristhi','Moumita','Rai','Ankita']\n",
    "print(x)\n",
    "y=sorted(x,key=lambda item:(len(item),item),reverse=True)\n",
    "print(y)\n",
    "## jokhon length same hoye jai..then alphabetical order ta activate hoy"
   ]
  },
  {
   "cell_type": "code",
   "execution_count": 22,
   "id": "3ffa289a-ea41-479e-ab4f-adebffbd5227",
   "metadata": {},
   "outputs": [],
   "source": [
    "## 6...Reverse Sort based on length\n",
    "## same length will follow Alphabetical order\n",
    "\n",
    "## Input:-- ['Sristi','Moumita','Niladri','Rai','Ankita']\n",
    "## Output:-- ['Moumita','Niladri','Ankita','Sristi','Rai']"
   ]
  },
  {
   "cell_type": "code",
   "execution_count": 23,
   "id": "e2040022-0471-48c3-ad00-dd93faa33ee4",
   "metadata": {},
   "outputs": [
    {
     "name": "stdout",
     "output_type": "stream",
     "text": [
      "['Sristi', 'Moumita', 'Niladri', 'Rai', 'Ankita']\n",
      "['Moumita', 'Niladri', 'Ankita', 'Sristi', 'Rai']\n"
     ]
    }
   ],
   "source": [
    "x=['Sristi','Moumita','Niladri','Rai','Ankita']\n",
    "print(x)\n",
    "y=sorted(x,key=lambda item:(-len(item),item))\n",
    "print(y)"
   ]
  },
  {
   "cell_type": "code",
   "execution_count": 28,
   "id": "4f9c05be-1618-4d05-a58b-2f0f068a10ec",
   "metadata": {},
   "outputs": [
    {
     "name": "stdout",
     "output_type": "stream",
     "text": [
      "[[10, 99], [15, 21], [45, 54], [85, 41], [10, 98]]\n",
      "[[10, 98], [10, 99], [15, 21], [45, 54], [85, 41]]\n",
      "[[15, 21], [85, 41], [45, 54], [10, 98], [10, 99]]\n"
     ]
    }
   ],
   "source": [
    "##7.. sort 2D array:---------------------\n",
    "##-------------------------------------------\n",
    "x=[[10,99],[15,21],[45,54],[85,41],[10,98]]\n",
    "print(x)\n",
    "x.sort() ## by defalut 0th index number will take part in sorting\n",
    "print(x) ## based on first ar ta\n",
    "## jodi 2nd element ar opor kaj korte hoy we needlambda\n",
    "## sort 2llist based on 2nd index\n",
    "x.sort(key=lambda item:item[1])\n",
    "print(x)"
   ]
  },
  {
   "cell_type": "code",
   "execution_count": 29,
   "id": "39771d3b-8771-4b04-9b21-144e2b987e17",
   "metadata": {},
   "outputs": [],
   "source": [
    "## But if two elements have same number\n",
    "##ex:-- [10,99],[10,98]\n",
    "## then we will break the tie based on 2nd index value 98 then 99.\n",
    "##final answer:-- [10,98],[10,99]"
   ]
  },
  {
   "cell_type": "code",
   "execution_count": 32,
   "id": "5f7fa946-e42a-47a4-914d-18a387d00159",
   "metadata": {},
   "outputs": [
    {
     "name": "stdout",
     "output_type": "stream",
     "text": [
      "[['Abhishek', 47], ['Pritha', 48], ['Ayushee', 49], ['Moumita', 50]]\n",
      "[['Moumita', 50], ['Ayushee', 49], ['Pritha', 48], ['Abhishek', 47]]\n",
      "Moumita\n",
      "Ayushee\n",
      "Pritha\n",
      "Abhishek\n"
     ]
    }
   ],
   "source": [
    "## if we want to make sorting only based on 2nd element:--\n",
    "##--------------------------------------------------------------\n",
    "x=[['Pritha',48],['Ayushee',49],['Abhishek',47],['Moumita',50]]\n",
    "## je heightest marks ta k agee rakhte hobe\n",
    "x.sort(key=lambda item:item[1])\n",
    "print(x)\n",
    "x.sort(key=lambda item:item[1],reverse=True)\n",
    "print(x)\n",
    "##only print the name:--\n",
    "for i in x:\n",
    "    print(i[0])"
   ]
  },
  {
   "cell_type": "code",
   "execution_count": 33,
   "id": "20fd7217-5763-4afe-9048-2694d12bfd4a",
   "metadata": {},
   "outputs": [
    {
     "name": "stdout",
     "output_type": "stream",
     "text": [
      "Moumita ,Ayushee ,Pritha ,Abhishek\n"
     ]
    }
   ],
   "source": [
    "##*******************************\n",
    "for i in range(len(x)-1):\n",
    "    print(x[i][0],end=' ,')\n",
    "print(x[i+1][0])    "
   ]
  },
  {
   "cell_type": "code",
   "execution_count": 40,
   "id": "5e8e6ba8-7814-4f95-acb5-df419a876629",
   "metadata": {},
   "outputs": [
    {
     "name": "stdout",
     "output_type": "stream",
     "text": [
      "[['Pritha', [10, 20, 30]], ['Ayushee', [49, 85, 45]], ['Abhishek', [98, 14, 25]]]\n",
      "[['Pritha', [10, 20, 30]], ['Abhishek', [98, 14, 25]], ['Ayushee', [49, 85, 45]]]\n",
      "[['Ayushee', [49, 85, 45]], ['Abhishek', [98, 14, 25]], ['Pritha', [10, 20, 30]]]\n"
     ]
    }
   ],
   "source": [
    "##sort based on sum of marks:-----------\n",
    "##-------------------------------------\n",
    "x=[['Pritha',[10,20,30]],['Ayushee',[49,85,45]],['Abhishek',[98,14,25]]]\n",
    "print(x)\n",
    "x.sort(key=lambda item:sum(item[1]))\n",
    "print(x)\n",
    "x.sort(key=lambda item:sum(item[1]),reverse=True)\n",
    "print(x)\n"
   ]
  },
  {
   "cell_type": "code",
   "execution_count": 42,
   "id": "532d3347-7733-4ade-b298-0a2b8b7d4cb3",
   "metadata": {},
   "outputs": [
    {
     "name": "stdout",
     "output_type": "stream",
     "text": [
      "[['Pritha', [10, 20, 30]], ['Ayushee', [49, 85, 45]], ['Abhishek', [98, 14, 25]]]\n",
      "------------------\n",
      "[['Pritha', [10, 20, 30]], ['Ayushee', [49, 85, 45]], ['Abhishek', [98, 14, 25]]]\n",
      "--------------------\n",
      "[['Abhishek', [98, 14, 25]], ['Ayushee', [49, 85, 45]], ['Pritha', [10, 20, 30]]]\n"
     ]
    }
   ],
   "source": [
    "## Solve based on max marks:-----------\n",
    "##-------------------------\n",
    "x=[['Pritha',[10,20,30]],['Ayushee',[49,85,45]],['Abhishek',[98,14,25]]]\n",
    "print(x)\n",
    "print(\"------------------\")\n",
    "x.sort(key=lambda item:max(item[1]))\n",
    "print(x)\n",
    "print(\"--------------------\")\n",
    "x.sort(key=lambda item:max(item[1]),reverse=True)\n",
    "print(x)"
   ]
  },
  {
   "cell_type": "code",
   "execution_count": 50,
   "id": "a14e091e-fad0-447d-a076-e34e2ed9c9fc",
   "metadata": {},
   "outputs": [
    {
     "name": "stdout",
     "output_type": "stream",
     "text": [
      "[[10, 20], [15, 20], [45, 54], [85, 20], [10, 98]]\n",
      "[[10, 20], [10, 98], [15, 20], [45, 54], [85, 20]]\n",
      "---------------------------\n",
      "[[10, 20], [15, 20], [85, 20], [45, 54], [10, 98]]\n",
      "----------------------------------\n",
      "[[85, 20], [15, 20], [10, 20], [45, 54], [10, 98]]\n"
     ]
    }
   ],
   "source": [
    "x=[[10,20],[15,20],[45,54],[85,20],[10,98]]\n",
    "print(x)\n",
    "x.sort()\n",
    "print(x)\n",
    "## sorting based on 2nd index\n",
    "print(\"---------------------------\")\n",
    "x.sort(key=lambda item:item[1])\n",
    "print(x)\n",
    "print(\"----------------------------------\")\n",
    "x.sort(key=lambda item:(item[1],-item[0]))\n",
    "print(x)\n"
   ]
  },
  {
   "cell_type": "code",
   "execution_count": 53,
   "id": "e7c6fb35-88e8-4813-92cf-0a86b453c54b",
   "metadata": {},
   "outputs": [
    {
     "name": "stdout",
     "output_type": "stream",
     "text": [
      "[['Pritha', [10, 20, 30]], ['Ayushee', [49, 85, 45]], ['Abhishek', [98, 14, 25]]]\n",
      "[['Abhishek', [98, 14, 25]], ['Pritha', [10, 20, 30]], ['Ayushee', [49, 85, 45]]]\n",
      "[['Ayushee', [49, 85, 45]], ['Pritha', [10, 20, 30]], ['Abhishek', [98, 14, 25]]]\n"
     ]
    }
   ],
   "source": [
    "## 2nd index ar 2nd element ar base kore sorting:-----------\n",
    "##---------------------------------------------\n",
    "x=[['Pritha',[10,20,30]],['Ayushee',[49,85,45]],['Abhishek',[98,14,25]]]\n",
    "print(x)\n",
    "x.sort(key=lambda item:item[1][1])\n",
    "print(x)\n",
    "x.sort(key=lambda item:(item[1][1]),reverse=True)\n",
    "print(x)\n"
   ]
  },
  {
   "cell_type": "code",
   "execution_count": 65,
   "id": "93da0b4d-847e-4bd6-9712-0af1728555fe",
   "metadata": {},
   "outputs": [
    {
     "name": "stdout",
     "output_type": "stream",
     "text": [
      "[['Pritha', [10, 20, 30], [100]], ['Ayushee', [49, 85, 45], [50]], ['Abhishek', [98, 14, 25], [250]]]\n",
      "_----------------------------_\n",
      "[['Abhishek', [98, 14, 25], [250]], ['Pritha', [10, 20, 30], [100]], ['Ayushee', [49, 85, 45], [50]]]\n",
      "--------------------------------------------------------------\n",
      "[['Ayushee', [49, 85, 45], [50]], ['Pritha', [10, 20, 30], [100]], ['Abhishek', [98, 14, 25], [250]]]\n"
     ]
    }
   ],
   "source": [
    "x=[['Pritha',[10,20,30],[100]],['Ayushee',[49,85,45],[50]],['Abhishek',[98,14,25],[250]]]\n",
    "print(x)\n",
    "print(\"_----------------------------_\")\n",
    "x.sort(key=lambda item:(item[2]),reverse=True)\n",
    "print(x)\n",
    "print(\"--------------------------------------------------------------\")\n",
    "x.sort(key=lambda item:(item[2]))\n",
    "print(x)"
   ]
  },
  {
   "cell_type": "code",
   "execution_count": null,
   "id": "9122a26d-f9e4-40f2-9dbd-8a16ad63ecb3",
   "metadata": {},
   "outputs": [],
   "source": []
  }
 ],
 "metadata": {
  "kernelspec": {
   "display_name": "Python 3 (ipykernel)",
   "language": "python",
   "name": "python3"
  },
  "language_info": {
   "codemirror_mode": {
    "name": "ipython",
    "version": 3
   },
   "file_extension": ".py",
   "mimetype": "text/x-python",
   "name": "python",
   "nbconvert_exporter": "python",
   "pygments_lexer": "ipython3",
   "version": "3.11.4"
  }
 },
 "nbformat": 4,
 "nbformat_minor": 5
}
