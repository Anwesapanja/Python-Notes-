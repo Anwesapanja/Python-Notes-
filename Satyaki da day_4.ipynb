{
 "cells": [
  {
   "cell_type": "markdown",
   "id": "c67aba38-aaed-4d30-8c8e-0c748630c267",
   "metadata": {},
   "source": [
    "logical operator"
   ]
  },
  {
   "cell_type": "code",
   "execution_count": 2,
   "id": "db484b36-6b93-48c7-aa17-b9bcdecb95a1",
   "metadata": {},
   "outputs": [
    {
     "name": "stdout",
     "output_type": "stream",
     "text": [
      "False\n",
      "True\n",
      "False\n",
      "False\n",
      "True\n",
      "True\n"
     ]
    }
   ],
   "source": [
    "x=10\n",
    "y=20\n",
    "z=x>y\n",
    "print(z)\n",
    "z=x<y\n",
    "print(z)\n",
    "z=x==y\n",
    "print(z)\n",
    "z=(x>=y)\n",
    "print(z)\n",
    "z=(x<=y)\n",
    "print(z)\n",
    "z=x!=y\n",
    "print(z)"
   ]
  },
  {
   "cell_type": "markdown",
   "id": "72b4a809-6ce3-4b49-9d59-891498802c4c",
   "metadata": {},
   "source": [
    "in python when we using logical operator , it will return back True or False"
   ]
  },
  {
   "cell_type": "markdown",
   "id": "b3edd588-78de-474f-af24-ae12cd3fb457",
   "metadata": {},
   "source": [
    " ### Loop:----"
   ]
  },
  {
   "cell_type": "markdown",
   "id": "d5d4e4da-cc73-442a-990d-aecf879c8446",
   "metadata": {},
   "source": [
    "##### for loop\n",
    "##### while loop"
   ]
  },
  {
   "cell_type": "code",
   "execution_count": 14,
   "id": "59ee0db2-429b-426e-b94d-2cca46fa7e6d",
   "metadata": {},
   "outputs": [],
   "source": [
    "#General Syntax:------\n",
    "## for i in range(start,end+1,step):\n",
    "        #statement"
   ]
  },
  {
   "cell_type": "code",
   "execution_count": 5,
   "id": "128c9e45-0d2e-4016-b262-99793171adfc",
   "metadata": {},
   "outputs": [
    {
     "name": "stdout",
     "output_type": "stream",
     "text": [
      "0\n",
      "1\n",
      "2\n",
      "3\n",
      "4\n",
      "5\n",
      "6\n",
      "7\n",
      "8\n",
      "9\n"
     ]
    }
   ],
   "source": [
    "for i in range(10):\n",
    "    print(i)"
   ]
  },
  {
   "cell_type": "code",
   "execution_count": 6,
   "id": "30274b78-42ea-47e7-bc8b-880087a2b2c9",
   "metadata": {},
   "outputs": [],
   "source": [
    "## Here we have written, print(i)==>> Here i will be printed with a newline"
   ]
  },
  {
   "cell_type": "code",
   "execution_count": 13,
   "id": "7651232b-909d-4faa-99fc-c91c1bee4489",
   "metadata": {},
   "outputs": [
    {
     "name": "stdout",
     "output_type": "stream",
     "text": [
      "0 1 2 3 4 5 6 7 8 9 "
     ]
    }
   ],
   "source": [
    "##jodi amra pashapashi chaiii........\n",
    "for i in range(10):\n",
    "    print(i,end=' ')\n",
    "    "
   ]
  },
  {
   "cell_type": "code",
   "execution_count": 15,
   "id": "d6d9a5af-7900-4ca3-98b7-43cf289e531f",
   "metadata": {},
   "outputs": [],
   "source": [
    "## here we can replace '\\n' by space"
   ]
  },
  {
   "cell_type": "code",
   "execution_count": 16,
   "id": "5b753089-0a85-4eea-89d5-58a4ec74e520",
   "metadata": {},
   "outputs": [
    {
     "name": "stdout",
     "output_type": "stream",
     "text": [
      "0 1 2 3 4 5 6 7 8 9 "
     ]
    }
   ],
   "source": [
    "for i in range(0,10,1):\n",
    "    print(i,end=' ')"
   ]
  },
  {
   "cell_type": "markdown",
   "id": "4a9fd0f5-3f65-4575-9277-cccb7cd120ba",
   "metadata": {},
   "source": [
    "#Here start =0\n",
    "#end+1=10\n",
    "#step=1\n",
    "# that means the loop wil be iterated from 0 to 9 \n",
    "#and increamented by 1"
   ]
  },
  {
   "cell_type": "code",
   "execution_count": 19,
   "id": "40bfa136-4bf7-44ed-b499-9b0fb75fc67a",
   "metadata": {},
   "outputs": [
    {
     "name": "stdout",
     "output_type": "stream",
     "text": [
      "6 7 8 9 10 "
     ]
    }
   ],
   "source": [
    "#print 6 to 10 using for loop :---------\n",
    "#start=6, end+1=11, step=1\n",
    "for i in range(6,11,1):\n",
    "    print(i, end=' ')"
   ]
  },
  {
   "cell_type": "markdown",
   "id": "2fa64694-95b8-41f5-bab0-b40654a5d839",
   "metadata": {},
   "source": [
    "Alternative way:---------"
   ]
  },
  {
   "cell_type": "code",
   "execution_count": 21,
   "id": "6b4bec38-964d-474e-a52b-eff8fad11367",
   "metadata": {},
   "outputs": [
    {
     "name": "stdout",
     "output_type": "stream",
     "text": [
      "6 7 8 9 10 "
     ]
    }
   ],
   "source": [
    "for i in range(6,11):\n",
    "    print(i,end=' ')"
   ]
  },
  {
   "cell_type": "code",
   "execution_count": 23,
   "id": "197e6be2-768b-4660-a72c-9b342a368a14",
   "metadata": {},
   "outputs": [],
   "source": [
    "##here start=6\n",
    "# end+1=11\n",
    "## step is not mentioned here, so step =1 (By default)"
   ]
  },
  {
   "cell_type": "code",
   "execution_count": 40,
   "id": "24e901cc-a806-4d70-b4ec-ce9327a3c162",
   "metadata": {},
   "outputs": [],
   "source": [
    "import tensorflow as tf\n",
    "import pandas as pd\n",
    "import matplotlib.pyplot as plt\n",
    "import seaborn as sns\n"
   ]
  },
  {
   "cell_type": "code",
   "execution_count": 41,
   "id": "b351c5fe-a9d6-450f-a18d-81a3b3d60a38",
   "metadata": {},
   "outputs": [
    {
     "name": "stdout",
     "output_type": "stream",
     "text": [
      "tf.Tensor(1010.753, shape=(), dtype=float32)\n"
     ]
    }
   ],
   "source": [
    "import tensorflow as tf\n",
    "print(tf.reduce_sum(tf.random.normal([1000, 1000])))"
   ]
  },
  {
   "cell_type": "code",
   "execution_count": 39,
   "id": "2a2f67da-3ed0-41d9-b53c-f52f01c7a616",
   "metadata": {},
   "outputs": [
    {
     "name": "stdout",
     "output_type": "stream",
     "text": [
      "[]\n"
     ]
    }
   ],
   "source": [
    "import tensorflow as tf\n",
    "print(tf.config.list_physical_devices('GPU'))"
   ]
  },
  {
   "cell_type": "markdown",
   "id": "8d7211ba-3657-45d7-89a9-09cdb4b07f67",
   "metadata": {},
   "source": [
    "##### Print 6 ro 50 incremented by 7"
   ]
  },
  {
   "cell_type": "code",
   "execution_count": 42,
   "id": "59aa2604-c2b9-4772-abd9-da8de80e702c",
   "metadata": {},
   "outputs": [
    {
     "name": "stdout",
     "output_type": "stream",
     "text": [
      "6 13 20 27 34 41 48 "
     ]
    }
   ],
   "source": [
    "for i in range (6,51,7):\n",
    "    print(i,end=\" \")"
   ]
  },
  {
   "cell_type": "markdown",
   "id": "230b06a9-1c04-40c9-b959-f28fc3d2e843",
   "metadata": {},
   "source": [
    "###### print 50 to 1 in reverse order"
   ]
  },
  {
   "cell_type": "code",
   "execution_count": 43,
   "id": "c0fb2507-8676-4fc6-b985-f4e76cae25a9",
   "metadata": {},
   "outputs": [
    {
     "name": "stdout",
     "output_type": "stream",
     "text": [
      "50 49 48 47 46 45 44 43 42 41 40 39 38 37 36 35 34 33 32 31 30 29 28 27 26 25 24 23 22 21 20 19 18 17 16 15 14 13 12 11 10 9 8 7 6 5 4 3 2 1 "
     ]
    }
   ],
   "source": [
    "for i in range(50,0,-1):\n",
    "    print(i,end=\" \")"
   ]
  },
  {
   "cell_type": "code",
   "execution_count": 44,
   "id": "b1028a88-eb6d-4bfa-bfc2-51f76422dba3",
   "metadata": {},
   "outputs": [],
   "source": [
    "##for reverse order :----------\n",
    "        ### general order:---------------\n",
    "##       range(start,end+1,-step)"
   ]
  },
  {
   "cell_type": "code",
   "execution_count": 47,
   "id": "a06020a8-e9e5-4b2c-ac04-7b3bf75fdc3c",
   "metadata": {},
   "outputs": [
    {
     "name": "stdout",
     "output_type": "stream",
     "text": [
      "50 46 42 38 34 30 26 22 18 14 10 6 2 "
     ]
    }
   ],
   "source": [
    "for i in range(50,0,-4):\n",
    "    print(i,end=\" \")"
   ]
  },
  {
   "cell_type": "code",
   "execution_count": 50,
   "id": "8c8c1c3a-1dca-4e59-81e8-3246e3e11455",
   "metadata": {},
   "outputs": [],
   "source": [
    "#Brief:----------------------------\n",
    "# range(10):-- range(start=0,end+1=10,step=1)\n",
    "# range(2,10):--- range(start=2,end+=10,step=1)\n",
    "# range(2,10,3):--- range(start=2,end+1=10,step=3)\n",
    "# range(50,0,-4):-- range(start=0,end-1=10,step=-4) ## print 50 to 1 in reverse oder with gao 4"
   ]
  },
  {
   "cell_type": "code",
   "execution_count": 52,
   "id": "76fa4458-8274-4ea1-acb7-b1aced5c1ca9",
   "metadata": {},
   "outputs": [
    {
     "name": "stdout",
     "output_type": "stream",
     "text": [
      "50 49 48 47 46 45 44 43 42 41 40 39 38 37 36 35 34 33 32 31 30 29 28 27 26 25 24 23 22 21 20 19 18 17 16 15 14 13 12 11 10 9 8 7 6 5 4 3 2 1 "
     ]
    }
   ],
   "source": [
    " for i in  range(50,0,-1):\n",
    "     print(i,end=\" \")"
   ]
  },
  {
   "cell_type": "markdown",
   "id": "83ad1a44-0cdb-451a-8e62-df72684dcba3",
   "metadata": {},
   "source": [
    "### while loop"
   ]
  },
  {
   "cell_type": "markdown",
   "id": "1e55f5b1-0ad4-4952-993c-24b10ffb2134",
   "metadata": {},
   "source": [
    "Generalization"
   ]
  },
  {
   "cell_type": "code",
   "execution_count": 1,
   "id": "e4f94c58-6b2f-4bb0-a00c-d568eecd2198",
   "metadata": {},
   "outputs": [],
   "source": [
    "#initialization\n",
    "# while condition:\n",
    "        #statement\n",
    "        # increment/decreement"
   ]
  },
  {
   "cell_type": "markdown",
   "id": "3063113e-67a0-49c4-951a-11f8b28ab9ce",
   "metadata": {},
   "source": [
    "##### print 1 to 10 using while loop:---------"
   ]
  },
  {
   "cell_type": "code",
   "execution_count": 4,
   "id": "f1291143-78dc-4603-95a7-e176bce0ba59",
   "metadata": {},
   "outputs": [
    {
     "name": "stdout",
     "output_type": "stream",
     "text": [
      "1 2 3 4 5 6 7 8 9 10 "
     ]
    }
   ],
   "source": [
    "i=1 #-------------->initialization\n",
    "while i<=10:#------------------->condition\n",
    "    print(i,end=\" \")\n",
    "    i=i+1#--------------> increment/decrement \n",
    "#in python there is no operator like ++i ,i++ or i--,--i are not available in python \n",
    "    "
   ]
  },
  {
   "cell_type": "code",
   "execution_count": 5,
   "id": "a193cef4-3bd6-4894-9c2e-3b138e61bf93",
   "metadata": {},
   "outputs": [
    {
     "name": "stdout",
     "output_type": "stream",
     "text": [
      "1 2 3 4  \n",
      "5\n"
     ]
    }
   ],
   "source": [
    "i=1\n",
    "while i<=4:\n",
    "    print(i,end=\" \")\n",
    "    i=i+1\n",
    "print(\" \")\n",
    "print(i)\n",
    "    "
   ]
  },
  {
   "cell_type": "code",
   "execution_count": 7,
   "id": "d7c8471e-3162-4953-88df-d359831e4b0c",
   "metadata": {},
   "outputs": [
    {
     "name": "stdout",
     "output_type": "stream",
     "text": [
      "0 hello\n",
      "1 hello\n",
      "2 hello\n",
      "3 hello\n",
      "4 hello\n"
     ]
    }
   ],
   "source": [
    "i=0\n",
    "while i<=4:\n",
    "    print(i,\"hello\")\n",
    "    i+=1"
   ]
  },
  {
   "cell_type": "markdown",
   "id": "565ec32a-e469-4512-bf30-b52e8d390fc2",
   "metadata": {},
   "source": [
    "### Conditional Statements in Python:----"
   ]
  },
  {
   "cell_type": "code",
   "execution_count": 6,
   "id": "2af806a3-51fc-4b67-9f06-082e3d9716b9",
   "metadata": {},
   "outputs": [],
   "source": [
    "## Dangling if\n",
    "## Basic if-else\n",
    "## Ladder if-else\n",
    "## Nested if-else"
   ]
  },
  {
   "cell_type": "markdown",
   "id": "9123ba04-aaab-46f0-8e48-75309f216c58",
   "metadata": {},
   "source": [
    "#### Dangling if"
   ]
  },
  {
   "cell_type": "code",
   "execution_count": 8,
   "id": "3f54b98f-1468-42d9-843e-3b6181c12859",
   "metadata": {},
   "outputs": [],
   "source": [
    "## if condition:\n",
    "        #statement"
   ]
  },
  {
   "cell_type": "code",
   "execution_count": 9,
   "id": "f9b6e413-538b-4281-a5f0-c6e706bd94fc",
   "metadata": {},
   "outputs": [
    {
     "name": "stdout",
     "output_type": "stream",
     "text": [
      "Hello\n"
     ]
    }
   ],
   "source": [
    "if 5<10:\n",
    "    print(\"Hello\")"
   ]
  },
  {
   "cell_type": "markdown",
   "id": "752ddc00-3033-49dd-9c8f-251736b7220a",
   "metadata": {},
   "source": [
    "if 5>10:\n",
    "    print(\"Hello\")\n",
    "\n",
    "# Here else is executed without statement"
   ]
  },
  {
   "cell_type": "markdown",
   "id": "daadc5e0-685e-4b0d-8ca1-08f7fd91ac74",
   "metadata": {},
   "source": [
    "#### Basic if-else:--"
   ]
  },
  {
   "cell_type": "code",
   "execution_count": 13,
   "id": "3208cb88-d57e-4f92-975e-66f912a5377e",
   "metadata": {},
   "outputs": [],
   "source": [
    "#if condition:\n",
    "    #statement\n",
    "#else:\n",
    "    #statement"
   ]
  },
  {
   "cell_type": "code",
   "execution_count": 14,
   "id": "47db9ec8-4391-4b00-ac98-149ea712c87e",
   "metadata": {},
   "outputs": [
    {
     "name": "stdin",
     "output_type": "stream",
     "text": [
      " 12\n",
      " 23\n"
     ]
    },
    {
     "name": "stdout",
     "output_type": "stream",
     "text": [
      "y is greater\n"
     ]
    }
   ],
   "source": [
    "x= int(input())\n",
    "y= int(input())\n",
    "if x>y:\n",
    "    print(\"x is greater\")\n",
    "else:\n",
    "    print(\"y is greater\")\n",
    "    "
   ]
  },
  {
   "cell_type": "markdown",
   "id": "2701e673-6665-4ce5-af0e-080ebf0b52da",
   "metadata": {},
   "source": [
    "##### Ladder if=else:---"
   ]
  },
  {
   "cell_type": "code",
   "execution_count": 16,
   "id": "d5b7337c-3096-4ea5-b06a-7b84e4f5587c",
   "metadata": {},
   "outputs": [],
   "source": [
    "#if condition:\n",
    "    #statement\n",
    "#elif condition:\n",
    "    #statement\n",
    "#elif condition:\n",
    "    #statement\n",
    "#..............\n",
    "#else:\n",
    "    #statement"
   ]
  },
  {
   "cell_type": "code",
   "execution_count": 17,
   "id": "45864317-6700-4fa6-893c-d8c762b9f8a7",
   "metadata": {},
   "outputs": [],
   "source": [
    "# let:---------------------------\n",
    "# 90-100    grade o\n",
    "# 80-89     grade A\n",
    "# 70-79     grade B\n",
    "# 60-69     grade C\n",
    "# 50-59     grade D\n",
    "#less than BYE BYE"
   ]
  },
  {
   "cell_type": "code",
   "execution_count": 19,
   "id": "a8e3d531-cb86-4f1b-a6de-25621602bc10",
   "metadata": {},
   "outputs": [
    {
     "name": "stdin",
     "output_type": "stream",
     "text": [
      " 78\n"
     ]
    },
    {
     "name": "stdout",
     "output_type": "stream",
     "text": [
      "Grade B\n"
     ]
    }
   ],
   "source": [
    "m=int(input())\n",
    "if m>=90 and m<=100:\n",
    "    print(\"Grade O\")\n",
    "elif m>=80 and m<=89:\n",
    "    print(\"Grade A\")\n",
    "elif m>=70 and m<=79:\n",
    "    print(\"Grade B\")\n",
    "elif m>=60 and m<=69:\n",
    "    print(\"Grade C\")\n",
    "elif m>=50 and m<=59:\n",
    "    print(\"Grade D\")\n",
    "else:\n",
    "    print(\"tata bye bye\")\n",
    "    "
   ]
  },
  {
   "cell_type": "markdown",
   "id": "53c9518c-e239-47c4-8880-f343a6d21f15",
   "metadata": {},
   "source": [
    "##### Nested if-else:------"
   ]
  },
  {
   "cell_type": "code",
   "execution_count": 20,
   "id": "73da499a-9c3d-4249-98e4-39a53617b9af",
   "metadata": {},
   "outputs": [],
   "source": [
    "#let:---------\n",
    "# age<18 Minor\n",
    "# age>18 and age<60 Adult\n",
    "# age>60 Senior citizen"
   ]
  },
  {
   "cell_type": "code",
   "execution_count": 21,
   "id": "ed70a8ed-1393-4954-a002-d615905daa11",
   "metadata": {},
   "outputs": [
    {
     "name": "stdin",
     "output_type": "stream",
     "text": [
      " 7\n"
     ]
    },
    {
     "name": "stdout",
     "output_type": "stream",
     "text": [
      "Minor\n"
     ]
    }
   ],
   "source": [
    "age=int(input())\n",
    "if age<18:\n",
    "    print(\"Minor\")\n",
    "else:\n",
    "    if age>60:\n",
    "        print(\"senior citizen\")\n",
    "    else:\n",
    "        print(\"Adult\")"
   ]
  },
  {
   "cell_type": "code",
   "execution_count": 22,
   "id": "351bc9d2-4951-49fe-8489-fe8dae3480e3",
   "metadata": {},
   "outputs": [
    {
     "name": "stdin",
     "output_type": "stream",
     "text": [
      " 45\n"
     ]
    },
    {
     "name": "stdout",
     "output_type": "stream",
     "text": [
      "Adult\n"
     ]
    }
   ],
   "source": [
    "## Another way:--------------\n",
    "#using elif:----------\n",
    "age=int(input())\n",
    "if age<18:\n",
    "    print(\"Minor\")\n",
    "elif age>=18 and age<=60:\n",
    "    print(\"Adult\")\n",
    "else:\n",
    "    print(\"Senior Citizen\")"
   ]
  },
  {
   "cell_type": "code",
   "execution_count": null,
   "id": "772bff50-31b4-456d-b811-b3f3e4b44513",
   "metadata": {},
   "outputs": [],
   "source": []
  }
 ],
 "metadata": {
  "kernelspec": {
   "display_name": "Python 3 (ipykernel)",
   "language": "python",
   "name": "python3"
  },
  "language_info": {
   "codemirror_mode": {
    "name": "ipython",
    "version": 3
   },
   "file_extension": ".py",
   "mimetype": "text/x-python",
   "name": "python",
   "nbconvert_exporter": "python",
   "pygments_lexer": "ipython3",
   "version": "3.11.4"
  }
 },
 "nbformat": 4,
 "nbformat_minor": 5
}
